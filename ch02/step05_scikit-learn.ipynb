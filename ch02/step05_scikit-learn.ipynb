{
 "cells": [
  {
   "cell_type": "markdown",
   "id": "7ce42594-39cf-4467-8769-5056698b4669",
   "metadata": {},
   "source": [
    "scikit-learn은 파이썬에서 머신러닝을 구현할 때 많이 사용되는 라이브러리 중 하나입니다.\n",
    "scikit-learn은 다양한 머신러닝 알고리즘을 제공합니다. 회귀, 분류, 군집화, 차원 축소 등의 다양한 문제를 해결할 수 있는 알고리즘이 구현되어 있습니다. 또한, 데이터 전처리, 모델 선택, 모델 평가 등의 다양한 기능도 제공합니다.\n",
    "scikit-learn은 머신러닝을 구현하는 데 필요한 많은 기능을 제공합니다. 예를 들어, 데이터를 나누는 함수인 train_test_split 함수, 모델을 만드는 함수인 DecisionTreeClassifier, RandomForestClassifier, KMeans 등의 함수들이 대표적입니다.\n",
    "scikit-learn은 다른 머신러닝 라이브러리와 함께 사용할 수 있습니다. 예를 들어, pandas와 함께 사용하면 데이터를 불러오고 전처리하는 과정에서 유용하게 사용할 수 있습니다.\n",
    "scikit-learn은 오픈소스 라이브러리로서, 누구나 사용할 수 있고, 다양한 문서와 예제 코드들이 많이 제공되어 있습니다. 이러한 점들이 scikit-learn을 대중적으로 사용되는 머신러닝 라이브러리 중 하나로 만들어주었습니다."
   ]
  },
  {
   "cell_type": "code",
   "execution_count": 2,
   "id": "e1f15cdc-a4aa-4fb8-ba4b-6ba77dc65f63",
   "metadata": {},
   "outputs": [
    {
     "ename": "ModuleNotFoundError",
     "evalue": "No module named 'lightgbm'",
     "output_type": "error",
     "traceback": [
      "\u001b[1;31m---------------------------------------------------------------------------\u001b[0m",
      "\u001b[1;31mModuleNotFoundError\u001b[0m                       Traceback (most recent call last)",
      "\u001b[1;32m~\\AppData\\Local\\Temp\\ipykernel_45736\\1544401774.py\u001b[0m in \u001b[0;36m<module>\u001b[1;34m\u001b[0m\n\u001b[1;32m----> 1\u001b[1;33m \u001b[1;32mimport\u001b[0m \u001b[0mlightgbm\u001b[0m\u001b[1;33m\u001b[0m\u001b[1;33m\u001b[0m\u001b[0m\n\u001b[0m",
      "\u001b[1;31mModuleNotFoundError\u001b[0m: No module named 'lightgbm'"
     ]
    }
   ],
   "source": [
    "import lightgbm"
   ]
  }
 ],
 "metadata": {
  "kernelspec": {
   "display_name": "Python 3 (ipykernel)",
   "language": "python",
   "name": "python3"
  },
  "language_info": {
   "codemirror_mode": {
    "name": "ipython",
    "version": 3
   },
   "file_extension": ".py",
   "mimetype": "text/x-python",
   "name": "python",
   "nbconvert_exporter": "python",
   "pygments_lexer": "ipython3",
   "version": "3.9.13"
  }
 },
 "nbformat": 4,
 "nbformat_minor": 5
}
