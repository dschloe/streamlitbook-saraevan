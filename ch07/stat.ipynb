{
 "cells": [
  {
   "cell_type": "code",
   "execution_count": 8,
   "id": "dbda3381-ddc4-492c-a454-e6454e44c8ed",
   "metadata": {
    "tags": []
   },
   "outputs": [
    {
     "name": "stdout",
     "output_type": "stream",
     "text": [
      "<class 'pandas.core.frame.DataFrame'>\n",
      "Int64Index: 5269 entries, 156 to 10212\n",
      "Data columns (total 22 columns):\n",
      " #   Column          Non-Null Count  Dtype         \n",
      "---  ------          --------------  -----         \n",
      " 0   ACC_YEAR        5269 non-null   int64         \n",
      " 1   SGG_CD          5269 non-null   int64         \n",
      " 2   SGG_NM          5269 non-null   object        \n",
      " 3   BJDONG_CD       5269 non-null   int64         \n",
      " 4   BJDONG_NM       5269 non-null   object        \n",
      " 5   LAND_GBN        5269 non-null   float64       \n",
      " 6   LAND_GBN_NM     5269 non-null   object        \n",
      " 7   BONBEON         5269 non-null   float64       \n",
      " 8   BUBEON          5269 non-null   float64       \n",
      " 9   BLDG_NM         5269 non-null   object        \n",
      " 10  DEAL_YMD        5269 non-null   datetime64[ns]\n",
      " 11  OBJ_AMT         5269 non-null   int64         \n",
      " 12  BLDG_AREA       5269 non-null   float64       \n",
      " 13  TOT_AREA        5269 non-null   float64       \n",
      " 14  FLOOR           5269 non-null   float64       \n",
      " 15  RIGHT_GBN       66 non-null     object        \n",
      " 16  CNTL_YMD        85 non-null     float64       \n",
      " 17  BUILD_YEAR      5269 non-null   float64       \n",
      " 18  HOUSE_TYPE      5269 non-null   object        \n",
      " 19  REQ_GBN         5269 non-null   object        \n",
      " 20  RDEALER_LAWDNM  4673 non-null   object        \n",
      " 21  month           5269 non-null   int64         \n",
      "dtypes: datetime64[ns](1), float64(8), int64(5), object(8)\n",
      "memory usage: 946.8+ KB\n"
     ]
    }
   ],
   "source": [
    "import pandas as pd \n",
    "\n",
    "seoul = pd.read_csv(\"data/seoul_real_estate.csv\", parse_dates=['DEAL_YMD'])\n",
    "seoul['month'] = seoul['DEAL_YMD'].dt.month\n",
    "apt_df = seoul[(seoul['HOUSE_TYPE'] == '아파트') & (seoul['month'].isin([3, 4]))]\n",
    "apt_df.info()"
   ]
  },
  {
   "cell_type": "code",
   "execution_count": 29,
   "id": "ed8e0433-ab99-4c33-a6e7-dc7c3998a2e3",
   "metadata": {
    "tags": []
   },
   "outputs": [
    {
     "data": {
      "image/png": "[encoded data removed]",
      "text/plain": [
       "<Figure size 640x480 with 1 Axes>"
      ]
     },
     "metadata": {},
     "output_type": "display_data"
    }
   ],
   "source": [
    "import seaborn as sns \n",
    "import matplotlib.pyplot as plt \n",
    "fig, ax = plt.subplots()\n",
    "sns.pointplot(x = 'month', y = 'OBJ_AMT', data = apt_df)\n",
    "sns.despine()\n",
    "\n",
    "plt.savefig('output/stat01.png', dpi=200)\n",
    "plt.show()"
   ]
  },
  {
   "cell_type": "code",
   "execution_count": 25,
   "id": "02776240-2889-4f95-845e-d992309156fd",
   "metadata": {
    "tags": []
   },
   "outputs": [
    {
     "data": {
      "text/html": [
       "<div>\n",
       "<style scoped>\n",
       "    .dataframe tbody tr th:only-of-type {\n",
       "        vertical-align: middle;\n",
       "    }\n",
       "\n",
       "    .dataframe tbody tr th {\n",
       "        vertical-align: top;\n",
       "    }\n",
       "\n",
       "    .dataframe thead th {\n",
       "        text-align: right;\n",
       "    }\n",
       "</style>\n",
       "<table border=\"1\" class=\"dataframe\">\n",
       "  <thead>\n",
       "    <tr style=\"text-align: right;\">\n",
       "      <th></th>\n",
       "      <th>T</th>\n",
       "      <th>dof</th>\n",
       "      <th>alternative</th>\n",
       "      <th>p-val</th>\n",
       "      <th>CI95%</th>\n",
       "      <th>cohen-d</th>\n",
       "      <th>BF10</th>\n",
       "      <th>power</th>\n",
       "    </tr>\n",
       "  </thead>\n",
       "  <tbody>\n",
       "    <tr>\n",
       "      <th>T-test</th>\n",
       "      <td>-0.618972</td>\n",
       "      <td>4950.212078</td>\n",
       "      <td>two-sided</td>\n",
       "      <td>0.535963</td>\n",
       "      <td>[-5067.79, 2635.6]</td>\n",
       "      <td>0.017076</td>\n",
       "      <td>0.038</td>\n",
       "      <td>0.093825</td>\n",
       "    </tr>\n",
       "  </tbody>\n",
       "</table>\n",
       "</div>"
      ],
      "text/plain": [
       "               T          dof alternative     p-val               CI95%  \\\n",
       "T-test -0.618972  4950.212078   two-sided  0.535963  [-5067.79, 2635.6]   \n",
       "\n",
       "         cohen-d   BF10     power  \n",
       "T-test  0.017076  0.038  0.093825  "
      ]
     },
     "execution_count": 25,
     "metadata": {},
     "output_type": "execute_result"
    }
   ],
   "source": [
    "from pingouin import ttest\n",
    "import pandas as pd \n",
    "\n",
    "seoul = pd.read_csv(\"data/seoul_real_estate.csv\", parse_dates=['DEAL_YMD'])\n",
    "seoul['month'] = seoul['DEAL_YMD'].dt.month\n",
    "apt_df = seoul[(seoul['HOUSE_TYPE'] == '아파트') & (seoul['month'].isin([3, 4]))]\n",
    "\n",
    "march_df = apt_df[apt_df['month'] == 3]\n",
    "april_df = apt_df[apt_df['month'] == 4]\n",
    "\n",
    "ttest(march_df['OBJ_AMT'], april_df['OBJ_AMT'], paired=False)"
   ]
  },
  {
   "cell_type": "code",
   "execution_count": 12,
   "id": "605404da-efb7-48d0-9562-b1014a3c5e68",
   "metadata": {
    "tags": []
   },
   "outputs": [
    {
     "data": {
      "text/html": [
       "<div>\n",
       "<style scoped>\n",
       "    .dataframe tbody tr th:only-of-type {\n",
       "        vertical-align: middle;\n",
       "    }\n",
       "\n",
       "    .dataframe tbody tr th {\n",
       "        vertical-align: top;\n",
       "    }\n",
       "\n",
       "    .dataframe thead th {\n",
       "        text-align: right;\n",
       "    }\n",
       "</style>\n",
       "<table border=\"1\" class=\"dataframe\">\n",
       "  <thead>\n",
       "    <tr style=\"text-align: right;\">\n",
       "      <th></th>\n",
       "      <th>mean</th>\n",
       "      <th>std</th>\n",
       "      <th>size</th>\n",
       "    </tr>\n",
       "    <tr>\n",
       "      <th>month</th>\n",
       "      <th></th>\n",
       "      <th></th>\n",
       "      <th></th>\n",
       "    </tr>\n",
       "  </thead>\n",
       "  <tbody>\n",
       "    <tr>\n",
       "      <th>3</th>\n",
       "      <td>97613.7</td>\n",
       "      <td>73359.7</td>\n",
       "      <td>3059</td>\n",
       "    </tr>\n",
       "    <tr>\n",
       "      <th>4</th>\n",
       "      <td>98829.8</td>\n",
       "      <td>68137.7</td>\n",
       "      <td>2210</td>\n",
       "    </tr>\n",
       "  </tbody>\n",
       "</table>\n",
       "</div>"
      ],
      "text/plain": [
       "          mean      std  size\n",
       "month                        \n",
       "3      97613.7  73359.7  3059\n",
       "4      98829.8  68137.7  2210"
      ]
     },
     "execution_count": 12,
     "metadata": {},
     "output_type": "execute_result"
    }
   ],
   "source": [
    "ttest_df = round(apt_df.groupby('month')['OBJ_AMT'].agg([\"mean\", \"std\", \"size\"]), 1)\n",
    "ttest_df"
   ]
  },
  {
   "cell_type": "code",
   "execution_count": 15,
   "id": "4a801ecd-96ca-4dcb-b4e1-38e2023dfe5f",
   "metadata": {
    "tags": []
   },
   "outputs": [
    {
     "data": {
      "text/plain": [
       "1326.3668655812392"
      ]
     },
     "execution_count": 15,
     "metadata": {},
     "output_type": "execute_result"
    }
   ],
   "source": [
    "import numpy as np \n",
    "73359 / np.sqrt(3059)"
   ]
  },
  {
   "cell_type": "code",
   "execution_count": 18,
   "id": "688c2345-6fc8-484b-99f7-91fb73f1f12c",
   "metadata": {
    "tags": []
   },
   "outputs": [
    {
     "data": {
      "text/plain": [
       "1449.3953754233667"
      ]
     },
     "execution_count": 18,
     "metadata": {},
     "output_type": "execute_result"
    }
   ],
   "source": [
    "68137 / np.sqrt(2210)"
   ]
  },
  {
   "cell_type": "code",
   "execution_count": 20,
   "id": "8809c37e-f901-474d-9aa0-11be9cfe6f01",
   "metadata": {
    "tags": []
   },
   "outputs": [
    {
     "data": {
      "text/plain": [
       "5222"
      ]
     },
     "execution_count": 20,
     "metadata": {},
     "output_type": "execute_result"
    }
   ],
   "source": [
    "73359 - 68137 "
   ]
  },
  {
   "cell_type": "code",
   "execution_count": 26,
   "id": "cd9f885f-ef92-483c-90bb-19f2403bf3d2",
   "metadata": {
    "tags": []
   },
   "outputs": [
    {
     "data": {
      "text/plain": [
       "-0.6116187198938243"
      ]
     },
     "execution_count": 26,
     "metadata": {},
     "output_type": "execute_result"
    }
   ],
   "source": [
    "import numpy as np\n",
    "(97613 - 98829) / np.sqrt((((3059-1) * 73359**2 + (2210-1)*68137**2)/(3059+2210-2))*((1/3059) + (1/2210)))"
   ]
  }
 ],
 "metadata": {
  "kernelspec": {
   "display_name": "Python 3 (ipykernel)",
   "language": "python",
   "name": "python3"
  },
  "language_info": {
   "codemirror_mode": {
    "name": "ipython",
    "version": 3
   },
   "file_extension": ".py",
   "mimetype": "text/x-python",
   "name": "python",
   "nbconvert_exporter": "python",
   "pygments_lexer": "ipython3",
   "version": "3.9.13"
  }
 },
 "nbformat": 4,
 "nbformat_minor": 5
}
