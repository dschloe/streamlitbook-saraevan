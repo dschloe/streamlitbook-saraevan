{
 "cells": [
  {
   "cell_type": "code",
   "execution_count": 3,
   "id": "bd5b9ae7-f443-4bb3-9490-12613c38cc62",
   "metadata": {},
   "outputs": [
    {
     "name": "stdout",
     "output_type": "stream",
     "text": [
      "    datesold  postcode   price propertyType  bedrooms\n",
      "0 2007-02-07      2607  525000        house         4\n",
      "1 2007-02-27      2906  290000        house         3\n",
      "2 2007-03-07      2905  328000        house         3\n"
     ]
    }
   ],
   "source": [
    "import pandas as pd \n",
    "import plotly\n",
    "import numpy as np \n",
    "\n",
    "sales = pd.read_csv('data/raw_sales.csv', parse_dates=['datesold'])\n",
    "print(sales.head(3))"
   ]
  },
  {
   "cell_type": "code",
   "execution_count": null,
   "id": "8626c723-3c67-42df-afc5-73c9bc3bfbcb",
   "metadata": {},
   "outputs": [],
   "source": [
    "\n",
    "sales['year'] = sales['datesold'].dt.year\n",
    "result = sales.groupby('year')['price'].agg(np.mean)"
   ]
  }
 ],
 "metadata": {
  "kernelspec": {
   "display_name": "Python 3 (ipykernel)",
   "language": "python",
   "name": "python3"
  },
  "language_info": {
   "codemirror_mode": {
    "name": "ipython",
    "version": 3
   },
   "file_extension": ".py",
   "mimetype": "text/x-python",
   "name": "python",
   "nbconvert_exporter": "python",
   "pygments_lexer": "ipython3",
   "version": "3.9.13"
  }
 },
 "nbformat": 4,
 "nbformat_minor": 5
}
