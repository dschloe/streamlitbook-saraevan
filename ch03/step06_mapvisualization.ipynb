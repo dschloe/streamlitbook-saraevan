{
 "cells": [
  {
   "cell_type": "markdown",
   "id": "86ff38fc-23b2-4bdb-814d-feeca825805a",
   "metadata": {},
   "source": [
    "## Geopandas tutorial"
   ]
  },
  {
   "cell_type": "code",
   "execution_count": 1,
   "id": "1ae06d21-61d1-47a3-b605-ec5ab7daf86c",
   "metadata": {
    "tags": []
   },
   "outputs": [
    {
     "data": {
      "text/html": [
       "<div>\n",
       "<style scoped>\n",
       "    .dataframe tbody tr th:only-of-type {\n",
       "        vertical-align: middle;\n",
       "    }\n",
       "\n",
       "    .dataframe tbody tr th {\n",
       "        vertical-align: top;\n",
       "    }\n",
       "\n",
       "    .dataframe thead th {\n",
       "        text-align: right;\n",
       "    }\n",
       "</style>\n",
       "<table border=\"1\" class=\"dataframe\">\n",
       "  <thead>\n",
       "    <tr style=\"text-align: right;\">\n",
       "      <th></th>\n",
       "      <th>pop_est</th>\n",
       "      <th>continent</th>\n",
       "      <th>name</th>\n",
       "      <th>iso_a3</th>\n",
       "      <th>gdp_md_est</th>\n",
       "      <th>geometry</th>\n",
       "    </tr>\n",
       "  </thead>\n",
       "  <tbody>\n",
       "    <tr>\n",
       "      <th>0</th>\n",
       "      <td>889953.0</td>\n",
       "      <td>Oceania</td>\n",
       "      <td>Fiji</td>\n",
       "      <td>FJI</td>\n",
       "      <td>5496</td>\n",
       "      <td>MULTIPOLYGON (((180.00000 -16.06713, 180.00000...</td>\n",
       "    </tr>\n",
       "    <tr>\n",
       "      <th>1</th>\n",
       "      <td>58005463.0</td>\n",
       "      <td>Africa</td>\n",
       "      <td>Tanzania</td>\n",
       "      <td>TZA</td>\n",
       "      <td>63177</td>\n",
       "      <td>POLYGON ((33.90371 -0.95000, 34.07262 -1.05982...</td>\n",
       "    </tr>\n",
       "    <tr>\n",
       "      <th>2</th>\n",
       "      <td>603253.0</td>\n",
       "      <td>Africa</td>\n",
       "      <td>W. Sahara</td>\n",
       "      <td>ESH</td>\n",
       "      <td>907</td>\n",
       "      <td>POLYGON ((-8.66559 27.65643, -8.66512 27.58948...</td>\n",
       "    </tr>\n",
       "    <tr>\n",
       "      <th>3</th>\n",
       "      <td>37589262.0</td>\n",
       "      <td>North America</td>\n",
       "      <td>Canada</td>\n",
       "      <td>CAN</td>\n",
       "      <td>1736425</td>\n",
       "      <td>MULTIPOLYGON (((-122.84000 49.00000, -122.9742...</td>\n",
       "    </tr>\n",
       "    <tr>\n",
       "      <th>4</th>\n",
       "      <td>328239523.0</td>\n",
       "      <td>North America</td>\n",
       "      <td>United States of America</td>\n",
       "      <td>USA</td>\n",
       "      <td>21433226</td>\n",
       "      <td>MULTIPOLYGON (((-122.84000 49.00000, -120.0000...</td>\n",
       "    </tr>\n",
       "  </tbody>\n",
       "</table>\n",
       "</div>"
      ],
      "text/plain": [
       "       pop_est      continent                      name iso_a3  gdp_md_est  \\\n",
       "0     889953.0        Oceania                      Fiji    FJI        5496   \n",
       "1   58005463.0         Africa                  Tanzania    TZA       63177   \n",
       "2     603253.0         Africa                 W. Sahara    ESH         907   \n",
       "3   37589262.0  North America                    Canada    CAN     1736425   \n",
       "4  328239523.0  North America  United States of America    USA    21433226   \n",
       "\n",
       "                                            geometry  \n",
       "0  MULTIPOLYGON (((180.00000 -16.06713, 180.00000...  \n",
       "1  POLYGON ((33.90371 -0.95000, 34.07262 -1.05982...  \n",
       "2  POLYGON ((-8.66559 27.65643, -8.66512 27.58948...  \n",
       "3  MULTIPOLYGON (((-122.84000 49.00000, -122.9742...  \n",
       "4  MULTIPOLYGON (((-122.84000 49.00000, -120.0000...  "
      ]
     },
     "execution_count": 1,
     "metadata": {},
     "output_type": "execute_result"
    }
   ],
   "source": [
    "import geopandas as gpd\n",
    "\n",
    "world_gdf = gpd.read_file(gpd.datasets.get_path('naturalearth_lowres'))\n",
    "world_gdf.head()"
   ]
  },
  {
   "cell_type": "markdown",
   "id": "09b199d5-32bf-4d33-8111-4f2685a5832d",
   "metadata": {},
   "source": [
    "## 로컬에서 불러오기"
   ]
  },
  {
   "cell_type": "code",
   "execution_count": 5,
   "id": "664874b4-4e4e-45ac-8da9-9cd7cd861b72",
   "metadata": {
    "tags": []
   },
   "outputs": [
    {
     "data": {
      "text/html": [
       "<div>\n",
       "<style scoped>\n",
       "    .dataframe tbody tr th:only-of-type {\n",
       "        vertical-align: middle;\n",
       "    }\n",
       "\n",
       "    .dataframe tbody tr th {\n",
       "        vertical-align: top;\n",
       "    }\n",
       "\n",
       "    .dataframe thead th {\n",
       "        text-align: right;\n",
       "    }\n",
       "</style>\n",
       "<table border=\"1\" class=\"dataframe\">\n",
       "  <thead>\n",
       "    <tr style=\"text-align: right;\">\n",
       "      <th></th>\n",
       "      <th>adm1_code</th>\n",
       "      <th>iso_3166_2</th>\n",
       "      <th>name</th>\n",
       "      <th>geometry</th>\n",
       "    </tr>\n",
       "  </thead>\n",
       "  <tbody>\n",
       "    <tr>\n",
       "      <th>0</th>\n",
       "      <td>USA-3514</td>\n",
       "      <td>US-MN</td>\n",
       "      <td>Minnesota</td>\n",
       "      <td>POLYGON ((-89.95766 47.28691, -90.13175 47.292...</td>\n",
       "    </tr>\n",
       "    <tr>\n",
       "      <th>1</th>\n",
       "      <td>USA-3515</td>\n",
       "      <td>US-MT</td>\n",
       "      <td>Montana</td>\n",
       "      <td>POLYGON ((-116.04823 49.00037, -113.05950 49.0...</td>\n",
       "    </tr>\n",
       "    <tr>\n",
       "      <th>2</th>\n",
       "      <td>USA-3516</td>\n",
       "      <td>US-ND</td>\n",
       "      <td>North Dakota</td>\n",
       "      <td>POLYGON ((-97.22894 49.00089, -97.21414 48.902...</td>\n",
       "    </tr>\n",
       "    <tr>\n",
       "      <th>3</th>\n",
       "      <td>USA-3517</td>\n",
       "      <td>US-HI</td>\n",
       "      <td>Hawaii</td>\n",
       "      <td>MULTIPOLYGON (((-155.93665 19.05939, -155.9080...</td>\n",
       "    </tr>\n",
       "    <tr>\n",
       "      <th>4</th>\n",
       "      <td>USA-3518</td>\n",
       "      <td>US-ID</td>\n",
       "      <td>Idaho</td>\n",
       "      <td>POLYGON ((-116.04823 49.00037, -115.96780 47.9...</td>\n",
       "    </tr>\n",
       "    <tr>\n",
       "      <th>5</th>\n",
       "      <td>USA-3519</td>\n",
       "      <td>US-WA</td>\n",
       "      <td>Washington</td>\n",
       "      <td>POLYGON ((-117.03143 48.99931, -117.02665 47.7...</td>\n",
       "    </tr>\n",
       "  </tbody>\n",
       "</table>\n",
       "</div>"
      ],
      "text/plain": [
       "  adm1_code iso_3166_2          name  \\\n",
       "0  USA-3514      US-MN     Minnesota   \n",
       "1  USA-3515      US-MT       Montana   \n",
       "2  USA-3516      US-ND  North Dakota   \n",
       "3  USA-3517      US-HI        Hawaii   \n",
       "4  USA-3518      US-ID         Idaho   \n",
       "5  USA-3519      US-WA    Washington   \n",
       "\n",
       "                                            geometry  \n",
       "0  POLYGON ((-89.95766 47.28691, -90.13175 47.292...  \n",
       "1  POLYGON ((-116.04823 49.00037, -113.05950 49.0...  \n",
       "2  POLYGON ((-97.22894 49.00089, -97.21414 48.902...  \n",
       "3  MULTIPOLYGON (((-155.93665 19.05939, -155.9080...  \n",
       "4  POLYGON ((-116.04823 49.00037, -115.96780 47.9...  \n",
       "5  POLYGON ((-117.03143 48.99931, -117.02665 47.7...  "
      ]
     },
     "execution_count": 5,
     "metadata": {},
     "output_type": "execute_result"
    }
   ],
   "source": [
    "import geopandas as gpd \n",
    "states = gpd.read_file('data/map/ne_110m_admin_1_states_provinces.shp')\n",
    "states[['adm1_code', 'iso_3166_2', 'name', 'geometry']].head(6)"
   ]
  },
  {
   "cell_type": "code",
   "execution_count": 6,
   "id": "f291cc3a-dba9-4528-8939-dce5585c7bb8",
   "metadata": {
    "tags": []
   },
   "outputs": [
    {
     "name": "stdout",
     "output_type": "stream",
     "text": [
      "<class 'geopandas.geodataframe.GeoDataFrame'>\n"
     ]
    }
   ],
   "source": [
    "print(type(states))"
   ]
  },
  {
   "cell_type": "code",
   "execution_count": 7,
   "id": "2c603d5a-04dd-45f4-9390-27e1fcb164fc",
   "metadata": {
    "tags": []
   },
   "outputs": [
    {
     "data": {
      "text/plain": [
       "(51, 122)"
      ]
     },
     "execution_count": 7,
     "metadata": {},
     "output_type": "execute_result"
    }
   ],
   "source": [
    "states.shape"
   ]
  },
  {
   "cell_type": "code",
   "execution_count": 8,
   "id": "99951683-a7e7-47f5-8ac0-ebfde2ea2e3d",
   "metadata": {
    "tags": []
   },
   "outputs": [
    {
     "data": {
      "text/plain": [
       "Index(['featurecla', 'scalerank', 'adm1_code', 'diss_me', 'iso_3166_2',\n",
       "       'wikipedia', 'iso_a2', 'adm0_sr', 'name', 'name_alt',\n",
       "       ...\n",
       "       'FCLASS_ID', 'FCLASS_PL', 'FCLASS_GR', 'FCLASS_IT', 'FCLASS_NL',\n",
       "       'FCLASS_SE', 'FCLASS_BD', 'FCLASS_UA', 'FCLASS_TLC', 'geometry'],\n",
       "      dtype='object', length=122)"
      ]
     },
     "execution_count": 8,
     "metadata": {},
     "output_type": "execute_result"
    }
   ],
   "source": [
    "states.columns"
   ]
  },
  {
   "cell_type": "code",
   "execution_count": 9,
   "id": "68ac21ab-ae19-4194-b0bc-078806e8a2a0",
   "metadata": {
    "tags": []
   },
   "outputs": [
    {
     "data": {
      "text/plain": [
       "0         Polygon\n",
       "1         Polygon\n",
       "2         Polygon\n",
       "3    MultiPolygon\n",
       "4         Polygon\n",
       "dtype: object"
      ]
     },
     "execution_count": 9,
     "metadata": {},
     "output_type": "execute_result"
    }
   ],
   "source": [
    "states.geom_type.head()"
   ]
  },
  {
   "cell_type": "code",
   "execution_count": 10,
   "id": "fe476ddb-d858-4331-ad5e-f80a24b51a0f",
   "metadata": {
    "tags": []
   },
   "outputs": [
    {
     "data": {
      "text/plain": [
       "<Geographic 2D CRS: GEOGCS[\"WGS 84\",DATUM[\"WGS_1984\",SPHEROID[\"WGS 84\" ...>\n",
       "Name: WGS 84\n",
       "Axis Info [ellipsoidal]:\n",
       "- lon[east]: Longitude (Degree)\n",
       "- lat[north]: Latitude (Degree)\n",
       "Area of Use:\n",
       "- undefined\n",
       "Datum: World Geodetic System 1984\n",
       "- Ellipsoid: WGS 84\n",
       "- Prime Meridian: Greenwich"
      ]
     },
     "execution_count": 10,
     "metadata": {},
     "output_type": "execute_result"
    }
   ],
   "source": [
    "states.crs"
   ]
  },
  {
   "cell_type": "code",
   "execution_count": 13,
   "id": "4d737448-a4f2-4f7d-9046-62484ad7ceae",
   "metadata": {
    "tags": []
   },
   "outputs": [
    {
     "data": {
      "image/png": "[encoded data removed]",
      "text/plain": [
       "<Figure size 640x480 with 1 Axes>"
      ]
     },
     "metadata": {},
     "output_type": "display_data"
    }
   ],
   "source": [
    "import matplotlib.pyplot as plt \n",
    "\n",
    "ax = states.plot()\n",
    "ax.set_title(\"WGS84 (lat/lon)\");\n",
    "plt.savefig('output/map01.png', dpi=200)\n",
    "plt.show()"
   ]
  },
  {
   "cell_type": "code",
   "execution_count": 20,
   "id": "482b567c-b506-41d3-8279-19ac2cf26934",
   "metadata": {
    "tags": []
   },
   "outputs": [],
   "source": [
    "states.to_file('data/my_file.json', driver='GeoJSON')"
   ]
  },
  {
   "cell_type": "code",
   "execution_count": 23,
   "id": "c475778b-2df7-4890-a9bb-5a4f6c88bed0",
   "metadata": {
    "tags": []
   },
   "outputs": [
    {
     "data": {
      "text/html": [
       "<div>\n",
       "<style scoped>\n",
       "    .dataframe tbody tr th:only-of-type {\n",
       "        vertical-align: middle;\n",
       "    }\n",
       "\n",
       "    .dataframe tbody tr th {\n",
       "        vertical-align: top;\n",
       "    }\n",
       "\n",
       "    .dataframe thead th {\n",
       "        text-align: right;\n",
       "    }\n",
       "</style>\n",
       "<table border=\"1\" class=\"dataframe\">\n",
       "  <thead>\n",
       "    <tr style=\"text-align: right;\">\n",
       "      <th></th>\n",
       "      <th>adm1_code</th>\n",
       "      <th>iso_3166_2</th>\n",
       "      <th>name</th>\n",
       "      <th>geometry</th>\n",
       "    </tr>\n",
       "  </thead>\n",
       "  <tbody>\n",
       "    <tr>\n",
       "      <th>0</th>\n",
       "      <td>USA-3514</td>\n",
       "      <td>US-MN</td>\n",
       "      <td>Minnesota</td>\n",
       "      <td>POLYGON ((-89.95766 47.28691, -90.13175 47.292...</td>\n",
       "    </tr>\n",
       "    <tr>\n",
       "      <th>1</th>\n",
       "      <td>USA-3515</td>\n",
       "      <td>US-MT</td>\n",
       "      <td>Montana</td>\n",
       "      <td>POLYGON ((-116.04823 49.00037, -113.05950 49.0...</td>\n",
       "    </tr>\n",
       "    <tr>\n",
       "      <th>2</th>\n",
       "      <td>USA-3516</td>\n",
       "      <td>US-ND</td>\n",
       "      <td>North Dakota</td>\n",
       "      <td>POLYGON ((-97.22894 49.00089, -97.21414 48.902...</td>\n",
       "    </tr>\n",
       "    <tr>\n",
       "      <th>3</th>\n",
       "      <td>USA-3517</td>\n",
       "      <td>US-HI</td>\n",
       "      <td>Hawaii</td>\n",
       "      <td>MULTIPOLYGON (((-155.93665 19.05939, -155.9080...</td>\n",
       "    </tr>\n",
       "    <tr>\n",
       "      <th>4</th>\n",
       "      <td>USA-3518</td>\n",
       "      <td>US-ID</td>\n",
       "      <td>Idaho</td>\n",
       "      <td>POLYGON ((-116.04823 49.00037, -115.96780 47.9...</td>\n",
       "    </tr>\n",
       "    <tr>\n",
       "      <th>5</th>\n",
       "      <td>USA-3519</td>\n",
       "      <td>US-WA</td>\n",
       "      <td>Washington</td>\n",
       "      <td>POLYGON ((-117.03143 48.99931, -117.02665 47.7...</td>\n",
       "    </tr>\n",
       "  </tbody>\n",
       "</table>\n",
       "</div>"
      ],
      "text/plain": [
       "  adm1_code iso_3166_2          name  \\\n",
       "0  USA-3514      US-MN     Minnesota   \n",
       "1  USA-3515      US-MT       Montana   \n",
       "2  USA-3516      US-ND  North Dakota   \n",
       "3  USA-3517      US-HI        Hawaii   \n",
       "4  USA-3518      US-ID         Idaho   \n",
       "5  USA-3519      US-WA    Washington   \n",
       "\n",
       "                                            geometry  \n",
       "0  POLYGON ((-89.95766 47.28691, -90.13175 47.292...  \n",
       "1  POLYGON ((-116.04823 49.00037, -113.05950 49.0...  \n",
       "2  POLYGON ((-97.22894 49.00089, -97.21414 48.902...  \n",
       "3  MULTIPOLYGON (((-155.93665 19.05939, -155.9080...  \n",
       "4  POLYGON ((-116.04823 49.00037, -115.96780 47.9...  \n",
       "5  POLYGON ((-117.03143 48.99931, -117.02665 47.7...  "
      ]
     },
     "execution_count": 23,
     "metadata": {},
     "output_type": "execute_result"
    }
   ],
   "source": [
    "import geopandas as gpd\n",
    "new_df = gpd.read_file('data/my_file.json')\n",
    "new_df[['adm1_code', 'iso_3166_2', 'name', 'geometry']].head(6)"
   ]
  },
  {
   "cell_type": "markdown",
   "id": "98911029-f29a-4e5e-a554-7ac2b7b23c96",
   "metadata": {},
   "source": [
    "## 데이터 매핑"
   ]
  },
  {
   "cell_type": "code",
   "execution_count": 1,
   "id": "d5e7fdb5-d4db-476a-8407-9f660f8cd4da",
   "metadata": {
    "tags": []
   },
   "outputs": [
    {
     "data": {
      "text/html": [
       "<div>\n",
       "<style scoped>\n",
       "    .dataframe tbody tr th:only-of-type {\n",
       "        vertical-align: middle;\n",
       "    }\n",
       "\n",
       "    .dataframe tbody tr th {\n",
       "        vertical-align: top;\n",
       "    }\n",
       "\n",
       "    .dataframe thead th {\n",
       "        text-align: right;\n",
       "    }\n",
       "</style>\n",
       "<table border=\"1\" class=\"dataframe\">\n",
       "  <thead>\n",
       "    <tr style=\"text-align: right;\">\n",
       "      <th></th>\n",
       "      <th>pop_est</th>\n",
       "      <th>continent</th>\n",
       "      <th>name</th>\n",
       "      <th>iso_a3</th>\n",
       "      <th>gdp_md_est</th>\n",
       "      <th>geometry</th>\n",
       "    </tr>\n",
       "  </thead>\n",
       "  <tbody>\n",
       "    <tr>\n",
       "      <th>0</th>\n",
       "      <td>889953.0</td>\n",
       "      <td>Oceania</td>\n",
       "      <td>Fiji</td>\n",
       "      <td>FJI</td>\n",
       "      <td>5496</td>\n",
       "      <td>MULTIPOLYGON (((180.00000 -16.06713, 180.00000...</td>\n",
       "    </tr>\n",
       "    <tr>\n",
       "      <th>1</th>\n",
       "      <td>58005463.0</td>\n",
       "      <td>Africa</td>\n",
       "      <td>Tanzania</td>\n",
       "      <td>TZA</td>\n",
       "      <td>63177</td>\n",
       "      <td>POLYGON ((33.90371 -0.95000, 34.07262 -1.05982...</td>\n",
       "    </tr>\n",
       "    <tr>\n",
       "      <th>2</th>\n",
       "      <td>603253.0</td>\n",
       "      <td>Africa</td>\n",
       "      <td>W. Sahara</td>\n",
       "      <td>ESH</td>\n",
       "      <td>907</td>\n",
       "      <td>POLYGON ((-8.66559 27.65643, -8.66512 27.58948...</td>\n",
       "    </tr>\n",
       "    <tr>\n",
       "      <th>3</th>\n",
       "      <td>37589262.0</td>\n",
       "      <td>North America</td>\n",
       "      <td>Canada</td>\n",
       "      <td>CAN</td>\n",
       "      <td>1736425</td>\n",
       "      <td>MULTIPOLYGON (((-122.84000 49.00000, -122.9742...</td>\n",
       "    </tr>\n",
       "    <tr>\n",
       "      <th>4</th>\n",
       "      <td>328239523.0</td>\n",
       "      <td>North America</td>\n",
       "      <td>United States of America</td>\n",
       "      <td>USA</td>\n",
       "      <td>21433226</td>\n",
       "      <td>MULTIPOLYGON (((-122.84000 49.00000, -120.0000...</td>\n",
       "    </tr>\n",
       "  </tbody>\n",
       "</table>\n",
       "</div>"
      ],
      "text/plain": [
       "       pop_est      continent                      name iso_a3  gdp_md_est  \\\n",
       "0     889953.0        Oceania                      Fiji    FJI        5496   \n",
       "1   58005463.0         Africa                  Tanzania    TZA       63177   \n",
       "2     603253.0         Africa                 W. Sahara    ESH         907   \n",
       "3   37589262.0  North America                    Canada    CAN     1736425   \n",
       "4  328239523.0  North America  United States of America    USA    21433226   \n",
       "\n",
       "                                            geometry  \n",
       "0  MULTIPOLYGON (((180.00000 -16.06713, 180.00000...  \n",
       "1  POLYGON ((33.90371 -0.95000, 34.07262 -1.05982...  \n",
       "2  POLYGON ((-8.66559 27.65643, -8.66512 27.58948...  \n",
       "3  MULTIPOLYGON (((-122.84000 49.00000, -122.9742...  \n",
       "4  MULTIPOLYGON (((-122.84000 49.00000, -120.0000...  "
      ]
     },
     "execution_count": 1,
     "metadata": {},
     "output_type": "execute_result"
    }
   ],
   "source": [
    "import geopandas as gpd\n",
    "import pandas as pd\n",
    "import numpy as np\n",
    "world = gpd.read_file(gpd.datasets.get_path('naturalearth_lowres'))\n",
    "world.head()"
   ]
  },
  {
   "cell_type": "code",
   "execution_count": 13,
   "id": "5572f57e-06cb-41db-a81d-48e0baa89272",
   "metadata": {
    "tags": []
   },
   "outputs": [
    {
     "data": {
      "text/html": [
       "<div>\n",
       "<style scoped>\n",
       "    .dataframe tbody tr th:only-of-type {\n",
       "        vertical-align: middle;\n",
       "    }\n",
       "\n",
       "    .dataframe tbody tr th {\n",
       "        vertical-align: top;\n",
       "    }\n",
       "\n",
       "    .dataframe thead th {\n",
       "        text-align: right;\n",
       "    }\n",
       "</style>\n",
       "<table border=\"1\" class=\"dataframe\">\n",
       "  <thead>\n",
       "    <tr style=\"text-align: right;\">\n",
       "      <th></th>\n",
       "      <th>name</th>\n",
       "      <th>data</th>\n",
       "    </tr>\n",
       "  </thead>\n",
       "  <tbody>\n",
       "    <tr>\n",
       "      <th>0</th>\n",
       "      <td>Fiji</td>\n",
       "      <td>491</td>\n",
       "    </tr>\n",
       "    <tr>\n",
       "      <th>1</th>\n",
       "      <td>Tanzania</td>\n",
       "      <td>990</td>\n",
       "    </tr>\n",
       "    <tr>\n",
       "      <th>2</th>\n",
       "      <td>W. Sahara</td>\n",
       "      <td>892</td>\n",
       "    </tr>\n",
       "    <tr>\n",
       "      <th>3</th>\n",
       "      <td>Canada</td>\n",
       "      <td>864</td>\n",
       "    </tr>\n",
       "    <tr>\n",
       "      <th>4</th>\n",
       "      <td>United States of America</td>\n",
       "      <td>288</td>\n",
       "    </tr>\n",
       "  </tbody>\n",
       "</table>\n",
       "</div>"
      ],
      "text/plain": [
       "                       name  data\n",
       "0                      Fiji   491\n",
       "1                  Tanzania   990\n",
       "2                 W. Sahara   892\n",
       "3                    Canada   864\n",
       "4  United States of America   288"
      ]
     },
     "execution_count": 13,
     "metadata": {},
     "output_type": "execute_result"
    }
   ],
   "source": [
    "import pandas as pd\n",
    "import numpy as np\n",
    "\n",
    "# 가상의 데이터 생성\n",
    "data = pd.DataFrame({\n",
    "    'name': world['name'],\n",
    "    'data': np.random.randint(100, 1000, len(world))\n",
    "})\n",
    "\n",
    "data.head()"
   ]
  },
  {
   "cell_type": "code",
   "execution_count": 14,
   "id": "d57da7af-d59b-49c3-acdd-3ef9885a9746",
   "metadata": {
    "tags": []
   },
   "outputs": [
    {
     "data": {
      "text/html": [
       "<div>\n",
       "<style scoped>\n",
       "    .dataframe tbody tr th:only-of-type {\n",
       "        vertical-align: middle;\n",
       "    }\n",
       "\n",
       "    .dataframe tbody tr th {\n",
       "        vertical-align: top;\n",
       "    }\n",
       "\n",
       "    .dataframe thead th {\n",
       "        text-align: right;\n",
       "    }\n",
       "</style>\n",
       "<table border=\"1\" class=\"dataframe\">\n",
       "  <thead>\n",
       "    <tr style=\"text-align: right;\">\n",
       "      <th></th>\n",
       "      <th>pop_est</th>\n",
       "      <th>continent</th>\n",
       "      <th>name</th>\n",
       "      <th>iso_a3</th>\n",
       "      <th>gdp_md_est</th>\n",
       "      <th>geometry</th>\n",
       "      <th>data</th>\n",
       "    </tr>\n",
       "  </thead>\n",
       "  <tbody>\n",
       "    <tr>\n",
       "      <th>0</th>\n",
       "      <td>889953.0</td>\n",
       "      <td>Oceania</td>\n",
       "      <td>Fiji</td>\n",
       "      <td>FJI</td>\n",
       "      <td>5496</td>\n",
       "      <td>MULTIPOLYGON (((180.00000 -16.06713, 180.00000...</td>\n",
       "      <td>491</td>\n",
       "    </tr>\n",
       "    <tr>\n",
       "      <th>1</th>\n",
       "      <td>58005463.0</td>\n",
       "      <td>Africa</td>\n",
       "      <td>Tanzania</td>\n",
       "      <td>TZA</td>\n",
       "      <td>63177</td>\n",
       "      <td>POLYGON ((33.90371 -0.95000, 34.07262 -1.05982...</td>\n",
       "      <td>990</td>\n",
       "    </tr>\n",
       "    <tr>\n",
       "      <th>2</th>\n",
       "      <td>603253.0</td>\n",
       "      <td>Africa</td>\n",
       "      <td>W. Sahara</td>\n",
       "      <td>ESH</td>\n",
       "      <td>907</td>\n",
       "      <td>POLYGON ((-8.66559 27.65643, -8.66512 27.58948...</td>\n",
       "      <td>892</td>\n",
       "    </tr>\n",
       "    <tr>\n",
       "      <th>3</th>\n",
       "      <td>37589262.0</td>\n",
       "      <td>North America</td>\n",
       "      <td>Canada</td>\n",
       "      <td>CAN</td>\n",
       "      <td>1736425</td>\n",
       "      <td>MULTIPOLYGON (((-122.84000 49.00000, -122.9742...</td>\n",
       "      <td>864</td>\n",
       "    </tr>\n",
       "    <tr>\n",
       "      <th>4</th>\n",
       "      <td>328239523.0</td>\n",
       "      <td>North America</td>\n",
       "      <td>United States of America</td>\n",
       "      <td>USA</td>\n",
       "      <td>21433226</td>\n",
       "      <td>MULTIPOLYGON (((-122.84000 49.00000, -120.0000...</td>\n",
       "      <td>288</td>\n",
       "    </tr>\n",
       "  </tbody>\n",
       "</table>\n",
       "</div>"
      ],
      "text/plain": [
       "       pop_est      continent                      name iso_a3  gdp_md_est  \\\n",
       "0     889953.0        Oceania                      Fiji    FJI        5496   \n",
       "1   58005463.0         Africa                  Tanzania    TZA       63177   \n",
       "2     603253.0         Africa                 W. Sahara    ESH         907   \n",
       "3   37589262.0  North America                    Canada    CAN     1736425   \n",
       "4  328239523.0  North America  United States of America    USA    21433226   \n",
       "\n",
       "                                            geometry  data  \n",
       "0  MULTIPOLYGON (((180.00000 -16.06713, 180.00000...   491  \n",
       "1  POLYGON ((33.90371 -0.95000, 34.07262 -1.05982...   990  \n",
       "2  POLYGON ((-8.66559 27.65643, -8.66512 27.58948...   892  \n",
       "3  MULTIPOLYGON (((-122.84000 49.00000, -122.9742...   864  \n",
       "4  MULTIPOLYGON (((-122.84000 49.00000, -120.0000...   288  "
      ]
     },
     "execution_count": 14,
     "metadata": {},
     "output_type": "execute_result"
    }
   ],
   "source": [
    "# 데이터 매핑\n",
    "world_df = world.merge(data, on = 'name')\n",
    "world_df.head()"
   ]
  },
  {
   "cell_type": "code",
   "execution_count": 43,
   "id": "f4f92f45-48e8-4b1a-a1cb-3becae830e66",
   "metadata": {
    "tags": []
   },
   "outputs": [
    {
     "data": {
      "image/png": "[encoded data removed]",
      "text/plain": [
       "<Figure size 1000x600 with 2 Axes>"
      ]
     },
     "metadata": {},
     "output_type": "display_data"
    }
   ],
   "source": [
    "import matplotlib.pyplot as plt \n",
    "\n",
    "fig, ax = plt.subplots(figsize=(10, 6))\n",
    "world_df.plot(ax=ax, column=\"data\", cmap=\"Accent\", legend=False, alpha=0.9)\n",
    "ax.set_title('data')\n",
    "ax.set_axis_off()\n",
    "\n",
    "cb = fig.colorbar(ax.collections[0], ax=ax, location = 'left', shrink = 0.6)\n",
    "plt.savefig('output/map02.png', dpi=200)\n",
    "plt.show()"
   ]
  },
  {
   "cell_type": "markdown",
   "id": "ddbf0b67-bbf9-4198-b1b6-7414a2f1a4d0",
   "metadata": {},
   "source": []
  },
  {
   "cell_type": "code",
   "execution_count": 44,
   "id": "a07b61af-98fc-4ec1-9275-ab6b8a7f3044",
   "metadata": {
    "tags": []
   },
   "outputs": [
    {
     "data": {
      "text/plain": [
       "0    MultiPolygon\n",
       "1         Polygon\n",
       "2         Polygon\n",
       "3    MultiPolygon\n",
       "4    MultiPolygon\n",
       "dtype: object"
      ]
     },
     "execution_count": 44,
     "metadata": {},
     "output_type": "execute_result"
    }
   ],
   "source": [
    "world.geom_type[:5]"
   ]
  },
  {
   "cell_type": "code",
   "execution_count": 46,
   "id": "d1de14e4-de8b-45f3-809a-e552c6352905",
   "metadata": {
    "tags": []
   },
   "outputs": [
    {
     "data": {
      "image/svg+xml": [
       "<svg xmlns=\"http://www.w3.org/2000/svg\" xmlns:xlink=\"http://www.w3.org/1999/xlink\" width=\"100.0\" height=\"100.0\" viewBox=\"28.90093389661636 -12.160001698450722 11.854719799667649 11.64906539473471\" preserveAspectRatio=\"xMinYMin meet\"><g transform=\"matrix(1,0,0,-1,0,-12.670938002166736)\"><path fill-rule=\"evenodd\" fill=\"#66cc99\" stroke=\"#555555\" stroke-width=\"0.23709439599335297\" opacity=\"0.6\" d=\"M 33.90371119710453,-0.9500000000000001 L 34.07261999999997,-1.0598199999999451 L 37.69868999999994,-3.0969899999999484 L 37.7669,-3.6771200000000004 L 39.20222,-4.67677 L 38.74053999999995,-5.9089499999999475 L 38.79977000000008,-6.475660000000005 L 39.44,-6.839999999999861 L 39.47000000000014,-7.099999999999966 L 39.19468999999998,-7.703899999999976 L 39.25203000000005,-8.00780999999995 L 39.18652000000009,-8.48550999999992 L 39.53574000000009,-9.112369999999885 L 39.94960000000003,-10.098400000000026 L 40.316586229110854,-10.317097752817492 L 40.31659000000002,-10.317099999999868 L 39.52099999999996,-10.89688000000001 L 38.42755659358775,-11.285202325081656 L 37.827639999999974,-11.26878999999991 L 37.471289999999954,-11.568759999999997 L 36.775150994622805,-11.594537448780805 L 36.51408165868426,-11.720938002166735 L 35.31239790216904,-11.439146416879147 L 34.55998904799935,-11.520020033415925 L 34.27999999999997,-10.160000000000025 L 33.940837724096525,-9.693673841980285 L 33.73972000000009,-9.417149999999992 L 32.75937544122132,-9.23059905358906 L 32.19186486179194,-8.930358981973257 L 31.556348097466497,-8.762048841998642 L 31.15775133695005,-8.594578747317366 L 30.740009731422095,-8.34000593035372 L 30.74001549655179,-8.340007419470915 L 30.199996779101696,-7.079980970898163 L 29.620032179490014,-6.520015150583426 L 29.419992710088167,-5.939998874539434 L 29.519986606572928,-5.419978936386315 L 29.339997592900346,-4.4999834122940925 L 29.753512404099865,-4.452389418153302 L 30.11632000000003,-4.090120000000013 L 30.505539999999996,-3.5685799999999404 L 30.752240000000086,-3.3593099999999936 L 30.743010000000027,-3.034309999999948 L 30.527660000000026,-2.807619999999986 L 30.469673645761223,-2.41385475710134 L 30.469670000000008,-2.4138299999999617 L 30.75830895358311,-2.2872502579883687 L 30.816134881317712,-1.6989140763453887 L 30.419104852019245,-1.1346591121504161 L 30.769860000000108,-1.0145499999999856 L 31.866170000000068,-1.0273599999999306 L 33.90371119710453,-0.9500000000000001 z\" /></g></svg>"
      ],
      "text/plain": [
       "<POLYGON ((33.904 -0.95, 34.073 -1.06, 37.699 -3.097, 37.767 -3.677, 39.202 ...>"
      ]
     },
     "execution_count": 46,
     "metadata": {},
     "output_type": "execute_result"
    }
   ],
   "source": [
    "world.geometry[1]"
   ]
  },
  {
   "cell_type": "code",
   "execution_count": 48,
   "id": "6e83d1fe-c696-48ca-af83-87c7d2ed14bc",
   "metadata": {
    "tags": []
   },
   "outputs": [
    {
     "name": "stdout",
     "output_type": "stream",
     "text": [
      "POLYGON ((33.90371119710453 -0.9500000000000001, 34.07261999999997 -1.0598199999999451, 37.69868999999994 -3.0969899999999484, 37.7669 -3.6771200000000004, 39.20222 -4.67677, 38.74053999999995 -5.9089499999999475, 38.79977000000008 -6.475660000000005, 39.44 -6.839999999999861, 39.47000000000014 -7.099999999999966, 39.19468999999998 -7.703899999999976, 39.25203000000005 -8.00780999999995, 39.18652000000009 -8.48550999999992, 39.53574000000009 -9.112369999999885, 39.94960000000003 -10.098400000000026, 40.316586229110854 -10.317097752817492, 40.31659000000002 -10.317099999999868, 39.52099999999996 -10.89688000000001, 38.42755659358775 -11.285202325081656, 37.827639999999974 -11.26878999999991, 37.471289999999954 -11.568759999999997, 36.775150994622805 -11.594537448780805, 36.51408165868426 -11.720938002166735, 35.31239790216904 -11.439146416879147, 34.55998904799935 -11.520020033415925, 34.27999999999997 -10.160000000000025, 33.940837724096525 -9.693673841980285, 33.73972000000009 -9.417149999999992, 32.75937544122132 -9.23059905358906, 32.19186486179194 -8.930358981973257, 31.556348097466497 -8.762048841998642, 31.15775133695005 -8.594578747317366, 30.740009731422095 -8.34000593035372, 30.74001549655179 -8.340007419470915, 30.199996779101696 -7.079980970898163, 29.620032179490014 -6.520015150583426, 29.419992710088167 -5.939998874539434, 29.519986606572928 -5.419978936386315, 29.339997592900346 -4.4999834122940925, 29.753512404099865 -4.452389418153302, 30.11632000000003 -4.090120000000013, 30.505539999999996 -3.5685799999999404, 30.752240000000086 -3.3593099999999936, 30.743010000000027 -3.034309999999948, 30.527660000000026 -2.807619999999986, 30.469673645761223 -2.41385475710134, 30.469670000000008 -2.4138299999999617, 30.75830895358311 -2.2872502579883687, 30.816134881317712 -1.6989140763453887, 30.419104852019245 -1.1346591121504161, 30.769860000000108 -1.0145499999999856, 31.866170000000068 -1.0273599999999306, 33.90371119710453 -0.9500000000000001))\n"
     ]
    }
   ],
   "source": [
    "print(world.geometry[1])"
   ]
  },
  {
   "cell_type": "code",
   "execution_count": 51,
   "id": "4a7b847d-9df1-4d21-9bf4-9e7e0bcc7519",
   "metadata": {
    "tags": []
   },
   "outputs": [
    {
     "data": {
      "image/svg+xml": [
       "<svg xmlns=\"http://www.w3.org/2000/svg\" xmlns:xlink=\"http://www.w3.org/1999/xlink\" width=\"100.0\" height=\"100.0\" viewBox=\"125.94851002004464 34.22115800224883 3.68868234050953 4.559972827166675\" preserveAspectRatio=\"xMinYMin meet\"><g transform=\"matrix(1,0,0,-1,0,73.00228883166433)\"><polyline fill=\"none\" stroke=\"#66cc99\" stroke-width=\"0.0911994565433335\" points=\"126.17475874237624,37.74968577732804 126.23733890188176,37.84037791600028 126.68371992401893,37.80477285415118 127.07330854706737,38.2561148137884 127.78003543509101,38.30453563084589 128.20574588431145,38.37039724380189 128.34971642467661,38.61224294692785 129.21291954968007,37.43239248305595 129.46044966035817,36.78418915460283 129.4683044780665,35.63214061130395 129.0913765809296,35.082484239231434 128.1858504578791,34.89037710218639 127.3865194031884,34.47567373304412 126.48574751190876,34.39004588473648 126.37391971242914,34.934560451795946 126.55923139862779,35.6845405136479 126.11739790253229,36.72548472751926 126.86014326386339,36.893924058574626 126.17475874237624,37.74968577732804\" opacity=\"0.8\" /></g></svg>"
      ],
      "text/plain": [
       "<LINESTRING (126.175 37.75, 126.237 37.84, 126.684 37.805, 127.073 38.256, 1...>"
      ]
     },
     "execution_count": 51,
     "metadata": {},
     "output_type": "execute_result"
    }
   ],
   "source": [
    "kor_geom = world[world['name'] == 'South Korea'].geometry\n",
    "kor_geom.boundary.squeeze()"
   ]
  },
  {
   "cell_type": "code",
   "execution_count": 53,
   "id": "f555fc51-251e-42e2-860a-8c2526b97283",
   "metadata": {
    "tags": []
   },
   "outputs": [
    {
     "name": "stdout",
     "output_type": "stream",
     "text": [
      "96    POLYGON ((126.17476 37.74969, 126.23734 37.840...\n",
      "Name: geometry, dtype: geometry\n"
     ]
    }
   ],
   "source": [
    "print(kor_geom)"
   ]
  },
  {
   "cell_type": "markdown",
   "id": "88c7cbc7-633a-4591-8b20-1d3c2fdfd7a5",
   "metadata": {},
   "source": [
    "## cities"
   ]
  },
  {
   "cell_type": "code",
   "execution_count": null,
   "id": "7c30b0c0-fb4d-48b7-b6cd-2415bf475b85",
   "metadata": {},
   "outputs": [],
   "source": [
    "cities = gpd.read_file(gpd.datasets.get_path('naturalearth_cities'))\n"
   ]
  }
 ],
 "metadata": {
  "kernelspec": {
   "display_name": "Python 3 (ipykernel)",
   "language": "python",
   "name": "python3"
  },
  "language_info": {
   "codemirror_mode": {
    "name": "ipython",
    "version": 3
   },
   "file_extension": ".py",
   "mimetype": "text/x-python",
   "name": "python",
   "nbconvert_exporter": "python",
   "pygments_lexer": "ipython3",
   "version": "3.9.13"
  }
 },
 "nbformat": 4,
 "nbformat_minor": 5
}
