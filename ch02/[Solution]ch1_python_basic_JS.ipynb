{
 "cells": [
  {
   "cell_type": "markdown",
   "metadata": {
    "id": "zPQhvr_3eWe5"
   },
   "source": [
    "## Hello World"
   ]
  },
  {
   "cell_type": "markdown",
   "metadata": {
    "id": "-Hkn8RxwsO6d"
   },
   "source": [
    "Colab의 셀은 **더블클릭**하거나, **Enter 키**를 입력하여 수정할 수 있습니다.\n",
    "한 번 시도해볼까요?"
   ]
  },
  {
   "cell_type": "markdown",
   "metadata": {
    "id": "iPomsy9Ar87N"
   },
   "source": [
    "먼저, 프로그램의 입력과 출력을 동시에 기억하는 것이 좋습니다.  \n",
    "Python에 **\"Hello, world!\"** 를 출력해 결과값을 봅시다."
   ]
  },
  {
   "cell_type": "code",
   "execution_count": null,
   "metadata": {
    "colab": {
     "base_uri": "https://localhost:8080/"
    },
    "executionInfo": {
     "elapsed": 29,
     "status": "ok",
     "timestamp": 1650678230655,
     "user": {
      "displayName": "Ji-hoon Jung",
      "userId": "03169308685755834042"
     },
     "user_tz": -540
    },
    "id": "0W2AaApOeIZJ",
    "outputId": "565ebf38-db08-4a92-c56d-c9d25f077d30"
   },
   "outputs": [
    {
     "name": "stdout",
     "output_type": "stream",
     "text": [
      "Hello, world!\n"
     ]
    }
   ],
   "source": [
    "print(\"Hello, world!\")"
   ]
  },
  {
   "cell_type": "markdown",
   "metadata": {
    "id": "fo7SY3Ypgnyo"
   },
   "source": [
    "위에서 사용한 **print**처럼 단어 뒤에 괄호()가 붙는 것들을 **함수(Function)**라고 하며, 해당 함수를 **호출(Call)** 시 정해진 과정이 실행됩니다."
   ]
  },
  {
   "cell_type": "markdown",
   "metadata": {
    "id": "IOrCHR_QeYtc"
   },
   "source": [
    "## 주석처리"
   ]
  },
  {
   "cell_type": "markdown",
   "metadata": {
    "id": "OUDFeG8gsQpA"
   },
   "source": [
    "주석은 **코드의 가독성**을 늘리거나, **Python Interpreter가 처리하지 않도록** 할 때 사용됩니다.\n",
    "주석의 종류로는 '#'dmf 이용한 한 줄 주석과, \"\"\" 을 활용한 여러 줄 주석의 두 가지 방법이 있습니다."
   ]
  },
  {
   "cell_type": "code",
   "execution_count": null,
   "metadata": {
    "colab": {
     "base_uri": "https://localhost:8080/"
    },
    "executionInfo": {
     "elapsed": 28,
     "status": "ok",
     "timestamp": 1650678230656,
     "user": {
      "displayName": "Ji-hoon Jung",
      "userId": "03169308685755834042"
     },
     "user_tz": -540
    },
    "id": "OeC7DtrOeayN",
    "outputId": "6c9fa240-2ce6-4ae4-b1a9-8040dbfa98ec"
   },
   "outputs": [
    {
     "name": "stdout",
     "output_type": "stream",
     "text": [
      "Hello, world!\n"
     ]
    }
   ],
   "source": [
    "# 한 줄 주석 처리\n",
    "\"\"\"\n",
    "여러 줄 주석 예제 동일한 따옴표(큰따옴표 혹은 작은 따옴표) \n",
    "세 개와 세 개 사이에는어떠한 내용, \n",
    "몇 줄이 들어가더라도 모두 주석으로 처리됩니다.\n",
    "\"\"\"\n",
    "print(\"Hello, world!\")"
   ]
  },
  {
   "cell_type": "markdown",
   "metadata": {
    "id": "k-Qyw6_BlgSP"
   },
   "source": [
    "# 변수(Scalar)"
   ]
  },
  {
   "cell_type": "markdown",
   "metadata": {
    "id": "sUEO3dVdet7r"
   },
   "source": [
    "## 변수의 종류\n"
   ]
  },
  {
   "cell_type": "markdown",
   "metadata": {
    "id": "cNKxb8mMg5f0"
   },
   "source": [
    "Python 언어는 모두 **객체(Object)**로 구현되고, 객체는 하나의 자료형(Type)을 가집니다. 이때의 자료형은 Scalar와 Non-Scalar 두 가지 종류로 구분됩니다. "
   ]
  },
  {
   "cell_type": "markdown",
   "metadata": {
    "id": "u8jKULzshLKH"
   },
   "source": [
    "Scalar 객체는 더는 나눌 수 없는 최소 단위의 자료형입니다.  \n",
    "Python에는 4가지 종류의 Scalar 자료형이 존재합니다."
   ]
  },
  {
   "cell_type": "markdown",
   "metadata": {
    "id": "tw-IyW8ThXG_"
   },
   "source": [
    "Int: 정수를 표현하는데 사용합니다."
   ]
  },
  {
   "cell_type": "code",
   "execution_count": null,
   "metadata": {
    "id": "gCK9u9B7fUMB"
   },
   "outputs": [],
   "source": [
    "num_int = 1\n",
    "print(type(num_int))"
   ]
  },
  {
   "cell_type": "markdown",
   "metadata": {
    "id": "OT1Y1OZmha5g"
   },
   "source": [
    "Float: 실수(Real Number)를 표현하는데 사용합니다."
   ]
  },
  {
   "cell_type": "code",
   "execution_count": null,
   "metadata": {
    "colab": {
     "base_uri": "https://localhost:8080/"
    },
    "executionInfo": {
     "elapsed": 24,
     "status": "ok",
     "timestamp": 1650678230657,
     "user": {
      "displayName": "Ji-hoon Jung",
      "userId": "03169308685755834042"
     },
     "user_tz": -540
    },
    "id": "GtUCaBHkfWNQ",
    "outputId": "eb23c2cb-ad67-4301-c410-89db2e8090f0"
   },
   "outputs": [
    {
     "name": "stdout",
     "output_type": "stream",
     "text": [
      "<class 'float'>\n"
     ]
    }
   ],
   "source": [
    "num_float = 0.2\n",
    "print(type(num_float))"
   ]
  },
  {
   "cell_type": "markdown",
   "metadata": {
    "id": "B40T-uCchfKD"
   },
   "source": [
    "Bool: True와 False로 나타내는 Boolean 값을 표현하는 데 사용합니다."
   ]
  },
  {
   "cell_type": "code",
   "execution_count": null,
   "metadata": {
    "colab": {
     "base_uri": "https://localhost:8080/"
    },
    "executionInfo": {
     "elapsed": 24,
     "status": "ok",
     "timestamp": 1650678230658,
     "user": {
      "displayName": "Ji-hoon Jung",
      "userId": "03169308685755834042"
     },
     "user_tz": -540
    },
    "id": "4ZeabDsOfXaI",
    "outputId": "eed3a382-049d-40f7-c766-0e4304dd4276"
   },
   "outputs": [
    {
     "name": "stdout",
     "output_type": "stream",
     "text": [
      "<class 'bool'>\n"
     ]
    }
   ],
   "source": [
    "bool_true = False\n",
    "print(type(bool_true))"
   ]
  },
  {
   "cell_type": "markdown",
   "metadata": {
    "id": "Xv1cTUYAAL-b"
   },
   "source": [
    "None: Null을 나타내는 자료형으로 None이라는 한 가지 값만 가집니다."
   ]
  },
  {
   "cell_type": "code",
   "execution_count": null,
   "metadata": {
    "colab": {
     "base_uri": "https://localhost:8080/"
    },
    "executionInfo": {
     "elapsed": 19,
     "status": "ok",
     "timestamp": 1650678230658,
     "user": {
      "displayName": "Ji-hoon Jung",
      "userId": "03169308685755834042"
     },
     "user_tz": -540
    },
    "id": "Ak2_4fVAhkzo",
    "outputId": "213c2667-bb6e-4bcb-b566-2db06cb4325a"
   },
   "outputs": [
    {
     "name": "stdout",
     "output_type": "stream",
     "text": [
      "<class 'NoneType'>\n"
     ]
    }
   ],
   "source": [
    "none_x = None\n",
    "print(type(none_x))"
   ]
  },
  {
   "cell_type": "markdown",
   "metadata": {
    "id": "exsypoKWXvJr"
   },
   "source": [
    "## 사칙 연산\n",
    "\n",
    "\n"
   ]
  },
  {
   "cell_type": "markdown",
   "metadata": {
    "id": "oYGmGMR0i4Lq"
   },
   "source": [
    "**정수형 사칙 연산**  \n",
    "사칙 연산을 수행하는 코드를 작성하고 각 결괏값을 봅시다.  \n",
    "변수값을 변경해 실행한 후 결과값이 어떻게 달라지는지 확인하는 것을 추천합니다."
   ]
  },
  {
   "cell_type": "code",
   "execution_count": null,
   "metadata": {
    "colab": {
     "base_uri": "https://localhost:8080/"
    },
    "executionInfo": {
     "elapsed": 17,
     "status": "ok",
     "timestamp": 1650678230659,
     "user": {
      "displayName": "Ji-hoon Jung",
      "userId": "03169308685755834042"
     },
     "user_tz": -540
    },
    "id": "XIAfRYK3brW8",
    "outputId": "68c829bc-fb07-44de-f3c2-2fc96f335e9c"
   },
   "outputs": [
    {
     "name": "stdout",
     "output_type": "stream",
     "text": [
      "a + b =  5\n",
      "a - b =  1\n",
      "a * b =  6\n",
      "a / b =  1.5\n",
      "a // b =  1\n",
      "a % b =  1\n",
      "a ** b =  9\n"
     ]
    }
   ],
   "source": [
    "a = 3\n",
    "b = 2\n",
    "print('a + b = ', a+b)\n",
    "print('a - b = ', a-b)\n",
    "print('a * b = ', a*b)\n",
    "print('a / b = ', a/b)\n",
    "print('a // b = ', a//b)\n",
    "print('a % b = ', a%b)\n",
    "print('a ** b = ', a**b)"
   ]
  },
  {
   "cell_type": "markdown",
   "metadata": {
    "id": "E-TTfN2yjbCK"
   },
   "source": [
    "**실수형 사칙 연산**  \n",
    "실수형 사칙 연산도 정수형 사칙 연산과 크게 다르지 않습니다.  \n",
    " 다만, 한 가지 차이점은 정수형의 반환값은 기본적으로 정수형이고, 실수형의 반환값은 실수형이라는 점입니다."
   ]
  },
  {
   "cell_type": "code",
   "execution_count": null,
   "metadata": {
    "colab": {
     "base_uri": "https://localhost:8080/"
    },
    "executionInfo": {
     "elapsed": 15,
     "status": "ok",
     "timestamp": 1650678230659,
     "user": {
      "displayName": "Ji-hoon Jung",
      "userId": "03169308685755834042"
     },
     "user_tz": -540
    },
    "id": "Mov0V2wFeJ-o",
    "outputId": "661c4e76-e387-40bd-8c8a-7800eb1833a0"
   },
   "outputs": [
    {
     "name": "stdout",
     "output_type": "stream",
     "text": [
      "c + d = 5.0\n",
      "c - d = 1.0\n",
      "c * d = 6.0\n",
      "c / d = 1.5\n",
      "c // d = 1.0\n",
      "c % d = 1.0\n",
      "c ** d = 9.0\n"
     ]
    }
   ],
   "source": [
    "c = 3.0\n",
    "d = 2.0\n",
    "print('c + d =', c+d)\n",
    "print('c - d =', c-d)\n",
    "print('c * d =', c*d)\n",
    "print('c / d =', c/d)\n",
    "print('c // d =', c//d)\n",
    "print('c % d =', c%d)\n",
    "print('c ** d =', c**d)"
   ]
  },
  {
   "cell_type": "markdown",
   "metadata": {
    "id": "pvKat4fGZL9q"
   },
   "source": [
    "## 논리형 연산자"
   ]
  },
  {
   "cell_type": "markdown",
   "metadata": {
    "id": "n2SYuBjQjt4W"
   },
   "source": [
    "Bool 형은 True와 False 값으로 정의합니다.  \n",
    "정수형, 실수형 같은 사친 연산자와는 다른 의미를 갖습니다.  \n",
    "논리형 연산자는 크게 AND, OR, NOT이 있습니다."
   ]
  },
  {
   "cell_type": "code",
   "execution_count": null,
   "metadata": {
    "colab": {
     "base_uri": "https://localhost:8080/"
    },
    "executionInfo": {
     "elapsed": 13,
     "status": "ok",
     "timestamp": 1650678230659,
     "user": {
      "displayName": "Ji-hoon Jung",
      "userId": "03169308685755834042"
     },
     "user_tz": -540
    },
    "id": "mK0wg9VPZOd_",
    "outputId": "fbd6067d-baa0-483c-a52f-b252dee2d281"
   },
   "outputs": [
    {
     "name": "stdout",
     "output_type": "stream",
     "text": [
      "True\n",
      "False\n",
      "False\n",
      "False\n"
     ]
    }
   ],
   "source": [
    "print(True and True)\n",
    "print(True and False)\n",
    "print(False and True)\n",
    "print(False and False)"
   ]
  },
  {
   "cell_type": "code",
   "execution_count": null,
   "metadata": {
    "colab": {
     "base_uri": "https://localhost:8080/"
    },
    "executionInfo": {
     "elapsed": 13,
     "status": "ok",
     "timestamp": 1650678230660,
     "user": {
      "displayName": "Ji-hoon Jung",
      "userId": "03169308685755834042"
     },
     "user_tz": -540
    },
    "id": "SmLzHKPXaj2X",
    "outputId": "7f64af21-4569-43b9-b763-6647e3c5cbf0"
   },
   "outputs": [
    {
     "name": "stdout",
     "output_type": "stream",
     "text": [
      "True\n",
      "True\n",
      "True\n",
      "False\n"
     ]
    }
   ],
   "source": [
    "print(True or True)\n",
    "print(True or False)\n",
    "print(False or True)\n",
    "print(False or False)"
   ]
  },
  {
   "cell_type": "markdown",
   "metadata": {
    "id": "woAODXp5hVuc"
   },
   "source": [
    "## 비교 연산자"
   ]
  },
  {
   "cell_type": "markdown",
   "metadata": {
    "id": "ejl8DDytkSp_"
   },
   "source": [
    "비교 연산자는 부등호를 의미합니다.  \n",
    "Python에서 주의할 점은, 왼쪽에 있는 값이 기준값이라는 점입니다.\n"
   ]
  },
  {
   "cell_type": "code",
   "execution_count": null,
   "metadata": {
    "colab": {
     "base_uri": "https://localhost:8080/"
    },
    "executionInfo": {
     "elapsed": 12,
     "status": "ok",
     "timestamp": 1650678230660,
     "user": {
      "displayName": "Ji-hoon Jung",
      "userId": "03169308685755834042"
     },
     "user_tz": -540
    },
    "id": "KKKdovf0hYij",
    "outputId": "c71eda0f-40fd-49f3-b463-75de8d2de2a3"
   },
   "outputs": [
    {
     "name": "stdout",
     "output_type": "stream",
     "text": [
      "True\n",
      "False\n",
      "True\n",
      "False\n",
      "False\n",
      "True\n"
     ]
    }
   ],
   "source": [
    "print(4 > 3)\n",
    "print(4 < 3)\n",
    "print(4 >= 3)\n",
    "print(4 <= 3)\n",
    "print(4 > 4)\n",
    "print(4 >= 4)"
   ]
  },
  {
   "cell_type": "markdown",
   "metadata": {
    "id": "4zX99B45nuVW"
   },
   "source": [
    "## 논리형 & 비교 연산자 응용"
   ]
  },
  {
   "cell_type": "markdown",
   "metadata": {
    "id": "oZ1fbuq9khkC"
   },
   "source": [
    "논리형& 비교 연산자를 응용하기에 앞서, 몇 가지 함수를 알아보고 가겠습니다.   \n",
    "**Input( ) 함수**는 print( ) 함수와 반대되는 개념으로 사용자가 특정한 값을 입력하도록 돕습니다.  \n",
    "I**nt( ) 함수**는 문자열을 숫자로 데이터 타입을 변환시킵니다. 부등호 연산자를 쓰기 위해서는 이런시그이 형변환이 필수적입니다."
   ]
  },
  {
   "cell_type": "code",
   "execution_count": null,
   "metadata": {
    "colab": {
     "base_uri": "https://localhost:8080/"
    },
    "executionInfo": {
     "elapsed": 239177,
     "status": "ok",
     "timestamp": 1650678469826,
     "user": {
      "displayName": "Ji-hoon Jung",
      "userId": "03169308685755834042"
     },
     "user_tz": -540
    },
    "id": "x4seh4KI9Fpe",
    "outputId": "adeff9b1-a10b-4cb2-baaf-8358b50f4ce6"
   },
   "outputs": [
    {
     "name": "stdout",
     "output_type": "stream",
     "text": [
      "입력1\n",
      "<class 'str'>\n"
     ]
    }
   ],
   "source": [
    "var = input(\"입력\")\n",
    "print(type(var))"
   ]
  },
  {
   "cell_type": "code",
   "execution_count": null,
   "metadata": {
    "colab": {
     "base_uri": "https://localhost:8080/"
    },
    "executionInfo": {
     "elapsed": 29257,
     "status": "ok",
     "timestamp": 1650678499063,
     "user": {
      "displayName": "Ji-hoon Jung",
      "userId": "03169308685755834042"
     },
     "user_tz": -540
    },
    "id": "OLx2N21Znx8m",
    "outputId": "34ad421e-f770-4225-fbd1-ba8bb4a58a53"
   },
   "outputs": [
    {
     "name": "stdout",
     "output_type": "stream",
     "text": [
      "첫번째 숫자를 입력하세요: 1\n",
      "두번째 숫자를 입력하세요: 2\n",
      "세번째 숫자를 입력하세요: 4\n",
      "네번째 숫자를 입력하세요: 5\n",
      "False\n"
     ]
    }
   ],
   "source": [
    "num1 = int(input(\"첫번째 숫자를 입력하세요: \"))\n",
    "num2 = int(input(\"두번째 숫자를 입력하세요: \"))\n",
    "num3 = int(input(\"세번째 숫자를 입력하세요: \"))\n",
    "num4 = int(input(\"네번째 숫자를 입력하세요: \"))\n",
    "\n",
    "var1 = num1 >= num2 # True\n",
    "var2 = num3 < num4 # True\n",
    "print(var1 and var2)"
   ]
  },
  {
   "cell_type": "markdown",
   "metadata": {
    "id": "SaNudY3dlJQq"
   },
   "source": [
    "# 변수(Non-Scalar)\n",
    "Scalar 자료형이 아닌 나머지 데이터는 모두 **Non-Scalar** 자료형으로 분류됩니다."
   ]
  },
  {
   "cell_type": "markdown",
   "metadata": {
    "id": "0YMXLSdgy6qx"
   },
   "source": [
    "## String"
   ]
  },
  {
   "cell_type": "markdown",
   "metadata": {
    "id": "FARPQJM7mfJk"
   },
   "source": [
    "Python은 작은 따옴표(') 나 큰 따옴표(\") 를 사용해 문자열을 표기합니다. "
   ]
  },
  {
   "cell_type": "code",
   "execution_count": null,
   "metadata": {
    "colab": {
     "base_uri": "https://localhost:8080/"
    },
    "executionInfo": {
     "elapsed": 105,
     "status": "ok",
     "timestamp": 1650678499066,
     "user": {
      "displayName": "Ji-hoon Jung",
      "userId": "03169308685755834042"
     },
     "user_tz": -540
    },
    "id": "QlY-4KeZ2gMm",
    "outputId": "6ea6582f-9be4-4162-9383-9dc1e46c44ec"
   },
   "outputs": [
    {
     "name": "stdout",
     "output_type": "stream",
     "text": [
      "'Hello, world!'\n",
      "\"Hello, world!\"\n"
     ]
    }
   ],
   "source": [
    "print(\"'Hello, world!'\")\n",
    "print('\"Hello, world!\"')"
   ]
  },
  {
   "cell_type": "markdown",
   "metadata": {
    "id": "4qIuNZWsmoqa"
   },
   "source": [
    "이 때 파이썬 인터프리터는 큰 따옴표와 작은 따옴표 두 가지를 똑같이 취급합니다."
   ]
  },
  {
   "cell_type": "markdown",
   "metadata": {
    "id": "MrG_n8TO6UJF"
   },
   "source": [
    "## String Operators"
   ]
  },
  {
   "cell_type": "markdown",
   "metadata": {
    "id": "g-FEaGrXm9Q6"
   },
   "source": [
    "Python은 연산자 오버로딩을 사용해 일반적인 수리 연산자를 문자열 형태의 변수에도 사용합니다.  \n",
    "이 때 모든 사칙 연산이 가능한 것이 아니라 덧셈과 곱셈만 가능합니다."
   ]
  },
  {
   "cell_type": "markdown",
   "metadata": {
    "id": "CpscHy9dnKNy"
   },
   "source": [
    "Str1+ Str2: 덧셈 연산자를 통해 문자열 또는 문자열 변수를 합칩니다."
   ]
  },
  {
   "cell_type": "code",
   "execution_count": null,
   "metadata": {
    "colab": {
     "base_uri": "https://localhost:8080/"
    },
    "executionInfo": {
     "elapsed": 105,
     "status": "ok",
     "timestamp": 1650678499071,
     "user": {
      "displayName": "Ji-hoon Jung",
      "userId": "03169308685755834042"
     },
     "user_tz": -540
    },
    "id": "lujJA5WR6Vyd",
    "outputId": "5d28b71a-afc0-401b-c52f-b7a520d53889"
   },
   "outputs": [
    {
     "name": "stdout",
     "output_type": "stream",
     "text": [
      "str1 + str2 =  Hello World \n"
     ]
    }
   ],
   "source": [
    "str1 = \"Hello \"\n",
    "str2 = \"World \"\n",
    "print('str1 + str2 = ', str1 + str2)"
   ]
  },
  {
   "cell_type": "markdown",
   "metadata": {
    "id": "w55tHPO-nPVi"
   },
   "source": [
    "Str1*N: 연산자를 통해 Str1을 n회 복제합니다."
   ]
  },
  {
   "cell_type": "code",
   "execution_count": null,
   "metadata": {
    "colab": {
     "base_uri": "https://localhost:8080/"
    },
    "executionInfo": {
     "elapsed": 329,
     "status": "ok",
     "timestamp": 1650678565246,
     "user": {
      "displayName": "Ji-hoon Jung",
      "userId": "03169308685755834042"
     },
     "user_tz": -540
    },
    "id": "Uv5HA3u76iax",
    "outputId": "1b90af9d-8a18-4def-f581-1787ff79275f"
   },
   "outputs": [
    {
     "name": "stdout",
     "output_type": "stream",
     "text": [
      "greet * 3 =  Hello World Hello World Hello World \n"
     ]
    }
   ],
   "source": [
    "greet = str1 + str2\n",
    "print('greet * 3 = ', greet * 3)"
   ]
  },
  {
   "cell_type": "markdown",
   "metadata": {
    "id": "lyMcbQU_HAvT"
   },
   "source": [
    "## Indexing"
   ]
  },
  {
   "cell_type": "markdown",
   "metadata": {
    "id": "ZhTYOcG1newC"
   },
   "source": [
    "**문자열 인덱싱**은 각각의 문자열 안에서 범위를 지정하는 것을 의미합니다.  \n",
    "문자열의 범위는 0번째부터 시작합니다."
   ]
  },
  {
   "cell_type": "code",
   "execution_count": null,
   "metadata": {
    "colab": {
     "base_uri": "https://localhost:8080/"
    },
    "executionInfo": {
     "elapsed": 5,
     "status": "ok",
     "timestamp": 1650678589629,
     "user": {
      "displayName": "Ji-hoon Jung",
      "userId": "03169308685755834042"
     },
     "user_tz": -540
    },
    "id": "TDaVsZ9tHDaO",
    "outputId": "238fa942-dfdd-41f2-d343-b0ee610fec5d"
   },
   "outputs": [
    {
     "name": "stdout",
     "output_type": "stream",
     "text": [
      "l\n"
     ]
    }
   ],
   "source": [
    "greeting = \"Hello Kaggle\"\n",
    "print(greeting[3])"
   ]
  },
  {
   "cell_type": "markdown",
   "metadata": {
    "id": "e0qZXTIJXx34"
   },
   "source": [
    "## Slicing"
   ]
  },
  {
   "cell_type": "markdown",
   "metadata": {
    "id": "hvBlJc_Fnv8a"
   },
   "source": [
    "만약 'Kaggle'글자만 추출하려고 할 때 필요한 것이 **슬라이싱(Slicing)**입니다.  \n",
    "슬라이싱은 범위를 지정해 문자열의 일부를 추출하는 것입니다.  \n",
    "문자의 길이가 n이라면,왼쪽이 0부터, 오른쪽 끝은 n-1입니다.    \n"
   ]
  },
  {
   "cell_type": "markdown",
   "metadata": {
    "id": "Si7F2yIbogMs"
   },
   "source": [
    " \n",
    "\n",
    "*   Str1[1:] :처음부터 끝까지 전체 문자열을 추출합니다. \n",
    "*   Str1[Start:] : Start 인덱스부터 끝까지 문자열을 추출합니다.\n",
    "*   Str1[:End] : 처음부터 (End-1)인덱스까지 문자열을 추출합니다. \n",
    "*   Str1[Start:End]: start 인덱스부터 (End-1)까지 문자열을 추출합니다.  \n",
    "*   Str1[Start:End:Step]:Step만큼 문자를 건너뛰면서 인덱스 Start와 End-1까지의 문자열을 추출합니다."
   ]
  },
  {
   "cell_type": "code",
   "execution_count": null,
   "metadata": {
    "colab": {
     "base_uri": "https://localhost:8080/"
    },
    "executionInfo": {
     "elapsed": 104,
     "status": "ok",
     "timestamp": 1650678499077,
     "user": {
      "displayName": "Ji-hoon Jung",
      "userId": "03169308685755834042"
     },
     "user_tz": -540
    },
    "id": "AtpUSQcZX-Z8",
    "outputId": "07237ac9-fe48-41f2-f770-6471d467fa45"
   },
   "outputs": [
    {
     "name": "stdout",
     "output_type": "stream",
     "text": [
      "Hello Kaggle\n",
      "Kaggle\n",
      "Hello \n",
      "lo Ka\n",
      "HloKg\n"
     ]
    }
   ],
   "source": [
    "greeting = \"Hello Kaggle\"\n",
    "print(greeting[:])\n",
    "print(greeting[6:])\n",
    "print(greeting[:6])\n",
    "print(greeting[3:8])\n",
    "print(greeting[0:9:2])"
   ]
  },
  {
   "cell_type": "markdown",
   "metadata": {
    "id": "eVuDml0FozBs"
   },
   "source": [
    "문자열 인덱싱 및 슬라이싱을 수행하다 보면, 다음과 같은 에러가 발생하는 것을 볼 수 있습니다."
   ]
  },
  {
   "cell_type": "code",
   "execution_count": null,
   "metadata": {
    "colab": {
     "base_uri": "https://localhost:8080/",
     "height": 35
    },
    "executionInfo": {
     "elapsed": 347,
     "status": "ok",
     "timestamp": 1650679353083,
     "user": {
      "displayName": "Ji-hoon Jung",
      "userId": "03169308685755834042"
     },
     "user_tz": -540
    },
    "id": "uKQw8LryaJVk",
    "outputId": "e2a03285-aa11-4b78-acd9-fb17d7a54e09"
   },
   "outputs": [
    {
     "data": {
      "application/vnd.google.colaboratory.intrinsic+json": {
       "type": "string"
      },
      "text/plain": [
       "'l'"
      ]
     },
     "execution_count": 24,
     "metadata": {},
     "output_type": "execute_result"
    }
   ],
   "source": [
    "greeting[10]"
   ]
  },
  {
   "cell_type": "markdown",
   "metadata": {
    "id": "9Hjp5qQEo3Pp"
   },
   "source": [
    "에러 메시지를 안내서라고 인지하고, 천천히 에러를 확인해 보며 더 나은 코드를 작성하도록 하는 도움말로 이해하는 것이 좋습니다.   \n",
    "에러는 보통 2가지를 동시에 알려줍니다.\n",
    "1. 에러가 발생한 위치에 대한 설명\n",
    "2. 에러의 내용  \n",
    "*----> 1 greeting[13]* 은 에러가 발생한 코드 및 위치를 알려줍니다.  \n",
    "*IndexError: string index out of range* 의 의미는 String의 인덱스가 범위 밖에 있다는 뜻입니다. "
   ]
  },
  {
   "cell_type": "markdown",
   "metadata": {
    "id": "ZHTk0FfU5XVH"
   },
   "source": [
    "## 리스트"
   ]
  },
  {
   "cell_type": "markdown",
   "metadata": {
    "id": "E6XjjIU_CxW9"
   },
   "source": [
    "파이썬에 존재하는 자료형으로, 시퀀스 데이터를 다룹니다.   \n",
    "시퀀스를 갖는 것은 데이터에 순서가 있다는 뜻입니다.  \n",
    "순서가 존재하니 **구성 요소(Element)**를 **인덱스(Index)**를 사용해 참조합니다. "
   ]
  },
  {
   "cell_type": "markdown",
   "metadata": {
    "id": "FvkVCMFDDE38"
   },
   "source": [
    "리스트는 대괄호([])로 감싸고, 각 요소는 쉼표(,)로 구분합니다.  \n",
    "리스트 이름=[요소1, 요소2, 요소3, ...] 형태로 사용합니다.  \n",
    "리스트 요소로는 어떤 자료형도 넣을 수 있습니다.  \n",
    "비어 있는(Empty) 리스트를 선언하고 싶다면, A=[]나, A=List()의 방식으로 선언할 수 있습니다."
   ]
  },
  {
   "cell_type": "code",
   "execution_count": null,
   "metadata": {
    "colab": {
     "base_uri": "https://localhost:8080/"
    },
    "executionInfo": {
     "elapsed": 341,
     "status": "ok",
     "timestamp": 1650679381545,
     "user": {
      "displayName": "Ji-hoon Jung",
      "userId": "03169308685755834042"
     },
     "user_tz": -540
    },
    "id": "z6qJfPC35WiD",
    "outputId": "68a34883-855b-48ab-eaec-e2c31028db70"
   },
   "outputs": [
    {
     "name": "stdout",
     "output_type": "stream",
     "text": [
      "[]\n",
      "[]\n",
      "[1]\n",
      "['apple']\n",
      "[1, 2, ['apple']]\n"
     ]
    }
   ],
   "source": [
    "a = [] # 빈 리스트\n",
    "a_func = list() #list()함수로도 빈 리스트를 만들 수 있다.\n",
    "b = [1] # 숫자도 요소가 될 수 있다.\n",
    "c = ['apple'] # 문자열도 요소가 될 수 있다\n",
    "d = [1, 2, ['apple']] # 리스트 안에 리스트를 요소로 넣을 수 있다.\n",
    "\n",
    "print(a)\n",
    "print(a_func)\n",
    "print(b)\n",
    "print(c)\n",
    "print(d)"
   ]
  },
  {
   "cell_type": "markdown",
   "metadata": {
    "id": "xwfGOkdADvaU"
   },
   "source": [
    "리스트 인덱싱 시퀀스 데이터를 다뤄 리스트도 인덱싱합니다.  \n",
    "간단한 숫자 데이터를 가진 리스트의 첫 번째 인덱스는 0으로 시작합니다. 마지막 인덱스는 n-1입니다. 여기서 n은 리스트에 들어 있는 요소의 개수를 의미합니다.  \n",
    "문자열에서처럼 길이와 상관없이 가장 오른쪽 인덱스는 -1입니다.  "
   ]
  },
  {
   "cell_type": "code",
   "execution_count": null,
   "metadata": {
    "colab": {
     "base_uri": "https://localhost:8080/"
    },
    "executionInfo": {
     "elapsed": 336,
     "status": "ok",
     "timestamp": 1650679407590,
     "user": {
      "displayName": "Ji-hoon Jung",
      "userId": "03169308685755834042"
     },
     "user_tz": -540
    },
    "id": "W4XhOxJP5hja",
    "outputId": "09b90750-2ef8-4c77-d889-8ea65f01cf27"
   },
   "outputs": [
    {
     "name": "stdout",
     "output_type": "stream",
     "text": [
      "1\n",
      "2\n",
      "3\n",
      "3\n"
     ]
    }
   ],
   "source": [
    "a =    [1,    2,   3]\n",
    "# index [[0], [1], [2]]\n",
    "print(a[0]) # 첫번째 요소\n",
    "print(a[1]) # 두번째 요소\n",
    "print(a[2]) # 세번째 요소\n",
    "print(a[-1])"
   ]
  },
  {
   "cell_type": "markdown",
   "metadata": {
    "id": "LVJkV0_KEfHP"
   },
   "source": [
    "리스트 안에 또 다른 리스트를 추가하는 중첩 리스트입니다. "
   ]
  },
  {
   "cell_type": "code",
   "execution_count": null,
   "metadata": {
    "colab": {
     "base_uri": "https://localhost:8080/"
    },
    "executionInfo": {
     "elapsed": 360,
     "status": "ok",
     "timestamp": 1650679582114,
     "user": {
      "displayName": "Ji-hoon Jung",
      "userId": "03169308685755834042"
     },
     "user_tz": -540
    },
    "id": "IrVn8ol8KwC-",
    "outputId": "d2b0729e-acec-4a2c-d1ef-83f33efaf090"
   },
   "outputs": [
    {
     "name": "stdout",
     "output_type": "stream",
     "text": [
      "erry\n"
     ]
    }
   ],
   "source": [
    "a = [['apple','banana','cherry'], 1]\n",
    "print(a[0][2][2:])"
   ]
  },
  {
   "cell_type": "code",
   "execution_count": null,
   "metadata": {
    "colab": {
     "base_uri": "https://localhost:8080/"
    },
    "executionInfo": {
     "elapsed": 339,
     "status": "ok",
     "timestamp": 1650679479864,
     "user": {
      "displayName": "Ji-hoon Jung",
      "userId": "03169308685755834042"
     },
     "user_tz": -540
    },
    "id": "d2dL1F3c5qgK",
    "outputId": "dea337fa-cbc9-4b77-83de-f902dba9e784"
   },
   "outputs": [
    {
     "name": "stdout",
     "output_type": "stream",
     "text": [
      "['apple', 'banana', 'cherry']\n",
      "apple\n",
      "e\n",
      "banana\n"
     ]
    }
   ],
   "source": [
    "a = [['apple','banana','cherry'], 1]\n",
    "\n",
    "print(a[0]) # 리스트 내의 리스트\n",
    "print(a[0][0]) # 리스트 내의 리스트의 첫번째 문자열\n",
    "print(a[0][0][4]) # 리스트 내의 리스트의 첫번째 문자열 'apple' 중 첫번째 인덱스\n",
    "print(a[0][1]) # 리스트 내의 리스트의 두번째 문자열"
   ]
  },
  {
   "cell_type": "markdown",
   "metadata": {
    "id": "ueA5BxO_E0Kc"
   },
   "source": [
    "**리스트의 슬라이싱은 문자열의 슬라이싱과 동일합니다.** "
   ]
  },
  {
   "cell_type": "code",
   "execution_count": null,
   "metadata": {
    "colab": {
     "base_uri": "https://localhost:8080/"
    },
    "executionInfo": {
     "elapsed": 356,
     "status": "ok",
     "timestamp": 1650679632204,
     "user": {
      "displayName": "Ji-hoon Jung",
      "userId": "03169308685755834042"
     },
     "user_tz": -540
    },
    "id": "UrENMZnV5rby",
    "outputId": "be8e0f7a-8dae-4ebd-c402-2b9001a171b9"
   },
   "outputs": [
    {
     "name": "stdout",
     "output_type": "stream",
     "text": [
      "a[:4] [1, 2, 3, 4]\n",
      "a[1:4] [2, 3, 4]\n",
      "a[0:7:2] [1, 3, 5, 7]\n",
      "a[::-1] [10, 9, 8, 7, 6, 5, 4, 3, 2, 1]\n",
      "a[::2] [1, 3, 5, 7, 9]\n"
     ]
    }
   ],
   "source": [
    "a = [1,2,3,4,5,6,7,8,9,10]\n",
    "\n",
    "b = a[:4]  # 인덱스 0부터 3까지\n",
    "c = a[1:4] # 인덱스 1부터 3까지\n",
    "d = a[0:7:2] # 인덱스 0부터 6까지 인덱스 2씩 건너 띄우기\n",
    "e = a[::-1] # 리스트 a의 역순\n",
    "f = a[::2] # 리스트 전체구간에서 인덱스 2씩 건너띄우기\n",
    "\n",
    "print(\"a[:4]\", b)\n",
    "print(\"a[1:4]\", c)\n",
    "print(\"a[0:7:2]\", d)\n",
    "print(\"a[::-1]\", e)\n",
    "print(\"a[::2]\", f)"
   ]
  },
  {
   "cell_type": "markdown",
   "metadata": {
    "id": "394X5zeQFAas"
   },
   "source": [
    "문자열 연산자와 비슷하게 리스트도 수리 연산자를 적용할 수 있습니다. "
   ]
  },
  {
   "cell_type": "markdown",
   "metadata": {
    "id": "5X3Y8SoOFO9n"
   },
   "source": [
    "**덧셈**"
   ]
  },
  {
   "cell_type": "code",
   "execution_count": null,
   "metadata": {
    "colab": {
     "base_uri": "https://localhost:8080/"
    },
    "executionInfo": {
     "elapsed": 336,
     "status": "ok",
     "timestamp": 1650679638161,
     "user": {
      "displayName": "Ji-hoon Jung",
      "userId": "03169308685755834042"
     },
     "user_tz": -540
    },
    "id": "bza6ZhtO5vN2",
    "outputId": "8ff6f846-75a9-47f4-9076-26a712e72de1"
   },
   "outputs": [
    {
     "name": "stdout",
     "output_type": "stream",
     "text": [
      "['alice', 'bob', 'cat', 'apple', 'banana', 'cherry']\n"
     ]
    }
   ],
   "source": [
    "a = ['alice', 'bob', 'cat']\n",
    "b = ['apple', 'banana', 'cherry']\n",
    "c = a+b\n",
    "\n",
    "print(c)"
   ]
  },
  {
   "cell_type": "markdown",
   "metadata": {
    "id": "iT5j-YtUFSBT"
   },
   "source": [
    "**곱셈**"
   ]
  },
  {
   "cell_type": "code",
   "execution_count": null,
   "metadata": {
    "colab": {
     "base_uri": "https://localhost:8080/"
    },
    "executionInfo": {
     "elapsed": 527,
     "status": "ok",
     "timestamp": 1650679640155,
     "user": {
      "displayName": "Ji-hoon Jung",
      "userId": "03169308685755834042"
     },
     "user_tz": -540
    },
    "id": "oz59vz1t5yB2",
    "outputId": "365b3c14-c4a4-4415-8968-bef2b6046bc5"
   },
   "outputs": [
    {
     "name": "stdout",
     "output_type": "stream",
     "text": [
      "a * 3: ['a', 'b', 'c', 'a', 'b', 'c', 'a', 'b', 'c']\n",
      "a * 0: []\n"
     ]
    }
   ],
   "source": [
    "a = ['a','b','c']\n",
    "b = a*3\n",
    "c = a*0\n",
    "print(\"a * 3:\", b)\n",
    "print(\"a * 0:\", c)"
   ]
  },
  {
   "cell_type": "markdown",
   "metadata": {
    "id": "PaBa5K32-xJd"
   },
   "source": [
    "## 리스트 값 수정하기"
   ]
  },
  {
   "cell_type": "markdown",
   "metadata": {
    "id": "HLwBe6bNF8TA"
   },
   "source": [
    "리스트의 요소 값은 **리스트 명[인덱스]=수정하려는 값**의 형태로 선언하면 수정할 수 있습니다."
   ]
  },
  {
   "cell_type": "code",
   "execution_count": null,
   "metadata": {
    "colab": {
     "base_uri": "https://localhost:8080/"
    },
    "executionInfo": {
     "elapsed": 349,
     "status": "ok",
     "timestamp": 1650679646218,
     "user": {
      "displayName": "Ji-hoon Jung",
      "userId": "03169308685755834042"
     },
     "user_tz": -540
    },
    "id": "s-hcxKRI-zgp",
    "outputId": "3c0894cc-3ad3-4655-8752-13f75ffb480f"
   },
   "outputs": [
    {
     "name": "stdout",
     "output_type": "stream",
     "text": [
      "[0, 'b', 2]\n"
     ]
    }
   ],
   "source": [
    "a = [0,1,2]\n",
    "a[1] = \"b\"\n",
    "\n",
    "print(a)"
   ]
  },
  {
   "cell_type": "markdown",
   "metadata": {
    "id": "0lZ-gCfjFZ_W"
   },
   "source": [
    "## 리스트 값 추가하기"
   ]
  },
  {
   "cell_type": "markdown",
   "metadata": {
    "id": "Y4LGdpZYGtQ_"
   },
   "source": [
    "리스트에 하나의 요소만 추가하기 위해서는 **Append()** 메소드를 사용하면 됩니다."
   ]
  },
  {
   "cell_type": "code",
   "execution_count": null,
   "metadata": {
    "colab": {
     "base_uri": "https://localhost:8080/"
    },
    "executionInfo": {
     "elapsed": 355,
     "status": "ok",
     "timestamp": 1650679746237,
     "user": {
      "displayName": "Ji-hoon Jung",
      "userId": "03169308685755834042"
     },
     "user_tz": -540
    },
    "id": "5EKuH5PhFZGB",
    "outputId": "f3aa6a02-d147-4ade-c7e5-dfdb20f7e862"
   },
   "outputs": [
    {
     "name": "stdout",
     "output_type": "stream",
     "text": [
      "[100, 200, 300, 400]\n",
      "[100, 200, 300, 400, [500, 600]]\n"
     ]
    }
   ],
   "source": [
    "a = [100, 200, 300]\n",
    "a.append(400)\n",
    "print(a)\n",
    "\n",
    "a.append([500,600])\n",
    "print(a)"
   ]
  },
  {
   "cell_type": "markdown",
   "metadata": {
    "id": "N1f41Q3-G02E"
   },
   "source": [
    "만약 리스트에 여러 개의 요소를 추가하고 싶다면 **Extend()** 함수를 사용합니다."
   ]
  },
  {
   "cell_type": "code",
   "execution_count": null,
   "metadata": {
    "colab": {
     "base_uri": "https://localhost:8080/"
    },
    "executionInfo": {
     "elapsed": 334,
     "status": "ok",
     "timestamp": 1650679784292,
     "user": {
      "displayName": "Ji-hoon Jung",
      "userId": "03169308685755834042"
     },
     "user_tz": -540
    },
    "id": "grlGOsV-8rUv",
    "outputId": "6c09492f-596e-449a-c510-f951b4927e6c"
   },
   "outputs": [
    {
     "name": "stdout",
     "output_type": "stream",
     "text": [
      "a.extend([40,500]) result\n",
      "[1, 2, 3, 40, 500]\n"
     ]
    }
   ],
   "source": [
    "a = [1,2,3]\n",
    "a.extend([40,500])\n",
    "print('a.extend([40,500]) result')\n",
    "print(a)    "
   ]
  },
  {
   "cell_type": "markdown",
   "metadata": {
    "id": "Mk-K2Rd1G9mY"
   },
   "source": [
    "**Insert(인덱스 위치, 값)** 함수는 마지막 리스트에 추가하는 형식인 Append와 Extend 함수와는 다르게 원하는 위치에 특정한 값을 추가하도록 돕습니다. "
   ]
  },
  {
   "cell_type": "code",
   "execution_count": null,
   "metadata": {
    "colab": {
     "base_uri": "https://localhost:8080/"
    },
    "executionInfo": {
     "elapsed": 336,
     "status": "ok",
     "timestamp": 1650679822683,
     "user": {
      "displayName": "Ji-hoon Jung",
      "userId": "03169308685755834042"
     },
     "user_tz": -540
    },
    "id": "6d8GGVRY-Q0R",
    "outputId": "1026efee-c0a9-43ec-c95f-1765354215cd"
   },
   "outputs": [
    {
     "name": "stdout",
     "output_type": "stream",
     "text": [
      "[0, 100, 1, 2]\n"
     ]
    }
   ],
   "source": [
    "a = [0,1,2]\n",
    "\n",
    "a.insert(1,100)\n",
    "print(a)"
   ]
  },
  {
   "cell_type": "markdown",
   "metadata": {
    "id": "bs6RzbwTIR_M"
   },
   "source": [
    "리스트의 중간에 여러 개의 요소를 추가하고 싶다면 슬라이스로 요소를 할당할 수 있습니다. "
   ]
  },
  {
   "cell_type": "code",
   "execution_count": null,
   "metadata": {
    "colab": {
     "base_uri": "https://localhost:8080/"
    },
    "executionInfo": {
     "elapsed": 4,
     "status": "ok",
     "timestamp": 1650679849347,
     "user": {
      "displayName": "Ji-hoon Jung",
      "userId": "03169308685755834042"
     },
     "user_tz": -540
    },
    "id": "OxzukJH3_7Qa",
    "outputId": "663983aa-4162-42e7-c733-03ec4e739d4d"
   },
   "outputs": [
    {
     "name": "stdout",
     "output_type": "stream",
     "text": [
      "[0, 1, 100, 200, 2, 3]\n",
      "[0, 100, 200, 300, 400, 2, 3]\n",
      "[0, 100, 3]\n"
     ]
    }
   ],
   "source": [
    "a = [0,1,2,3]\n",
    "a[2:2] = [100,200]\n",
    "print(a)\n",
    "\n",
    "# 시작과 끝의 범위보다 큰 수를 덮어쓰는 예시\n",
    "b = [0,1,2,3]\n",
    "b[1:2] = [100,200,300,400] \n",
    "print(b)\n",
    "\n",
    "# 시작과 끝의 범위가 작을때의 예시\n",
    "c = [0,1,2,3]\n",
    "c[1:3] = [100]\n",
    "print(c)"
   ]
  },
  {
   "cell_type": "markdown",
   "metadata": {
    "id": "0FILJsWAB9vS"
   },
   "source": [
    "## 리스트 값 삭제하기"
   ]
  },
  {
   "cell_type": "markdown",
   "metadata": {
    "id": "uBcveM_4Ibc2"
   },
   "source": [
    "리스트의 값을 삭제하기 위해서는 **Remove()** 함수를 통해 가장 처음 나오는 요소를 삭제할 수 있습니다. "
   ]
  },
  {
   "cell_type": "code",
   "execution_count": null,
   "metadata": {
    "id": "W4I79lUiCAD0"
   },
   "outputs": [],
   "source": [
    "a =[1,2,1,2]\n",
    "\n",
    "#리스트의 첫번째 1이 삭제\n",
    "a.remove(1)\n",
    "print(a)\n",
    "\n",
    "#리스트의 두번째 1이 삭제\n",
    "a.remove(5)\n",
    "print(a)"
   ]
  },
  {
   "cell_type": "markdown",
   "metadata": {
    "id": "r3fhfvb2Iw7u"
   },
   "source": [
    "**Del() 함수**는 리스트 내의 특정 요소나 특정 범위의 값을 삭제할 때 사용 가능합니다."
   ]
  },
  {
   "cell_type": "code",
   "execution_count": null,
   "metadata": {
    "id": "vuqxYrRbE8yn"
   },
   "outputs": [],
   "source": [
    "a = [0,1,2,3,4,5,6,7,8,9]\n",
    "\n",
    "# 1 삭제\n",
    "del a[1]\n",
    "print(a)\n",
    "\n",
    "b = [0,1,2,3,4,5,6,7,8,9]\n",
    "# 범위로 삭제\n",
    "del b[1:3] #list는 항상 시작하는 index부터, 종료하는 n의 n-1까지의 범위를 잡아줍니다.\n",
    "print(b)"
   ]
  },
  {
   "cell_type": "markdown",
   "metadata": {
    "id": "VgaL96PhI5bW"
   },
   "source": [
    "**Pop() 함수**도 값을 삭제하는 함수입니다. 특정 인덱스의 값을 변환해 별도로 저장해야 하므로 주의해야 합니다. "
   ]
  },
  {
   "cell_type": "code",
   "execution_count": null,
   "metadata": {
    "colab": {
     "base_uri": "https://localhost:8080/"
    },
    "executionInfo": {
     "elapsed": 355,
     "status": "ok",
     "timestamp": 1650679922613,
     "user": {
      "displayName": "Ji-hoon Jung",
      "userId": "03169308685755834042"
     },
     "user_tz": -540
    },
    "id": "9O9QF8OALE_E",
    "outputId": "09525da1-ab6d-4d5c-d2bc-dc986fa7551c"
   },
   "outputs": [
    {
     "name": "stdout",
     "output_type": "stream",
     "text": [
      "[0, 2, 3, 4]\n",
      "1\n"
     ]
    }
   ],
   "source": [
    "#인덱스를 지정한 pop()\n",
    "a = [0,1,2,3,4]\n",
    "r = a.pop(1)\n",
    "\n",
    "print(a)\n",
    "print(r)"
   ]
  },
  {
   "cell_type": "markdown",
   "metadata": {
    "id": "yXLiSCokJNrn"
   },
   "source": [
    "인덱스를 지정하지 않으면 리스트의 마지막 요소만 돌려주고 마지막 리스트만 삭제합니다. "
   ]
  },
  {
   "cell_type": "code",
   "execution_count": null,
   "metadata": {
    "colab": {
     "base_uri": "https://localhost:8080/"
    },
    "executionInfo": {
     "elapsed": 359,
     "status": "ok",
     "timestamp": 1650679964450,
     "user": {
      "displayName": "Ji-hoon Jung",
      "userId": "03169308685755834042"
     },
     "user_tz": -540
    },
    "id": "c4HKcb1jLIIP",
    "outputId": "db0a76f1-b736-431a-9737-dba0ba1999a8"
   },
   "outputs": [
    {
     "name": "stdout",
     "output_type": "stream",
     "text": [
      "['a', 'b', 'c']\n",
      "d\n"
     ]
    }
   ],
   "source": [
    "#인덱스를 지정하지 않은 pop()\n",
    "b = ['a','b','c','d']\n",
    "x = b.pop()\n",
    "\n",
    "print(b)\n",
    "print(x)"
   ]
  },
  {
   "cell_type": "markdown",
   "metadata": {
    "id": "o3vyViC7dT4k"
   },
   "source": [
    "## 그 외 유용한 메서드"
   ]
  },
  {
   "cell_type": "markdown",
   "metadata": {
    "id": "gAWRxX02JWcZ"
   },
   "source": [
    "List.**Clear()** 함수는 리스트 내의 모든 값을 삭제합니다.  \n",
    "여기서 Clear() 함수가 **리스트를 삭제하는 것이 아닌, 리스트 내의 값을 삭제**한다는 점을 주의해주세요. "
   ]
  },
  {
   "cell_type": "code",
   "execution_count": null,
   "metadata": {
    "id": "wVbgqNrKdW2G"
   },
   "outputs": [],
   "source": [
    "a = [0,1,2,3]\n",
    "print(a)\n",
    "\n",
    "a.clear()\n",
    "print(a)"
   ]
  },
  {
   "cell_type": "markdown",
   "metadata": {
    "id": "3xw7rr9CKdQ6"
   },
   "source": [
    "List.**Index()** 함수는 리스트 내에 찾으려는 값과 같은 값을 가진 요소의 첫 번째 위치를 반환합니다. "
   ]
  },
  {
   "cell_type": "code",
   "execution_count": null,
   "metadata": {
    "id": "Pt9sT_EUeVGc"
   },
   "outputs": [],
   "source": [
    "a = [\"Gold\", \"Gold\", \"Silver\", \"Silver\"]\n",
    "print(\"Silver가 처음 등장하는 인덱스 번호\", a.index(\"Silver\"))"
   ]
  },
  {
   "cell_type": "markdown",
   "metadata": {
    "id": "_aD9lkUcKnLV"
   },
   "source": [
    "**Sort()** 메소드 내에는 Reverse 라는 파라미터가 있는데, 이를 True 값으로 지정하면 내림차순으로 정렬합니다. "
   ]
  },
  {
   "cell_type": "code",
   "execution_count": null,
   "metadata": {
    "id": "VSgN73fQk2Rl"
   },
   "outputs": [],
   "source": [
    "a = [1, 4, 5, 2, 3]\n",
    "b = [1, 4, 5, 2, 3]\n",
    "\n",
    "a.sort()\n",
    "print(\"sort():\",a)\n",
    "\n",
    "b.sort(reverse=True)\n",
    "print(\"sort(reverse=True):\", b)"
   ]
  },
  {
   "cell_type": "markdown",
   "metadata": {
    "id": "YVCwN_dwKxAJ"
   },
   "source": [
    "하지만, List 내에서 데이터 타입이 섞여 있으면 에러가 발생합니다. "
   ]
  },
  {
   "cell_type": "code",
   "execution_count": null,
   "metadata": {
    "id": "pn7BEuZrmEBy"
   },
   "outputs": [],
   "source": [
    "b = [4,3,2,'a']\n",
    "\n",
    "b.sort()\n",
    "print(b)"
   ]
  },
  {
   "cell_type": "markdown",
   "metadata": {
    "id": "qljscWitK4sK"
   },
   "source": [
    "이 외에도 list와 함께 자주 사용하는 메소드 중에는 역순 정렬을 의미하는 **Reverse()**, 리스트 내 최소값을 의미하는 **Min()**, 최대값을 의미하는 **Max()**, 리스트의 길이를 구할 때 쓰는 **Len()** 메소드도 있으니 참고하기 바랍니다. "
   ]
  },
  {
   "cell_type": "markdown",
   "metadata": {
    "id": "LRbeeMhk-UYa"
   },
   "source": [
    "## 튜플"
   ]
  },
  {
   "cell_type": "markdown",
   "metadata": {
    "id": "3oDNFJJQLiP8"
   },
   "source": [
    "List와 비슷한 객체로 Tuple 이 존재합니다. 리스트와 비슷하지만 약간의 차이점이 있습니다.  \n",
    "List는 [], Tuple은 ()로 감쌉니다.  \n",
    "리스트는 요소를 생성한 뒤에도 추가나 삭제가 자유롭지만, **튜플은 한 번 선언하면 그 값을 바꿀 수 없습니다.**"
   ]
  },
  {
   "cell_type": "code",
   "execution_count": null,
   "metadata": {
    "colab": {
     "base_uri": "https://localhost:8080/"
    },
    "executionInfo": {
     "elapsed": 393,
     "status": "ok",
     "timestamp": 1650680192164,
     "user": {
      "displayName": "Ji-hoon Jung",
      "userId": "03169308685755834042"
     },
     "user_tz": -540
    },
    "id": "q-xe8zvQ-bcq",
    "outputId": "a397f51c-f168-4af5-8bf8-130d0c8f405c"
   },
   "outputs": [
    {
     "name": "stdout",
     "output_type": "stream",
     "text": [
      "0\n",
      "(0,)\n",
      "(0, 1, 2)\n",
      "<class 'int'>\n",
      "<class 'tuple'>\n",
      "<class 'tuple'>\n"
     ]
    }
   ],
   "source": [
    "tuple1 = (0) # 끝에 콤마(,)를 붙이지 않았을 때\n",
    "tuple2 = (0,) # 끝에 콤마(,)를 붙여줬을 때\n",
    "tuple3 = 0,1,2\n",
    "\n",
    "print(tuple1)\n",
    "print(tuple2)\n",
    "print(tuple3)\n",
    "\n",
    "print(type(tuple1)) # 콤마(,)를 붙여주지 않으면 튜플이 아닙니다.\n",
    "print(type(tuple2)) # 콤마(,)를 붙여주어야 튜플 자료형 입니다.\n",
    "print(type(tuple3)) # 여러개의 값 일경우 괄호를 없애주어도 튜플 자료형 입니다."
   ]
  },
  {
   "cell_type": "code",
   "execution_count": null,
   "metadata": {
    "id": "llIYcul-fLzN"
   },
   "outputs": [],
   "source": [
    "my_tuple = 3, 4.6, \"dog\"\n",
    "print(my_tuple)\n",
    "\n",
    "# tuple unpacking is also possible\n",
    "a, b, c = my_tuple\n",
    "\n",
    "print(a)      # 3\n",
    "print(b)      # 4.6\n",
    "print(c)      # dog"
   ]
  },
  {
   "cell_type": "code",
   "execution_count": null,
   "metadata": {
    "colab": {
     "base_uri": "https://localhost:8080/",
     "height": 189
    },
    "executionInfo": {
     "elapsed": 374,
     "status": "error",
     "timestamp": 1650680195925,
     "user": {
      "displayName": "Ji-hoon Jung",
      "userId": "03169308685755834042"
     },
     "user_tz": -540
    },
    "id": "XBwlljsVLr1o",
    "outputId": "32f5acfa-21b3-40ff-c542-923f5173fcbe"
   },
   "outputs": [
    {
     "ename": "TypeError",
     "evalue": "ignored",
     "output_type": "error",
     "traceback": [
      "\u001b[0;31m---------------------------------------------------------------------------\u001b[0m",
      "\u001b[0;31mTypeError\u001b[0m                                 Traceback (most recent call last)",
      "\u001b[0;32m<ipython-input-44-c41b8ecfc68f>\u001b[0m in \u001b[0;36m<module>\u001b[0;34m()\u001b[0m\n\u001b[1;32m      1\u001b[0m \u001b[0ma\u001b[0m \u001b[0;34m=\u001b[0m \u001b[0;34m(\u001b[0m\u001b[0;36m0\u001b[0m\u001b[0;34m,\u001b[0m\u001b[0;36m1\u001b[0m\u001b[0;34m,\u001b[0m\u001b[0;36m2\u001b[0m\u001b[0;34m,\u001b[0m\u001b[0;36m3\u001b[0m\u001b[0;34m,\u001b[0m\u001b[0;34m'a'\u001b[0m\u001b[0;34m)\u001b[0m\u001b[0;34m\u001b[0m\u001b[0;34m\u001b[0m\u001b[0m\n\u001b[0;32m----> 2\u001b[0;31m \u001b[0;32mdel\u001b[0m \u001b[0ma\u001b[0m\u001b[0;34m[\u001b[0m\u001b[0;34m'a'\u001b[0m\u001b[0;34m]\u001b[0m\u001b[0;34m\u001b[0m\u001b[0;34m\u001b[0m\u001b[0m\n\u001b[0m",
      "\u001b[0;31mTypeError\u001b[0m: 'tuple' object does not support item deletion"
     ]
    }
   ],
   "source": [
    "a = (0,1,2,3,'a')\n",
    "del a['a']"
   ]
  },
  {
   "cell_type": "code",
   "execution_count": null,
   "metadata": {
    "id": "r-paelmofKld"
   },
   "outputs": [],
   "source": []
  },
  {
   "cell_type": "code",
   "execution_count": null,
   "metadata": {
    "colab": {
     "base_uri": "https://localhost:8080/",
     "height": 189
    },
    "executionInfo": {
     "elapsed": 392,
     "status": "error",
     "timestamp": 1650680222230,
     "user": {
      "displayName": "Ji-hoon Jung",
      "userId": "03169308685755834042"
     },
     "user_tz": -540
    },
    "id": "BUmS3Q0qL4pT",
    "outputId": "6254a405-60ff-4667-e4ca-84340c9d23d5"
   },
   "outputs": [
    {
     "ename": "TypeError",
     "evalue": "ignored",
     "output_type": "error",
     "traceback": [
      "\u001b[0;31m---------------------------------------------------------------------------\u001b[0m",
      "\u001b[0;31mTypeError\u001b[0m                                 Traceback (most recent call last)",
      "\u001b[0;32m<ipython-input-45-04fb068f82e0>\u001b[0m in \u001b[0;36m<module>\u001b[0;34m()\u001b[0m\n\u001b[1;32m      1\u001b[0m \u001b[0ma\u001b[0m \u001b[0;34m=\u001b[0m \u001b[0;34m(\u001b[0m\u001b[0;36m0\u001b[0m\u001b[0;34m,\u001b[0m\u001b[0;36m1\u001b[0m\u001b[0;34m,\u001b[0m\u001b[0;36m2\u001b[0m\u001b[0;34m,\u001b[0m\u001b[0;36m3\u001b[0m\u001b[0;34m,\u001b[0m\u001b[0;34m'a'\u001b[0m\u001b[0;34m)\u001b[0m\u001b[0;34m\u001b[0m\u001b[0;34m\u001b[0m\u001b[0m\n\u001b[0;32m----> 2\u001b[0;31m \u001b[0ma\u001b[0m\u001b[0;34m[\u001b[0m\u001b[0;36m1\u001b[0m\u001b[0;34m]\u001b[0m\u001b[0;34m=\u001b[0m\u001b[0;34m't'\u001b[0m\u001b[0;34m\u001b[0m\u001b[0;34m\u001b[0m\u001b[0m\n\u001b[0m",
      "\u001b[0;31mTypeError\u001b[0m: 'tuple' object does not support item assignment"
     ]
    }
   ],
   "source": [
    "a = (0,1,2,3,'a')\n",
    "a[1]='t'"
   ]
  },
  {
   "cell_type": "markdown",
   "metadata": {
    "id": "4YN0b6JQh_1T"
   },
   "source": [
    "### 튜플 인덱싱 및 슬라이싱 하기"
   ]
  },
  {
   "cell_type": "code",
   "execution_count": null,
   "metadata": {
    "colab": {
     "base_uri": "https://localhost:8080/"
    },
    "executionInfo": {
     "elapsed": 359,
     "status": "ok",
     "timestamp": 1650680307880,
     "user": {
      "displayName": "Ji-hoon Jung",
      "userId": "03169308685755834042"
     },
     "user_tz": -540
    },
    "id": "ilt8pNhdh8wv",
    "outputId": "18912e0b-fab7-45a1-b93f-0560cf9f6196"
   },
   "outputs": [
    {
     "name": "stdout",
     "output_type": "stream",
     "text": [
      "1\n",
      "b\n"
     ]
    }
   ],
   "source": [
    "t = (0,1,2,'b',4)\n",
    "\n",
    "print(t[1])\n",
    "print(t[3])"
   ]
  },
  {
   "cell_type": "code",
   "execution_count": null,
   "metadata": {
    "colab": {
     "base_uri": "https://localhost:8080/"
    },
    "executionInfo": {
     "elapsed": 336,
     "status": "ok",
     "timestamp": 1650680310634,
     "user": {
      "displayName": "Ji-hoon Jung",
      "userId": "03169308685755834042"
     },
     "user_tz": -540
    },
    "id": "-O7gIm6aiC5v",
    "outputId": "ac9e4e4f-2473-495c-a883-eb64bac24a83"
   },
   "outputs": [
    {
     "name": "stdout",
     "output_type": "stream",
     "text": [
      "(2, 3, 4)\n",
      "(0, 1)\n"
     ]
    }
   ],
   "source": [
    "t = (0,1,2,3,4)\n",
    "print(t[2:])\n",
    "print(t[0:2])"
   ]
  },
  {
   "cell_type": "markdown",
   "metadata": {
    "id": "DgOLAdv9iOFQ"
   },
   "source": [
    "### 더하기 및 곱셈 연산자 사용"
   ]
  },
  {
   "cell_type": "code",
   "execution_count": null,
   "metadata": {
    "colab": {
     "base_uri": "https://localhost:8080/"
    },
    "executionInfo": {
     "elapsed": 352,
     "status": "ok",
     "timestamp": 1650680314514,
     "user": {
      "displayName": "Ji-hoon Jung",
      "userId": "03169308685755834042"
     },
     "user_tz": -540
    },
    "id": "rotjHlDriMNw",
    "outputId": "ee30aad1-ef37-4cf0-e97f-2d76151e6807"
   },
   "outputs": [
    {
     "name": "stdout",
     "output_type": "stream",
     "text": [
      "(0, 1, 2, 3, 4, 'a', 'b', 'c')\n",
      "(0, 1, 2, 3, 4, 'a', 'b', 'c')\n"
     ]
    }
   ],
   "source": [
    "t1 = (0,1,2,3,4)\n",
    "t2 = ('a','b','c')\n",
    "t3 = t1+t2\n",
    "print(t1+t2)\n",
    "print(t3)"
   ]
  },
  {
   "cell_type": "code",
   "execution_count": null,
   "metadata": {
    "colab": {
     "base_uri": "https://localhost:8080/"
    },
    "executionInfo": {
     "elapsed": 337,
     "status": "ok",
     "timestamp": 1650680316518,
     "user": {
      "displayName": "Ji-hoon Jung",
      "userId": "03169308685755834042"
     },
     "user_tz": -540
    },
    "id": "eJ9i8Sbaimrw",
    "outputId": "fc6ee972-c722-4ce2-d689-e40021e1cb34"
   },
   "outputs": [
    {
     "name": "stdout",
     "output_type": "stream",
     "text": [
      "()\n",
      "('a', 'b', 'a', 'b', 'a', 'b')\n"
     ]
    }
   ],
   "source": [
    "t1 = ('a','b')\n",
    "print(t1*0)\n",
    "print(t1*3)"
   ]
  },
  {
   "cell_type": "markdown",
   "metadata": {
    "id": "NEJFtrB5mEaw"
   },
   "source": [
    "## 딕셔너리\n"
   ]
  },
  {
   "cell_type": "markdown",
   "metadata": {
    "id": "NTk4bd2rL4x2"
   },
   "source": [
    "딕셔너리(Dictionary)는 리스트나 튜플과는 다르게, **키(Key)와 값(Value)**으로 나뉘고, 순서가 존재하지 않습니다.  \n",
    "Dictionary의 형식은 {Key: Value, Key: Value,...}의 형태로 사용합니다. "
   ]
  },
  {
   "cell_type": "code",
   "execution_count": null,
   "metadata": {
    "colab": {
     "base_uri": "https://localhost:8080/"
    },
    "executionInfo": {
     "elapsed": 372,
     "status": "ok",
     "timestamp": 1650680334173,
     "user": {
      "displayName": "Ji-hoon Jung",
      "userId": "03169308685755834042"
     },
     "user_tz": -540
    },
    "id": "jLOS6LZHmZsl",
    "outputId": "26c9a71c-b89d-4672-84b9-eb07884dd7dd"
   },
   "outputs": [
    {
     "name": "stdout",
     "output_type": "stream",
     "text": [
      "{'teacher': 'alice', 'class': 5, 'studentid': '15', 'list': [1, 2, 3]}\n",
      "alice\n",
      "5\n",
      "[1, 2, 3]\n"
     ]
    }
   ],
   "source": [
    "dic = {'teacher':'alice', 'class': 5, 'studentid': '15', 'list':[1,2,3]}\n",
    "\n",
    "print(dic)\n",
    "print(dic['teacher'])\n",
    "print(dic['class'])\n",
    "print(dic['list'])"
   ]
  },
  {
   "cell_type": "markdown",
   "metadata": {
    "id": "vTYhKSuMMqQF"
   },
   "source": [
    "존재하지 않는 Key 값을 입력하면 에러 메시지를 확인할 수 있습니다. "
   ]
  },
  {
   "cell_type": "code",
   "execution_count": null,
   "metadata": {
    "colab": {
     "base_uri": "https://localhost:8080/",
     "height": 189
    },
    "executionInfo": {
     "elapsed": 510,
     "status": "error",
     "timestamp": 1650680411206,
     "user": {
      "displayName": "Ji-hoon Jung",
      "userId": "03169308685755834042"
     },
     "user_tz": -540
    },
    "id": "5oTPGq9rmbep",
    "outputId": "244d7bdd-2d67-4374-91f7-91c37c5b36e4"
   },
   "outputs": [
    {
     "ename": "KeyError",
     "evalue": "ignored",
     "output_type": "error",
     "traceback": [
      "\u001b[0;31m---------------------------------------------------------------------------\u001b[0m",
      "\u001b[0;31mKeyError\u001b[0m                                  Traceback (most recent call last)",
      "\u001b[0;32m<ipython-input-51-fd82dcc94904>\u001b[0m in \u001b[0;36m<module>\u001b[0;34m()\u001b[0m\n\u001b[1;32m      1\u001b[0m \u001b[0mdic\u001b[0m \u001b[0;34m=\u001b[0m \u001b[0;34m{\u001b[0m\u001b[0;34m'teacher'\u001b[0m\u001b[0;34m:\u001b[0m\u001b[0;34m'alice'\u001b[0m\u001b[0;34m,\u001b[0m \u001b[0;34m'class'\u001b[0m\u001b[0;34m:\u001b[0m \u001b[0;36m5\u001b[0m\u001b[0;34m,\u001b[0m \u001b[0;34m'studentid'\u001b[0m\u001b[0;34m:\u001b[0m \u001b[0;34m'15'\u001b[0m\u001b[0;34m,\u001b[0m \u001b[0;34m'list'\u001b[0m\u001b[0;34m:\u001b[0m\u001b[0;34m[\u001b[0m\u001b[0;36m1\u001b[0m\u001b[0;34m,\u001b[0m\u001b[0;36m2\u001b[0m\u001b[0;34m,\u001b[0m\u001b[0;36m3\u001b[0m\u001b[0;34m]\u001b[0m\u001b[0;34m}\u001b[0m\u001b[0;34m\u001b[0m\u001b[0;34m\u001b[0m\u001b[0m\n\u001b[0;32m----> 2\u001b[0;31m \u001b[0mprint\u001b[0m\u001b[0;34m(\u001b[0m\u001b[0mdic\u001b[0m\u001b[0;34m[\u001b[0m\u001b[0;34m'real'\u001b[0m\u001b[0;34m]\u001b[0m\u001b[0;34m)\u001b[0m\u001b[0;34m\u001b[0m\u001b[0;34m\u001b[0m\u001b[0m\n\u001b[0m",
      "\u001b[0;31mKeyError\u001b[0m: 'real'"
     ]
    }
   ],
   "source": [
    "dic = {'teacher':'alice', 'class': 5, 'studentid': '15', 'list':[1,2,3]}\n",
    "print(dic['real'])"
   ]
  },
  {
   "cell_type": "markdown",
   "metadata": {
    "id": "5NkjLndhMxGQ"
   },
   "source": [
    "**Keys()** 함수는 Dictionary 내부에 Key 값만 모아서 Dict_Keys 객체를 반환합니다."
   ]
  },
  {
   "cell_type": "code",
   "execution_count": null,
   "metadata": {
    "colab": {
     "base_uri": "https://localhost:8080/"
    },
    "executionInfo": {
     "elapsed": 354,
     "status": "ok",
     "timestamp": 1650680436140,
     "user": {
      "displayName": "Ji-hoon Jung",
      "userId": "03169308685755834042"
     },
     "user_tz": -540
    },
    "id": "y_pT19W7o0JE",
    "outputId": "f7c6f5d4-badc-4a5f-8fe2-33e3673f75df"
   },
   "outputs": [
    {
     "data": {
      "text/plain": [
       "dict_keys(['name', 'job', 'age'])"
      ]
     },
     "execution_count": 52,
     "metadata": {},
     "output_type": "execute_result"
    }
   ],
   "source": [
    "a = {'name': 'bob', 'job': 'farmer', 'age': 35}\n",
    "a.keys()"
   ]
  },
  {
   "cell_type": "markdown",
   "metadata": {
    "id": "CvPxaqcZM342"
   },
   "source": [
    "**Values()** 함수는 Value만 추출합니다. "
   ]
  },
  {
   "cell_type": "code",
   "execution_count": null,
   "metadata": {
    "colab": {
     "base_uri": "https://localhost:8080/"
    },
    "executionInfo": {
     "elapsed": 354,
     "status": "ok",
     "timestamp": 1650680455050,
     "user": {
      "displayName": "Ji-hoon Jung",
      "userId": "03169308685755834042"
     },
     "user_tz": -540
    },
    "id": "GUtmohWIpb6r",
    "outputId": "5fb04cde-b707-4a5a-e416-9db688a2a1d7"
   },
   "outputs": [
    {
     "data": {
      "text/plain": [
       "dict_values(['bob', 'farmer', 35])"
      ]
     },
     "execution_count": 53,
     "metadata": {},
     "output_type": "execute_result"
    }
   ],
   "source": [
    "a = {'name': 'bob', 'job': 'farmer', 'age': 35}\n",
    "a.values()"
   ]
  },
  {
   "cell_type": "markdown",
   "metadata": {
    "id": "CkKZFEQlM9iz"
   },
   "source": [
    "**Items()** 메소드는 Key와 Values 쌍을 Tuple로 묶어서 반환합니다."
   ]
  },
  {
   "cell_type": "code",
   "execution_count": null,
   "metadata": {
    "colab": {
     "base_uri": "https://localhost:8080/"
    },
    "executionInfo": {
     "elapsed": 516,
     "status": "ok",
     "timestamp": 1650680476504,
     "user": {
      "displayName": "Ji-hoon Jung",
      "userId": "03169308685755834042"
     },
     "user_tz": -540
    },
    "id": "NV7EOiaUN7qo",
    "outputId": "88a56e3d-d3eb-4f47-9928-e10248179303"
   },
   "outputs": [
    {
     "data": {
      "text/plain": [
       "dict_items([('name', 'bob'), ('job', 'farmer'), ('age', 35)])"
      ]
     },
     "execution_count": 54,
     "metadata": {},
     "output_type": "execute_result"
    }
   ],
   "source": [
    "a = {'name': 'bob', 'job': 'farmer', 'age': 35}\n",
    "a.items()"
   ]
  },
  {
   "cell_type": "markdown",
   "metadata": {
    "id": "WK0N9aKoOBVA"
   },
   "source": [
    "**Get()** 메소드는 Key 값에 대응하는 Value를 반환합니다.  \n",
    "존재하지 않는 Key 값을 호출하려고 하면 에러 메시지가 출력되는 것과 달리 None을 반환합니다.  \n",
    "만약에 Dictionary 안에서 찾으려는 Key가 없을 때 None 대신 사전에 정해둔 값을 가져오고 싶을 때는 **Get(Key,'디폴트 값')**의 형태로 사용하면 디폴트 값이 반환됩니다."
   ]
  },
  {
   "cell_type": "code",
   "execution_count": null,
   "metadata": {
    "colab": {
     "base_uri": "https://localhost:8080/"
    },
    "executionInfo": {
     "elapsed": 342,
     "status": "ok",
     "timestamp": 1650680497193,
     "user": {
      "displayName": "Ji-hoon Jung",
      "userId": "03169308685755834042"
     },
     "user_tz": -540
    },
    "id": "NzoN3MOvzKC9",
    "outputId": "b5100744-0c96-484d-80b2-0b86d23b5563"
   },
   "outputs": [
    {
     "name": "stdout",
     "output_type": "stream",
     "text": [
      "chris\n",
      "None\n",
      "empty\n"
     ]
    }
   ],
   "source": [
    "a = {'name': 'chris', 'job': 'painter', 'age': 30}\n",
    "print(a.get('name'))\n",
    "print(a.get('dinner'))\n",
    "print(a.get('dinner', 'empty'))"
   ]
  },
  {
   "cell_type": "markdown",
   "metadata": {
    "id": "71-ZF-ug1gPu"
   },
   "source": [
    "## 집합 연산자"
   ]
  },
  {
   "cell_type": "markdown",
   "metadata": {
    "id": "2ZCYM068OkI5"
   },
   "source": [
    "**집합**은 순서가 존재하지 않고, 중복을 허용하지 않습니다.  \n",
    "빈 집합은 dict와 동일한 중괄호를 사용해 중괄호만으로는 선언할 수 없고, **Set 생성자**를 사용해야 합니다. "
   ]
  },
  {
   "cell_type": "code",
   "execution_count": null,
   "metadata": {
    "id": "7CLq1e1D1gFq"
   },
   "outputs": [],
   "source": [
    "s = {}\n",
    "print(type(s))\n",
    "\n",
    "s = set()\n",
    "print(type(s))\n",
    "\n",
    "s = {1,2,3}\n",
    "print(type(s))"
   ]
  },
  {
   "cell_type": "markdown",
   "metadata": {
    "id": "pPwLTh0lOzqE"
   },
   "source": [
    "집합 자료형의 연산자는 **합집합(|), 교집합(&), 차집합(-), 대칭 차집합(^)**을 사용합니다.  \n",
    "먼저 합집합 연산자는 **S1|S2** 형태로 계산하며 중복 없이 더합니다.   \n",
    "메소드는 **A.Union(b)**와 같이 사용할 수 있습니다. "
   ]
  },
  {
   "cell_type": "code",
   "execution_count": null,
   "metadata": {
    "id": "YObxIPIN4ZTZ"
   },
   "outputs": [],
   "source": [
    "a = {1,3,5}\n",
    "b = {2,4,6}\n",
    "\n",
    "c = a|b\n",
    "d = a.union(b)\n",
    "print(\"a|b:\", c)\n",
    "print(\"a.union(b)\", d)"
   ]
  },
  {
   "cell_type": "markdown",
   "metadata": {
    "id": "Xvo9KkHXPKMA"
   },
   "source": [
    "교집합 연산자는 S1의 집합에서 S2의 값과 중복되는 값을 제거합니다.  \n",
    "메소드는 **A.Interaction(b)**를 사용할 수 있습니다. "
   ]
  },
  {
   "cell_type": "code",
   "execution_count": null,
   "metadata": {
    "id": "mRzAheSK-T3U"
   },
   "outputs": [],
   "source": [
    "a = {1,3,5}\n",
    "b = {2,4,6}\n",
    "c = a&b\n",
    "print(c)\n",
    "\n",
    "e = {1,2,5}\n",
    "f = {2,3,5}\n",
    "g1 = e&f\n",
    "g2 = e.intersection(f)\n",
    "print(\"e&f:\", g1)\n",
    "print(\"e.intersection(f):\", g2)"
   ]
  },
  {
   "cell_type": "markdown",
   "metadata": {
    "id": "SDO8k2yJPgQs"
   },
   "source": [
    "차집합 연산자는 S1의 집합에서 S2의 요소와 중복되는 값을 제거합니다.  \n",
    "**A.Difference(b)** 메소드를 사용할 수 있습니다. "
   ]
  },
  {
   "cell_type": "code",
   "execution_count": null,
   "metadata": {
    "id": "1UpY3iPBCML9"
   },
   "outputs": [],
   "source": [
    "a = {1,3,5}\n",
    "b = {2,4,5}\n",
    "\n",
    "c1 = a-b\n",
    "c2 = a.difference(b)\n",
    "print(\"a-b:\", c1)\n",
    "print(\"a.difference(b)\", c2)"
   ]
  },
  {
   "cell_type": "markdown",
   "metadata": {
    "id": "08rtkxDBQDlg"
   },
   "source": [
    "대칭 차집합 연산자는 합집합에서 교집합 부분을 제외한 것입니다.  \n",
    "**A.Symmetric_Difference(b)** 메소드를 사용할 수 있습니다. "
   ]
  },
  {
   "cell_type": "code",
   "execution_count": null,
   "metadata": {
    "id": "_4iIfbyTCNwK"
   },
   "outputs": [],
   "source": [
    "a = {1,2,3,4,5}\n",
    "b = {3,4,5,6,7}\n",
    "\n",
    "c1 = a^b\n",
    "c2 = a.symmetric_difference(b)\n",
    "print(\"a^b\", c1)\n",
    "print(\"a.symmetric_difference(b)\", c2)"
   ]
  },
  {
   "cell_type": "markdown",
   "metadata": {
    "id": "so4OF-xEyEsu"
   },
   "source": [
    "## if 조건문"
   ]
  },
  {
   "cell_type": "markdown",
   "metadata": {
    "id": "WWl3BFZhQPdK"
   },
   "source": [
    "조건문은 먼저 **If의 조건**부터 순서대로 만족하는지 여부를 확인해보면서 조건이 만족한다면 해당 조건에 해당하는 Task를 수행합니다.  \n",
    "만약 첫 번째 조건이 만족하지 않는다면 다음에는 **Elif 조건문**으로 넘어갑니다.  \n",
    "어떤 조건문이 없다면 **Else**에 해당하는 Task를 수행하고 조건문을 종료합니다. "
   ]
  },
  {
   "cell_type": "code",
   "execution_count": null,
   "metadata": {
    "colab": {
     "base_uri": "https://localhost:8080/"
    },
    "executionInfo": {
     "elapsed": 4,
     "status": "ok",
     "timestamp": 1650680724967,
     "user": {
      "displayName": "Ji-hoon Jung",
      "userId": "03169308685755834042"
     },
     "user_tz": -540
    },
    "id": "zJ5JIqjxyHb3",
    "outputId": "1813d444-47a8-411b-806a-5e314e655cec"
   },
   "outputs": [
    {
     "name": "stdout",
     "output_type": "stream",
     "text": [
      "a is negative\n"
     ]
    }
   ],
   "source": [
    "a = -5\n",
    "\n",
    "if a > 5: \n",
    "  print('a is bigger than 5')\n",
    "\n",
    "elif a > 0:\n",
    "  print(\"a is bigger than 0 but a is smaller than 5 \")\n",
    "\n",
    "else:\n",
    "  print(\"a is negative\")"
   ]
  },
  {
   "cell_type": "code",
   "execution_count": 3,
   "metadata": {
    "colab": {
     "base_uri": "https://localhost:8080/"
    },
    "executionInfo": {
     "elapsed": 4588,
     "status": "ok",
     "timestamp": 1678863581359,
     "user": {
      "displayName": "Ji-hoon Jung",
      "userId": "03169308685755834042"
     },
     "user_tz": -540
    },
    "id": "PAJcFCj3D_Qh",
    "outputId": "eb0f6fe8-9bcc-4469-89c2-3e2b6ad70df1"
   },
   "outputs": [
    {
     "name": "stdout",
     "output_type": "stream",
     "text": [
      "입력50\n",
      "C등급\n"
     ]
    }
   ],
   "source": [
    "var = int(input(\"입력\"))\n",
    "\n",
    "if var >= 90:\n",
    "  print(\"A등급\")\n",
    "elif var >= 80:\n",
    "  print(\"B등급\")\n",
    "else:\n",
    "  print(\"C등급\")"
   ]
  },
  {
   "cell_type": "markdown",
   "metadata": {
    "id": "cl2IKyOpQjkM"
   },
   "source": [
    "IF 조건문은 If 뒤 조건식 뒤에 콜론(:)을 붙입니다. 그리고 다음 줄부터는 들여쓰기를 4칸 해서 구별합니다. 이 때 조건문 내에서 실행하는 코드 부분을 **본문(Body)**라고 부릅니다. "
   ]
  },
  {
   "cell_type": "markdown",
   "metadata": {
    "id": "HIq9Awc8cV8h"
   },
   "source": [
    "- Elif 나 Else는 단독으로 사용할 수 없습니다.\n",
    "- Else 는 마지막에 한 번만 사용할 수 있습니다.\n",
    "- If Else Elif 순으로 사용할 수는 없습니다."
   ]
  },
  {
   "cell_type": "markdown",
   "metadata": {
    "id": "CTw603neyMvB"
   },
   "source": [
    "## 반복문"
   ]
  },
  {
   "cell_type": "markdown",
   "metadata": {
    "id": "eqjR5QN7ci0C"
   },
   "source": [
    "반복문은 크게 For Loop와 While Loop로 나뉩니다.  \n",
    "**For Loop**는 시퀀스 데이터, String이나 List 자료형과 같은 데이터를 활용할 때 사용합니다.  \n",
    "**While Loop**는 조건식이 참일 때만 반복해서 수행합니다. "
   ]
  },
  {
   "cell_type": "code",
   "execution_count": null,
   "metadata": {
    "colab": {
     "base_uri": "https://localhost:8080/"
    },
    "executionInfo": {
     "elapsed": 551,
     "status": "ok",
     "timestamp": 1650680838803,
     "user": {
      "displayName": "Ji-hoon Jung",
      "userId": "03169308685755834042"
     },
     "user_tz": -540
    },
    "id": "650nkP5YyNva",
    "outputId": "9d9fcec1-be3f-44b8-cc9f-b0aa5f418d30"
   },
   "outputs": [
    {
     "name": "stdout",
     "output_type": "stream",
     "text": [
      "Hello World\n"
     ]
    }
   ],
   "source": [
    "print(\"Hello World\")"
   ]
  },
  {
   "cell_type": "code",
   "execution_count": null,
   "metadata": {
    "colab": {
     "base_uri": "https://localhost:8080/"
    },
    "executionInfo": {
     "elapsed": 374,
     "status": "ok",
     "timestamp": 1650680841423,
     "user": {
      "displayName": "Ji-hoon Jung",
      "userId": "03169308685755834042"
     },
     "user_tz": -540
    },
    "id": "CeKahGBk09Tz",
    "outputId": "3b5b011a-6048-49de-ebca-6792469f6e3a"
   },
   "outputs": [
    {
     "name": "stdout",
     "output_type": "stream",
     "text": [
      "Hello World\n",
      "Hello World\n",
      "Hello World\n"
     ]
    }
   ],
   "source": [
    "print(\"Hello World\")\n",
    "print(\"Hello World\")\n",
    "print(\"Hello World\")"
   ]
  },
  {
   "cell_type": "markdown",
   "metadata": {
    "id": "ArlknS-Mc5lV"
   },
   "source": [
    "For Loop은 같은 작업을 반복할 대, 불필요한 코드 낭비를 해결해줍니다. "
   ]
  },
  {
   "cell_type": "code",
   "execution_count": null,
   "metadata": {
    "colab": {
     "base_uri": "https://localhost:8080/"
    },
    "executionInfo": {
     "elapsed": 354,
     "status": "ok",
     "timestamp": 1650680970218,
     "user": {
      "displayName": "Ji-hoon Jung",
      "userId": "03169308685755834042"
     },
     "user_tz": -540
    },
    "id": "ngeUL49n0_lK",
    "outputId": "34d6defd-b7d5-4705-88f5-c521c19e3da5"
   },
   "outputs": [
    {
     "name": "stdout",
     "output_type": "stream",
     "text": [
      "1 Hello World\n",
      "2 Hello World\n",
      "3 Hello World\n"
     ]
    }
   ],
   "source": [
    "for i in range(3):\n",
    "  print(i+1, \"Hello World\")"
   ]
  },
  {
   "cell_type": "markdown",
   "metadata": {
    "id": "N5na8Hn-dAid"
   },
   "source": [
    "For Loop 문에는 If 조건문을 활용할 수도 있습니다.  \n"
   ]
  },
  {
   "cell_type": "code",
   "execution_count": null,
   "metadata": {
    "colab": {
     "base_uri": "https://localhost:8080/"
    },
    "executionInfo": {
     "elapsed": 357,
     "status": "ok",
     "timestamp": 1650680972822,
     "user": {
      "displayName": "Ji-hoon Jung",
      "userId": "03169308685755834042"
     },
     "user_tz": -540
    },
    "id": "wQvU4kgh6z70",
    "outputId": "0a5653c9-3cc0-43c9-d6f1-b48dd5067437"
   },
   "outputs": [
    {
     "name": "stdout",
     "output_type": "stream",
     "text": [
      "K\n",
      "a\n",
      "g\n"
     ]
    }
   ],
   "source": [
    "a = \"Kaggle\"\n",
    "\n",
    "for x in a:\n",
    "  print(x)\n",
    "\n",
    "  if x == 'g':\n",
    "    break"
   ]
  },
  {
   "cell_type": "markdown",
   "metadata": {
    "id": "dult8bs5dImQ"
   },
   "source": [
    "반복문을 작성하는 방법에는 Zip, Enumerate, Range, Len 함수 등 다양한 함수가 있습니다. "
   ]
  },
  {
   "cell_type": "code",
   "execution_count": null,
   "metadata": {
    "colab": {
     "base_uri": "https://localhost:8080/"
    },
    "executionInfo": {
     "elapsed": 334,
     "status": "ok",
     "timestamp": 1650681001985,
     "user": {
      "displayName": "Ji-hoon Jung",
      "userId": "03169308685755834042"
     },
     "user_tz": -540
    },
    "id": "abnQqf7n9VRr",
    "outputId": "c685974d-5ab8-4eb9-9b75-923e782557b2"
   },
   "outputs": [
    {
     "name": "stdout",
     "output_type": "stream",
     "text": [
      "0 A\n",
      "1 B\n",
      "2 C\n"
     ]
    }
   ],
   "source": [
    "alphabets = ['A', 'B', 'C']\n",
    "for index, value in enumerate(alphabets):\n",
    "    print(index, value)"
   ]
  },
  {
   "cell_type": "markdown",
   "metadata": {
    "id": "8iSXA1xcMv5j"
   },
   "source": [
    "## 리스트 컴프리헨션 (List Comprehension)\n",
    "- pythonic으로 코딩을 한다.\n",
    "- 반복문을 한줄로 처리 ==> 반환값은 리스트로 반환"
   ]
  },
  {
   "cell_type": "code",
   "execution_count": null,
   "metadata": {
    "colab": {
     "base_uri": "https://localhost:8080/"
    },
    "executionInfo": {
     "elapsed": 336,
     "status": "ok",
     "timestamp": 1650681145297,
     "user": {
      "displayName": "Ji-hoon Jung",
      "userId": "03169308685755834042"
     },
     "user_tz": -540
    },
    "id": "86-KZ60rM_OQ",
    "outputId": "4c82c033-b79e-403f-bf27-5c42803602a5"
   },
   "outputs": [
    {
     "name": "stdout",
     "output_type": "stream",
     "text": [
      "['apple', 'mango']\n"
     ]
    }
   ],
   "source": [
    "fruits = [\"apple\", \"kiwi\", \"mango\"]\n",
    "newlist = []\n",
    "\n",
    "for fruit in fruits:\n",
    "  # print(fruit)\n",
    "  if \"a\" in fruit:\n",
    "    newlist.append(fruit)\n",
    "print(newlist)"
   ]
  },
  {
   "cell_type": "code",
   "execution_count": null,
   "metadata": {
    "colab": {
     "base_uri": "https://localhost:8080/"
    },
    "executionInfo": {
     "elapsed": 338,
     "status": "ok",
     "timestamp": 1650681257602,
     "user": {
      "displayName": "Ji-hoon Jung",
      "userId": "03169308685755834042"
     },
     "user_tz": -540
    },
    "id": "yqo8WyE_N2TS",
    "outputId": "726db95a-41d9-4a12-8ced-5fc4954435d1"
   },
   "outputs": [
    {
     "name": "stdout",
     "output_type": "stream",
     "text": [
      "['apple', 'mango']\n"
     ]
    }
   ],
   "source": [
    "fruits = [\"apple\", \"kiwi\", \"mango\"]\n",
    "newlist = [fruit for fruit in fruits if \"a\" in fruit]\n",
    "print(newlist)"
   ]
  },
  {
   "cell_type": "markdown",
   "metadata": {
    "id": "wSQ1SIaSOo3A"
   },
   "source": [
    "## 사용자 정의 함수  "
   ]
  },
  {
   "cell_type": "code",
   "execution_count": null,
   "metadata": {
    "id": "5WH7d4bQOupw"
   },
   "outputs": [],
   "source": [
    "def 함수명(param1, param2):\n",
    "  # 코드\n",
    "  return None"
   ]
  },
  {
   "cell_type": "code",
   "execution_count": null,
   "metadata": {
    "colab": {
     "base_uri": "https://localhost:8080/"
    },
    "executionInfo": {
     "elapsed": 2,
     "status": "ok",
     "timestamp": 1650681259821,
     "user": {
      "displayName": "Ji-hoon Jung",
      "userId": "03169308685755834042"
     },
     "user_tz": -540
    },
    "id": "CzaIbBxFPFTf",
    "outputId": "e94f1634-ba8f-4d03-8e05-ed9ebe844a95"
   },
   "outputs": [
    {
     "data": {
      "text/plain": [
       "1"
      ]
     },
     "execution_count": 68,
     "metadata": {},
     "output_type": "execute_result"
    }
   ],
   "source": [
    "def add(a=0, b=1):\n",
    "  # c = a + b\n",
    "  return a + b\n",
    "\n",
    "add()"
   ]
  }
 ],
 "metadata": {
  "colab": {
   "provenance": []
  },
  "kernelspec": {
   "display_name": "Python 3 (ipykernel)",
   "language": "python",
   "name": "python3"
  },
  "language_info": {
   "codemirror_mode": {
    "name": "ipython",
    "version": 3
   },
   "file_extension": ".py",
   "mimetype": "text/x-python",
   "name": "python",
   "nbconvert_exporter": "python",
   "pygments_lexer": "ipython3",
   "version": "3.10.7"
  }
 },
 "nbformat": 4,
 "nbformat_minor": 4
}
