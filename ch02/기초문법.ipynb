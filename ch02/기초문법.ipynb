{
 "cells": [
  {
   "cell_type": "markdown",
   "id": "e2f8e05b-72e2-4fc7-a809-e47ca67f23c8",
   "metadata": {},
   "source": [
    "## 파이썬 기초문법\n",
    "- 작업요청 : 여기는 사라가 한번 쭉 읽어보고 기초문법 좀 더 추가해도 될 것 같음\n",
    "- chatgpt가 있으니까 해당 코드를 설명해달라고 하는식으로 하는게 글 작성하는게 도움 될거에요.\n",
    "\n",
    "![](fig.png)"
   ]
  },
  {
   "cell_type": "code",
   "execution_count": 3,
   "id": "20da6026-eb0f-450b-adea-995ca0c94630",
   "metadata": {
    "tags": []
   },
   "outputs": [
    {
     "name": "stdout",
     "output_type": "stream",
     "text": [
      "Hello, Streamlit!\n"
     ]
    }
   ],
   "source": [
    "print(\"Hello, Streamlit!\")"
   ]
  },
  {
   "cell_type": "code",
   "execution_count": 4,
   "id": "bad22303-d45b-46f8-a9c7-6493410d26be",
   "metadata": {
    "tags": []
   },
   "outputs": [
    {
     "name": "stdout",
     "output_type": "stream",
     "text": [
      "Hello, Streamlit!\n"
     ]
    }
   ],
   "source": [
    "# 한 줄 주석 처리\n",
    "\"\"\"\n",
    "여러 줄 주석 예제 동일한 따옴표(큰따옴표 혹은 작은 따옴표) \n",
    "세 개와 세 개 사이에는어떠한 내용, \n",
    "몇 줄이 들어가더라도 모두 주석으로 처리됩니다.\n",
    "\"\"\"\n",
    "print(\"Hello, Streamlit!\")"
   ]
  },
  {
   "cell_type": "markdown",
   "id": "dfe50ca5-1b5f-4c77-ab04-d8a802305791",
   "metadata": {},
   "source": [
    "## Scala 데이터 타입\n",
    "- 크게 4가지가 존재함\n",
    "    + Integer, Float, Boolean, NoneType"
   ]
  },
  {
   "cell_type": "markdown",
   "id": "fea270eb-a41e-4b2e-9b97-9e06e81ea267",
   "metadata": {},
   "source": [
    "여러분의 나이를 입력하고 출력하는 코드를 작성합니다. "
   ]
  },
  {
   "cell_type": "code",
   "execution_count": 6,
   "id": "94289c1b-da44-42b1-81ee-8af93ef4a15f",
   "metadata": {
    "tags": []
   },
   "outputs": [
    {
     "name": "stdout",
     "output_type": "stream",
     "text": [
      "30\n"
     ]
    }
   ],
   "source": [
    "num_int = 30\n",
    "print(num_int)"
   ]
  },
  {
   "cell_type": "markdown",
   "id": "71ae9214-824a-4d51-8a99-6aee2436a7d5",
   "metadata": {},
   "source": [
    "이번에는 num_int가 실제로 int형인지 확인한다. "
   ]
  },
  {
   "cell_type": "code",
   "execution_count": 9,
   "id": "481b4f87-90ca-4215-93ea-9c2caa1e58eb",
   "metadata": {
    "tags": []
   },
   "outputs": [
    {
     "name": "stdout",
     "output_type": "stream",
     "text": [
      "<class 'int'>\n"
     ]
    }
   ],
   "source": [
    "print(type(num_int))"
   ]
  },
  {
   "cell_type": "markdown",
   "id": "be51d790-763f-4286-9848-3fad765c9da3",
   "metadata": {},
   "source": [
    "이번에는 본인의 키를 입력하고 출력하는 코드를 작성"
   ]
  },
  {
   "cell_type": "code",
   "execution_count": 11,
   "id": "c6095dbc-83f4-4b8d-80c7-ef20f8d44245",
   "metadata": {
    "tags": []
   },
   "outputs": [
    {
     "name": "stdout",
     "output_type": "stream",
     "text": [
      "181.8\n"
     ]
    }
   ],
   "source": [
    "my_height = 181.8\n",
    "print(my_height)"
   ]
  },
  {
   "cell_type": "code",
   "execution_count": 14,
   "id": "ca0cf457-ca9d-4af9-8f2a-cb851d6376d4",
   "metadata": {
    "tags": []
   },
   "outputs": [
    {
     "name": "stdout",
     "output_type": "stream",
     "text": [
      "<class 'float'>\n"
     ]
    }
   ],
   "source": [
    "print(type(my_height))"
   ]
  },
  {
   "cell_type": "markdown",
   "id": "b9452b71-8df1-466c-abb5-1edf1bb19321",
   "metadata": {},
   "source": [
    "출석여부를 확인하는 코드를 작성한다. "
   ]
  },
  {
   "cell_type": "code",
   "execution_count": 2,
   "id": "ecc06d54-e5a8-406e-aed3-6270a19bb282",
   "metadata": {
    "tags": []
   },
   "outputs": [
    {
     "name": "stdout",
     "output_type": "stream",
     "text": [
      "<class 'bool'>\n"
     ]
    }
   ],
   "source": [
    "isAttend = True\n",
    "print(type(isAttend))"
   ]
  },
  {
   "cell_type": "markdown",
   "id": "0935aa80-ca6d-44a8-ad18-7aaefd9e3005",
   "metadata": {},
   "source": [
    "None 자료형은 아래와 같이 정의할 수 있다. "
   ]
  },
  {
   "cell_type": "code",
   "execution_count": 4,
   "id": "b41c24cd-d097-4ad2-98ce-198a25bf23cf",
   "metadata": {
    "tags": []
   },
   "outputs": [
    {
     "name": "stdout",
     "output_type": "stream",
     "text": [
      "<class 'NoneType'>\n"
     ]
    }
   ],
   "source": [
    "none_x = None\n",
    "print(type(none_x))"
   ]
  },
  {
   "cell_type": "markdown",
   "id": "cb5bc598-ac84-4666-8063-d7ea56fe15d0",
   "metadata": {},
   "source": [
    "## 사칙연산\n",
    "두 개의 변수를 만들고 사칙연산을 만든다. \n",
    "- 표 작업 : https://www.w3schools.com/python/python_operators.asp"
   ]
  },
  {
   "cell_type": "code",
   "execution_count": 5,
   "id": "ba8aec99-4c9b-4af2-979f-7349424715aa",
   "metadata": {},
   "outputs": [
    {
     "name": "stdout",
     "output_type": "stream",
     "text": [
      "9\n"
     ]
    }
   ],
   "source": [
    "x = 6\n",
    "y = 3\n",
    "\n",
    "print(x + y)"
   ]
  },
  {
   "cell_type": "code",
   "execution_count": 6,
   "id": "77928364-43da-411f-93ff-c0d231d43c81",
   "metadata": {},
   "outputs": [
    {
     "name": "stdout",
     "output_type": "stream",
     "text": [
      "3\n"
     ]
    }
   ],
   "source": [
    "print(x - y)"
   ]
  },
  {
   "cell_type": "code",
   "execution_count": 7,
   "id": "f51a0d59-9b4c-4ba4-b368-3eef3b4309b5",
   "metadata": {},
   "outputs": [
    {
     "name": "stdout",
     "output_type": "stream",
     "text": [
      "18\n"
     ]
    }
   ],
   "source": [
    "print(x * y)"
   ]
  },
  {
   "cell_type": "code",
   "execution_count": 8,
   "id": "41a19fea-ab53-4a9f-b50d-a2842ac4cdce",
   "metadata": {},
   "outputs": [
    {
     "name": "stdout",
     "output_type": "stream",
     "text": [
      "2.0\n"
     ]
    }
   ],
   "source": [
    "print(x / y)"
   ]
  },
  {
   "cell_type": "markdown",
   "id": "656f74c1-f646-4096-afb1-971150332808",
   "metadata": {},
   "source": [
    "- 나눗셈을 하면 반환값이 실수형인것에 주의한다. "
   ]
  },
  {
   "cell_type": "code",
   "execution_count": 10,
   "id": "b3ccbd32-d0d6-4f76-bc1c-1a28c99440bb",
   "metadata": {},
   "outputs": [
    {
     "name": "stdout",
     "output_type": "stream",
     "text": [
      "0\n"
     ]
    }
   ],
   "source": [
    "print(x % y)"
   ]
  },
  {
   "cell_type": "markdown",
   "id": "460fed45-106d-49b4-ac40-6c7153572b58",
   "metadata": {},
   "source": [
    "- 나머지는 0"
   ]
  },
  {
   "cell_type": "code",
   "execution_count": 11,
   "id": "9294e9d7-732a-418a-b699-f5c96ade857f",
   "metadata": {},
   "outputs": [
    {
     "name": "stdout",
     "output_type": "stream",
     "text": [
      "2\n"
     ]
    }
   ],
   "source": [
    "print(x // y)"
   ]
  },
  {
   "cell_type": "markdown",
   "id": "0d1d8143-a107-4528-ad04-023e6529e536",
   "metadata": {},
   "source": [
    "- 몫은 2"
   ]
  },
  {
   "cell_type": "code",
   "execution_count": 13,
   "id": "dbcb5818-6e19-475a-b4f0-370bf7454099",
   "metadata": {},
   "outputs": [
    {
     "name": "stdout",
     "output_type": "stream",
     "text": [
      "216\n"
     ]
    }
   ],
   "source": [
    "print(x ** y)"
   ]
  },
  {
   "cell_type": "markdown",
   "id": "b8400191-c4e6-485a-baf5-a0b13d1df684",
   "metadata": {},
   "source": [
    "- 제곱"
   ]
  }
 ],
 "metadata": {
  "kernelspec": {
   "display_name": "Python 3 (ipykernel)",
   "language": "python",
   "name": "python3"
  },
  "language_info": {
   "codemirror_mode": {
    "name": "ipython",
    "version": 3
   },
   "file_extension": ".py",
   "mimetype": "text/x-python",
   "name": "python",
   "nbconvert_exporter": "python",
   "pygments_lexer": "ipython3",
   "version": "3.9.13"
  }
 },
 "nbformat": 4,
 "nbformat_minor": 5
}
