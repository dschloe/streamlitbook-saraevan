{
 "cells": [
  {
   "cell_type": "markdown",
   "id": "e2f8e05b-72e2-4fc7-a809-e47ca67f23c8",
   "metadata": {},
   "source": [
    "## 파이썬 기초문법\n",
    "- 작업요청 : 여기는 사라가 한번 쭉 읽어보고 기초문법 좀 더 추가해도 될 것 같음\n",
    "- chatgpt가 있으니까 해당 코드를 설명해달라고 하는식으로 하는게 글 작성하는게 도움 될거에요.\n",
    "\n",
    "![](fig.png)"
   ]
  },
  {
   "cell_type": "code",
   "execution_count": 3,
   "id": "20da6026-eb0f-450b-adea-995ca0c94630",
   "metadata": {
    "tags": []
   },
   "outputs": [
    {
     "name": "stdout",
     "output_type": "stream",
     "text": [
      "Hello, Streamlit!\n"
     ]
    }
   ],
   "source": [
    "print(\"Hello, Streamlit!\")"
   ]
  },
  {
   "cell_type": "code",
   "execution_count": 4,
   "id": "bad22303-d45b-46f8-a9c7-6493410d26be",
   "metadata": {
    "tags": []
   },
   "outputs": [
    {
     "name": "stdout",
     "output_type": "stream",
     "text": [
      "Hello, Streamlit!\n"
     ]
    }
   ],
   "source": [
    "# 한 줄 주석 처리\n",
    "\"\"\"\n",
    "여러 줄 주석 예제 동일한 따옴표(큰따옴표 혹은 작은 따옴표) \n",
    "세 개와 세 개 사이에는어떠한 내용, \n",
    "몇 줄이 들어가더라도 모두 주석으로 처리됩니다.\n",
    "\"\"\"\n",
    "print(\"Hello, Streamlit!\")"
   ]
  },
  {
   "cell_type": "markdown",
   "id": "dfe50ca5-1b5f-4c77-ab04-d8a802305791",
   "metadata": {},
   "source": [
    "## Primitive 데이터 타입\n",
    "- 크게 4가지가 존재함\n",
    "    + Integer, Float, String, Boolean"
   ]
  },
  {
   "cell_type": "markdown",
   "id": "fea270eb-a41e-4b2e-9b97-9e06e81ea267",
   "metadata": {},
   "source": [
    "여러분의 나이를 입력하고 출력하는 코드를 작성합니다. "
   ]
  },
  {
   "cell_type": "code",
   "execution_count": 6,
   "id": "94289c1b-da44-42b1-81ee-8af93ef4a15f",
   "metadata": {
    "tags": []
   },
   "outputs": [
    {
     "name": "stdout",
     "output_type": "stream",
     "text": [
      "30\n",
      "<class 'int'>\n"
     ]
    }
   ],
   "source": [
    "num_int = 30\n",
    "print(num_int)\n",
    "print(type(num_int))"
   ]
  },
  {
   "cell_type": "markdown",
   "id": "71ae9214-824a-4d51-8a99-6aee2436a7d5",
   "metadata": {},
   "source": [
    "이번에는 num_int가 실제로 int형인지 확인한다. "
   ]
  },
  {
   "cell_type": "code",
   "execution_count": 9,
   "id": "481b4f87-90ca-4215-93ea-9c2caa1e58eb",
   "metadata": {
    "tags": []
   },
   "outputs": [
    {
     "name": "stdout",
     "output_type": "stream",
     "text": [
      "<class 'int'>\n"
     ]
    }
   ],
   "source": [
    "print(type(num_int))"
   ]
  },
  {
   "cell_type": "markdown",
   "id": "be51d790-763f-4286-9848-3fad765c9da3",
   "metadata": {},
   "source": [
    "이번에는 본인의 키를 입력하고 출력하는 코드를 작성"
   ]
  },
  {
   "cell_type": "code",
   "execution_count": 7,
   "id": "c6095dbc-83f4-4b8d-80c7-ef20f8d44245",
   "metadata": {
    "tags": []
   },
   "outputs": [
    {
     "name": "stdout",
     "output_type": "stream",
     "text": [
      "181.8\n",
      "<class 'float'>\n"
     ]
    }
   ],
   "source": [
    "my_height = 181.8\n",
    "print(my_height)\n",
    "print(type(my_height))"
   ]
  },
  {
   "cell_type": "code",
   "execution_count": 3,
   "id": "ca0cf457-ca9d-4af9-8f2a-cb851d6376d4",
   "metadata": {
    "tags": []
   },
   "outputs": [
    {
     "name": "stdout",
     "output_type": "stream",
     "text": [
      "<class 'float'>\n"
     ]
    }
   ],
   "source": [
    "print(type(my_height))"
   ]
  },
  {
   "cell_type": "markdown",
   "id": "80694232-3b61-493f-9372-70b3a41aeff3",
   "metadata": {},
   "source": [
    "- 임의의 글자를 입력하고 저장한다."
   ]
  },
  {
   "cell_type": "code",
   "execution_count": 8,
   "id": "88b8201a-bddf-4e6a-b302-962346762a39",
   "metadata": {},
   "outputs": [
    {
     "name": "stdout",
     "output_type": "stream",
     "text": [
      "evan\n",
      "<class 'str'>\n"
     ]
    }
   ],
   "source": [
    "my_name = \"evan\"\n",
    "print(my_name)\n",
    "print(type(my_name))"
   ]
  },
  {
   "cell_type": "markdown",
   "id": "b9452b71-8df1-466c-abb5-1edf1bb19321",
   "metadata": {},
   "source": [
    "임의의 두개의 숫자를 비교하는 코드를 작성하고, 결괏값을 확인해본다. "
   ]
  },
  {
   "cell_type": "code",
   "execution_count": 9,
   "id": "ecc06d54-e5a8-406e-aed3-6270a19bb282",
   "metadata": {
    "tags": []
   },
   "outputs": [
    {
     "name": "stdout",
     "output_type": "stream",
     "text": [
      "False\n",
      "<class 'bool'>\n"
     ]
    }
   ],
   "source": [
    "x = 5\n",
    "y = 3\n",
    "z = x == y\n",
    "print(z)\n",
    "print(type(z))"
   ]
  },
  {
   "cell_type": "markdown",
   "id": "cb5bc598-ac84-4666-8063-d7ea56fe15d0",
   "metadata": {},
   "source": [
    "## 사칙연산\n",
    "두 개의 변수를 만들고 사칙연산을 만든다. \n",
    "- 표 작업 : https://www.w3schools.com/python/python_operators.asp"
   ]
  },
  {
   "cell_type": "code",
   "execution_count": 10,
   "id": "ba8aec99-4c9b-4af2-979f-7349424715aa",
   "metadata": {},
   "outputs": [
    {
     "name": "stdout",
     "output_type": "stream",
     "text": [
      "9\n",
      "3\n",
      "18\n",
      "2.0\n"
     ]
    }
   ],
   "source": [
    "x = 6\n",
    "y = 3\n",
    "\n",
    "print(x + y)\n",
    "print(x - y)\n",
    "print(x * y)\n",
    "print(x / y)"
   ]
  },
  {
   "cell_type": "markdown",
   "id": "656f74c1-f646-4096-afb1-971150332808",
   "metadata": {},
   "source": [
    "- 나눗셈을 하면 반환값이 실수형인것에 주의한다. "
   ]
  },
  {
   "cell_type": "code",
   "execution_count": 11,
   "id": "b3ccbd32-d0d6-4f76-bc1c-1a28c99440bb",
   "metadata": {},
   "outputs": [
    {
     "name": "stdout",
     "output_type": "stream",
     "text": [
      "0\n",
      "2\n",
      "216\n"
     ]
    }
   ],
   "source": [
    "x = 6\n",
    "y = 3\n",
    "\n",
    "print(x % y)\n",
    "print(x // y)\n",
    "print(x ** y)"
   ]
  },
  {
   "cell_type": "markdown",
   "id": "460fed45-106d-49b4-ac40-6c7153572b58",
   "metadata": {},
   "source": [
    "- 나머지는 0"
   ]
  },
  {
   "cell_type": "code",
   "execution_count": 11,
   "id": "9294e9d7-732a-418a-b699-f5c96ade857f",
   "metadata": {},
   "outputs": [
    {
     "name": "stdout",
     "output_type": "stream",
     "text": [
      "2\n"
     ]
    }
   ],
   "source": [
    "print(x // y)"
   ]
  },
  {
   "cell_type": "markdown",
   "id": "0d1d8143-a107-4528-ad04-023e6529e536",
   "metadata": {},
   "source": [
    "- 몫은 2"
   ]
  },
  {
   "cell_type": "code",
   "execution_count": 13,
   "id": "dbcb5818-6e19-475a-b4f0-370bf7454099",
   "metadata": {},
   "outputs": [
    {
     "name": "stdout",
     "output_type": "stream",
     "text": [
      "216\n"
     ]
    }
   ],
   "source": [
    "print(x ** y)"
   ]
  },
  {
   "cell_type": "markdown",
   "id": "b8400191-c4e6-485a-baf5-a0b13d1df684",
   "metadata": {},
   "source": [
    "- 제곱"
   ]
  },
  {
   "cell_type": "markdown",
   "id": "15e69380-95a9-4fc2-b74c-7d6f1735e7b6",
   "metadata": {},
   "source": [
    "## 비교 연산자"
   ]
  },
  {
   "cell_type": "code",
   "execution_count": 14,
   "id": "e443bae7-afce-4e3a-8eab-3ae051dfb85c",
   "metadata": {},
   "outputs": [
    {
     "name": "stdout",
     "output_type": "stream",
     "text": [
      "False\n",
      "True\n",
      "False\n",
      "True\n",
      "False\n",
      "True\n"
     ]
    }
   ],
   "source": [
    "x = 10\n",
    "y = 11\n",
    "\n",
    "print(x == y)\n",
    "print(x != y)\n",
    "print(x > y)\n",
    "print(x < y)\n",
    "print(x >= y)\n",
    "print(x <= y)"
   ]
  },
  {
   "cell_type": "markdown",
   "id": "8fd0b094-9928-4e4e-bdd6-45d3f0f43377",
   "metadata": {},
   "source": [
    "## 논리 연산자"
   ]
  },
  {
   "cell_type": "code",
   "execution_count": 17,
   "id": "e256bf89-4b79-405f-a0b0-9aa4d9e63ade",
   "metadata": {},
   "outputs": [
    {
     "name": "stdout",
     "output_type": "stream",
     "text": [
      "False\n"
     ]
    }
   ],
   "source": [
    "a = 3\n",
    "b = 5\n",
    "\n",
    "print((a > 2) and (b >= 6))   "
   ]
  },
  {
   "cell_type": "code",
   "execution_count": 18,
   "id": "b9b4f71f-81b0-4df2-9a93-45e73ed5c1e0",
   "metadata": {},
   "outputs": [
    {
     "name": "stdout",
     "output_type": "stream",
     "text": [
      "True\n",
      "False\n",
      "False\n",
      "False\n"
     ]
    }
   ],
   "source": [
    "print(True and True)\n",
    "print(True and False)\n",
    "print(False and True)\n",
    "print(False and False)"
   ]
  },
  {
   "cell_type": "code",
   "execution_count": 20,
   "id": "303c14c3-7d64-4f67-a722-41519eac4158",
   "metadata": {},
   "outputs": [
    {
     "name": "stdout",
     "output_type": "stream",
     "text": [
      "True\n",
      "True\n",
      "True\n",
      "False\n"
     ]
    }
   ],
   "source": [
    "print(True or True)\n",
    "print(True or False)\n",
    "print(False or True)\n",
    "print(False or False)"
   ]
  },
  {
   "cell_type": "code",
   "execution_count": 22,
   "id": "90b31bf7-b68b-4685-860c-e98f5165a512",
   "metadata": {},
   "outputs": [
    {
     "name": "stdout",
     "output_type": "stream",
     "text": [
      "False\n",
      "True\n"
     ]
    }
   ],
   "source": [
    "print(not True)\n",
    "print(not False)"
   ]
  },
  {
   "cell_type": "markdown",
   "id": "f65d67a7-993f-4dfa-ba83-8498602f5686",
   "metadata": {},
   "source": [
    "## String"
   ]
  },
  {
   "cell_type": "markdown",
   "id": "efa5dbf1-3676-4a76-95b7-487c0ffaa8a0",
   "metadata": {},
   "source": [
    "### String Operators"
   ]
  },
  {
   "cell_type": "code",
   "execution_count": 2,
   "id": "5dafc7e6-1d35-40a5-b58d-1ea8cfd8a4c1",
   "metadata": {},
   "outputs": [
    {
     "name": "stdout",
     "output_type": "stream",
     "text": [
      "evan loves sarah forever\n"
     ]
    }
   ],
   "source": [
    "# 알아서 바꿔요 메롱!\n",
    "a = \"evan\"\n",
    "b = \"loves\"\n",
    "c = \"sarah\"\n",
    "\n",
    "letter = a + \" \" + b + \" \" + c + \" forever\"\n",
    "print(letter)"
   ]
  },
  {
   "cell_type": "code",
   "execution_count": 29,
   "id": "09fa9c18-d9e6-4c8b-a3c7-a649b6b3e50c",
   "metadata": {},
   "outputs": [
    {
     "name": "stdout",
     "output_type": "stream",
     "text": [
      "Love Love Love Love Love \n"
     ]
    }
   ],
   "source": [
    "x = \"Love \"\n",
    "lyrics = x * 5\n",
    "print(lyrics)"
   ]
  },
  {
   "cell_type": "markdown",
   "id": "b7f6a7ca-5b09-4738-b875-86faa81294be",
   "metadata": {},
   "source": [
    "### 인덱싱"
   ]
  },
  {
   "cell_type": "code",
   "execution_count": 31,
   "id": "282b9cce-769c-4dcf-859c-1f27ee7fed51",
   "metadata": {},
   "outputs": [
    {
     "name": "stdout",
     "output_type": "stream",
     "text": [
      "S\n",
      "m\n",
      "d\n",
      "a\n"
     ]
    }
   ],
   "source": [
    "X = \"Streamlit Dashboard\"\n",
    "print(X[0])  # 0번째 글자 가져오기\n",
    "print(X[5])  # 5번째 글자 가져오기\n",
    "print(X[-1]) # -1번째 글자 가져오기\n",
    "print(X[-3]) # -3번째 글자 가져오기"
   ]
  },
  {
   "cell_type": "code",
   "execution_count": 32,
   "id": "01d83edf-132a-4fbb-a715-5ae2dcdc9bcc",
   "metadata": {},
   "outputs": [
    {
     "ename": "IndexError",
     "evalue": "string index out of range",
     "output_type": "error",
     "traceback": [
      "\u001b[1;31m---------------------------------------------------------------------------\u001b[0m",
      "\u001b[1;31mIndexError\u001b[0m                                Traceback (most recent call last)",
      "\u001b[1;32m~\\AppData\\Local\\Temp\\ipykernel_26212\\4027558193.py\u001b[0m in \u001b[0;36m<module>\u001b[1;34m\u001b[0m\n\u001b[1;32m----> 1\u001b[1;33m \u001b[0mprint\u001b[0m\u001b[1;33m(\u001b[0m\u001b[0mX\u001b[0m\u001b[1;33m[\u001b[0m\u001b[1;36m100\u001b[0m\u001b[1;33m]\u001b[0m\u001b[1;33m)\u001b[0m\u001b[1;33m\u001b[0m\u001b[1;33m\u001b[0m\u001b[0m\n\u001b[0m",
      "\u001b[1;31mIndexError\u001b[0m: string index out of range"
     ]
    }
   ],
   "source": [
    "print(X[100])"
   ]
  },
  {
   "cell_type": "markdown",
   "id": "89191b48-2829-43d2-a400-ea187b17a00b",
   "metadata": {},
   "source": [
    "### 슬라이싱"
   ]
  },
  {
   "cell_type": "code",
   "execution_count": 8,
   "id": "460d7c6f-c239-4c29-9880-38284ff87954",
   "metadata": {},
   "outputs": [
    {
     "name": "stdout",
     "output_type": "stream",
     "text": [
      "Hello Streamlit\n",
      "Streamlit\n",
      "Hello \n",
      "lo St\n",
      "HloSr\n"
     ]
    }
   ],
   "source": [
    "greeting = \"Hello Streamlit\"\n",
    "print(greeting[:])\n",
    "print(greeting[6:])\n",
    "print(greeting[:6])\n",
    "print(greeting[3:8])\n",
    "print(greeting[0:9:2])"
   ]
  },
  {
   "cell_type": "markdown",
   "id": "ce5f742e-5150-43c5-98d7-31e4a53e1a12",
   "metadata": {},
   "source": [
    "### 문자열 수정\n"
   ]
  },
  {
   "cell_type": "code",
   "execution_count": 9,
   "id": "73313565-27c7-4943-965d-399e03a85416",
   "metadata": {},
   "outputs": [
    {
     "ename": "TypeError",
     "evalue": "'str' object does not support item assignment",
     "output_type": "error",
     "traceback": [
      "\u001b[1;31m---------------------------------------------------------------------------\u001b[0m",
      "\u001b[1;31mTypeError\u001b[0m                                 Traceback (most recent call last)",
      "\u001b[1;32m~\\AppData\\Local\\Temp\\ipykernel_29108\\2735535411.py\u001b[0m in \u001b[0;36m<module>\u001b[1;34m\u001b[0m\n\u001b[0;32m      1\u001b[0m \u001b[0mgreeting\u001b[0m \u001b[1;33m=\u001b[0m \u001b[1;34m'Hello, Streamlit'\u001b[0m\u001b[1;33m\u001b[0m\u001b[1;33m\u001b[0m\u001b[0m\n\u001b[1;32m----> 2\u001b[1;33m \u001b[0mgreeting\u001b[0m\u001b[1;33m[\u001b[0m\u001b[1;36m0\u001b[0m\u001b[1;33m]\u001b[0m \u001b[1;33m=\u001b[0m \u001b[1;34m'A'\u001b[0m\u001b[1;33m\u001b[0m\u001b[1;33m\u001b[0m\u001b[0m\n\u001b[0m\u001b[0;32m      3\u001b[0m \u001b[0mprint\u001b[0m\u001b[1;33m(\u001b[0m\u001b[0mgreeting\u001b[0m\u001b[1;33m)\u001b[0m\u001b[1;33m\u001b[0m\u001b[1;33m\u001b[0m\u001b[0m\n",
      "\u001b[1;31mTypeError\u001b[0m: 'str' object does not support item assignment"
     ]
    }
   ],
   "source": [
    "greeting = 'Hello, Streamlit'\n",
    "greeting[0] = 'A'\n",
    "print(greeting)"
   ]
  },
  {
   "cell_type": "code",
   "execution_count": 11,
   "id": "a5c9e0f0-8cb9-423a-8455-1dd360cc2d4c",
   "metadata": {},
   "outputs": [
    {
     "name": "stdout",
     "output_type": "stream",
     "text": [
      "Aello, Streamlit\n"
     ]
    }
   ],
   "source": [
    "new_greeting = 'A' + greeting[1:]\n",
    "print(new_greeting)"
   ]
  },
  {
   "cell_type": "markdown",
   "id": "58faf1b7-7509-429e-b033-e49e3ddf546a",
   "metadata": {},
   "source": [
    "### 문자열 메서드"
   ]
  },
  {
   "cell_type": "code",
   "execution_count": 13,
   "id": "ca05b094-d713-4af2-a742-5a23f1b393ef",
   "metadata": {},
   "outputs": [
    {
     "name": "stdout",
     "output_type": "stream",
     "text": [
      "HELLO, STREAMLIT\n"
     ]
    }
   ],
   "source": [
    "sampleText = \"hello, streamlit\"\n",
    "upper_text = sampleText.upper()\n",
    "print(upper_text)"
   ]
  },
  {
   "cell_type": "code",
   "execution_count": 16,
   "id": "255d06de-5c94-4ff0-8f6b-5ff12ba28740",
   "metadata": {},
   "outputs": [
    {
     "name": "stdout",
     "output_type": "stream",
     "text": [
      "hello, streamlit\n"
     ]
    }
   ],
   "source": [
    "sampleText = \"HELLO, STREAMLIT\"\n",
    "lower_text = sampleText.lower()\n",
    "print(lower_text)"
   ]
  },
  {
   "cell_type": "code",
   "execution_count": 24,
   "id": "a6fa10f2-0ddf-4efe-91f6-33f67443bc23",
   "metadata": {},
   "outputs": [
    {
     "name": "stdout",
     "output_type": "stream",
     "text": [
      "Hello, streamlit\n"
     ]
    }
   ],
   "source": [
    "sampleText = \"hello, streamlit\"\n",
    "cap_text = sampleText.capitalize()\n",
    "print(cap_text)"
   ]
  },
  {
   "cell_type": "code",
   "execution_count": 26,
   "id": "6d63f1f5-206c-43c4-ba4a-f2f14072aee9",
   "metadata": {},
   "outputs": [
    {
     "name": "stdout",
     "output_type": "stream",
     "text": [
      "Hello, Streamlit\n"
     ]
    }
   ],
   "source": [
    "sampleText = \"hello, streamlit\"\n",
    "title_text = sampleText.title()\n",
    "print(title_text)"
   ]
  },
  {
   "cell_type": "code",
   "execution_count": 27,
   "id": "92453f12-27ca-469b-83cc-30480df9df55",
   "metadata": {},
   "outputs": [
    {
     "name": "stdout",
     "output_type": "stream",
     "text": [
      "hello, streamlit\n"
     ]
    }
   ],
   "source": [
    "sampleText = \"   hello, streamlit   \"\n",
    "stripped_text = sampleText.strip()\n",
    "print(stripped_text)"
   ]
  },
  {
   "cell_type": "code",
   "execution_count": 4,
   "id": "aa86f68d-ca90-49a0-9439-585012f27442",
   "metadata": {},
   "outputs": [
    {
     "name": "stdout",
     "output_type": "stream",
     "text": [
      "welcome, streamlit\n"
     ]
    }
   ],
   "source": [
    "sampleText = \"hello, streamlit\"\n",
    "new_text = sampleText.replace(\"hello\", \"welcome\")\n",
    "print(new_text)"
   ]
  },
  {
   "cell_type": "code",
   "execution_count": 6,
   "id": "fa231224-c823-49f0-9af3-02847c752e58",
   "metadata": {},
   "outputs": [
    {
     "name": "stdout",
     "output_type": "stream",
     "text": [
      "['hello', ' streamlit']\n"
     ]
    }
   ],
   "source": [
    "sampleText = \"hello, streamlit\"\n",
    "words = sampleText.split(sep=\",\")\n",
    "print(words)"
   ]
  },
  {
   "cell_type": "code",
   "execution_count": 8,
   "id": "b00a463f-7f5e-4e1d-ad38-e2a7d119ca7f",
   "metadata": {},
   "outputs": [
    {
     "name": "stdout",
     "output_type": "stream",
     "text": [
      "hello, streamlit\n"
     ]
    }
   ],
   "source": [
    "words = [\"hello\", \"streamlit\"]\n",
    "text = \", \".join(words)\n",
    "print(text)"
   ]
  },
  {
   "cell_type": "markdown",
   "id": "8ab64612-2547-4728-9a0d-379ef49e2a73",
   "metadata": {},
   "source": [
    "## List"
   ]
  },
  {
   "cell_type": "code",
   "execution_count": 10,
   "id": "de9f4c1d-35c5-46f6-b899-6618b21b621d",
   "metadata": {},
   "outputs": [
    {
     "name": "stdout",
     "output_type": "stream",
     "text": [
      "False\n",
      "True\n",
      "True\n"
     ]
    }
   ],
   "source": [
    "from collections.abc import Sequence\n",
    "\n",
    "my_num = 100\n",
    "my_list = [1, 2, 3]\n",
    "my_string = \"hello\"\n",
    "\n",
    "is_num = isinstance(my_num, Sequence)\n",
    "is_list = isinstance(my_list, Sequence)\n",
    "is_string = isinstance(my_string, Sequence)\n",
    "\n",
    "print(is_num)\n",
    "print(is_list)\n",
    "print(is_string)"
   ]
  },
  {
   "cell_type": "markdown",
   "id": "c9090332-af52-43e2-a00a-fd5bb4ce3b8e",
   "metadata": {},
   "source": [
    "### 인덱싱 & 슬라이싱"
   ]
  },
  {
   "cell_type": "code",
   "execution_count": 2,
   "id": "e11d06dc-5aad-4f83-8393-7f781f031add",
   "metadata": {},
   "outputs": [
    {
     "name": "stdout",
     "output_type": "stream",
     "text": [
      "1\n",
      "2\n",
      "3\n",
      "3\n"
     ]
    }
   ],
   "source": [
    "a = [1, 2, 3]\n",
    "print(a[0]) # 첫번째 요소\n",
    "print(a[1]) # 두번째 요소\n",
    "print(a[2]) # 세번째 요소\n",
    "print(a[-1])"
   ]
  },
  {
   "cell_type": "code",
   "execution_count": 6,
   "id": "d59d4ec9-4e6f-4757-a6fb-88227cbb8cba",
   "metadata": {},
   "outputs": [
    {
     "data": {
      "text/plain": [
       "['be', 'with', 'you']"
      ]
     },
     "execution_count": 6,
     "metadata": {},
     "output_type": "execute_result"
    }
   ],
   "source": [
    "my_list = [1, 2, [\"I\", \"want\", \"to\", \"be\", \"with\", \"you\"], 4, 5]\n",
    "\n",
    "# be with you 조회\n",
    "my_list[2][3:]"
   ]
  },
  {
   "cell_type": "markdown",
   "id": "cff97aa3-b3a8-4fb9-af56-ef14f07fdc4d",
   "metadata": {},
   "source": [
    "### append()"
   ]
  },
  {
   "cell_type": "code",
   "execution_count": 9,
   "id": "e01b64bd-76e5-42a7-bea1-7205a9eeb541",
   "metadata": {},
   "outputs": [
    {
     "data": {
      "text/plain": [
       "['evan', 'likes', \"sarah's smile\"]"
      ]
     },
     "execution_count": 9,
     "metadata": {},
     "output_type": "execute_result"
    }
   ],
   "source": [
    "letter = [\"evan\", \"likes\"]\n",
    "letter.append(\"sarah's smile\")\n",
    "letter"
   ]
  },
  {
   "cell_type": "markdown",
   "id": "b176fa62-2587-4b48-8d1a-0787e801d628",
   "metadata": {},
   "source": [
    "### extend()"
   ]
  },
  {
   "cell_type": "code",
   "execution_count": 11,
   "id": "8fc10a88-2f6e-4bfa-a5b0-53fa7b8759b4",
   "metadata": {},
   "outputs": [
    {
     "data": {
      "text/plain": [
       "['Do', 'You', 'Like', 'Evan', '?']"
      ]
     },
     "execution_count": 11,
     "metadata": {},
     "output_type": "execute_result"
    }
   ],
   "source": [
    "letter = [\"Do\", \"You\"]\n",
    "letter.extend([\"Like\", \"Evan\", \"?\"])\n",
    "letter"
   ]
  },
  {
   "cell_type": "markdown",
   "id": "8c5ad0bc-c9c0-45b4-bd73-04dab49da269",
   "metadata": {},
   "source": [
    "### insert()"
   ]
  },
  {
   "cell_type": "code",
   "execution_count": 14,
   "id": "e895d709-2796-4641-83c2-77e22ae21d07",
   "metadata": {},
   "outputs": [
    {
     "data": {
      "text/plain": [
       "['Evan', 'has', 'a crush', 'on', 'sarah']"
      ]
     },
     "execution_count": 14,
     "metadata": {},
     "output_type": "execute_result"
    }
   ],
   "source": [
    "letter = [\"Evan\", \"has\", \"on\", \"sarah\"]\n",
    "letter.insert(2, \"a crush\")\n",
    "letter"
   ]
  },
  {
   "cell_type": "markdown",
   "id": "ab1052c1-2471-41b9-89c5-161165d1e0b0",
   "metadata": {},
   "source": [
    "### 리스트 값 변경"
   ]
  },
  {
   "cell_type": "code",
   "execution_count": 15,
   "id": "91702b15-a93e-4de3-813d-a28371a49810",
   "metadata": {},
   "outputs": [
    {
     "data": {
      "text/plain": [
       "['Evan', 'is', 'with', 'Sarah']"
      ]
     },
     "execution_count": 15,
     "metadata": {},
     "output_type": "execute_result"
    }
   ],
   "source": [
    "letter = [\"Evan\", \"is\", \"with\", \"someone\"]\n",
    "letter[3] = \"Sarah\"\n",
    "letter"
   ]
  },
  {
   "cell_type": "markdown",
   "id": "46e8baee-499e-469a-b48e-f853de859ad7",
   "metadata": {},
   "source": [
    "## 리스트 값 삭제"
   ]
  },
  {
   "cell_type": "code",
   "execution_count": 5,
   "id": "548717a6-e6b2-45e5-893c-7ba931e81c63",
   "metadata": {},
   "outputs": [
    {
     "name": "stdout",
     "output_type": "stream",
     "text": [
      "[302, 418, 430, 529]\n",
      "[302, 418, 430]\n"
     ]
    }
   ],
   "source": [
    "# 임의의 숫자 리스트를 생성한다. \n",
    "dates = [302, 401, 418, 430, 529]\n",
    " \n",
    "# 401를 제거한다. \n",
    "dates.remove(401)\n",
    "print(dates)\n",
    "\n",
    "# 529를 제거한다. \n",
    "dates.remove(529)\n",
    "print(dates)"
   ]
  },
  {
   "cell_type": "markdown",
   "id": "5452dcb7-70d9-4eec-90ec-fc3b0bf9f0db",
   "metadata": {},
   "source": [
    "## 리스트 값 정렬"
   ]
  },
  {
   "cell_type": "code",
   "execution_count": 6,
   "id": "57033264-dfcf-47b5-b50f-045b2013e068",
   "metadata": {},
   "outputs": [
    {
     "data": {
      "text/plain": [
       "['evan', 'loves', 'sarah']"
      ]
     },
     "execution_count": 6,
     "metadata": {},
     "output_type": "execute_result"
    }
   ],
   "source": [
    "letters = [\"sarah\", \"loves\", \"evan\"]\n",
    "letters.sort()\n",
    "letters"
   ]
  },
  {
   "cell_type": "code",
   "execution_count": 1,
   "id": "8cb3cae2-095d-4860-969c-842de48a8c23",
   "metadata": {},
   "outputs": [
    {
     "data": {
      "text/plain": [
       "[201, 217, 302, 317, 322, 329]"
      ]
     },
     "execution_count": 1,
     "metadata": {},
     "output_type": "execute_result"
    }
   ],
   "source": [
    "dates = [329, 322, 317, 302, 217, 201]\n",
    "dates.sort()\n",
    "dates"
   ]
  },
  {
   "cell_type": "markdown",
   "id": "231f4802-d6c7-4ef6-889c-59f0dc0c7954",
   "metadata": {},
   "source": [
    "## 튜플"
   ]
  },
  {
   "cell_type": "code",
   "execution_count": 4,
   "id": "e952fda8-ffec-4bb7-9fed-03fdb5271726",
   "metadata": {},
   "outputs": [
    {
     "name": "stdout",
     "output_type": "stream",
     "text": [
      "('Hi', 1, 3.12)\n",
      "('Hi', [1, 2, 3], (3.12, 1.23, 4.21))\n"
     ]
    }
   ],
   "source": [
    "my_tuple = (\"Hi\", 1, 3.12)\n",
    "print(my_tuple)\n",
    "\n",
    "my_nested_tuple = (\"Hi\", [1, 2, 3], (3.12, 1.23, 4.21))\n",
    "print(my_nested_tuple)"
   ]
  },
  {
   "cell_type": "code",
   "execution_count": 6,
   "id": "daeb4132-8d6a-4ccd-9f56-b69df234d6d3",
   "metadata": {},
   "outputs": [
    {
     "name": "stdout",
     "output_type": "stream",
     "text": [
      "(1, 2, 3)\n"
     ]
    }
   ],
   "source": [
    "my_tuple = 1, 2, 3\n",
    "print(my_tuple)"
   ]
  },
  {
   "cell_type": "code",
   "execution_count": 8,
   "id": "d4702f3b-bae0-4c90-91a7-4c7339712b7e",
   "metadata": {},
   "outputs": [
    {
     "data": {
      "text/plain": [
       "('be', 'with', 'you')"
      ]
     },
     "execution_count": 8,
     "metadata": {},
     "output_type": "execute_result"
    }
   ],
   "source": [
    "my_tuple = (1, 2, (\"I\", \"want\", \"to\", \"be\", \"with\", \"you\"), 4, 5)\n",
    "\n",
    "# be with you 조회\n",
    "my_tuple[2][3:]"
   ]
  },
  {
   "cell_type": "code",
   "execution_count": 9,
   "id": "95882536-2205-4e5a-b8a8-22d4f9bb908f",
   "metadata": {},
   "outputs": [
    {
     "name": "stdout",
     "output_type": "stream",
     "text": [
      "5\n",
      "3\n"
     ]
    }
   ],
   "source": [
    "my_tuple = (\"Love\", \"Love\", \"Love\", \"Hate\", \"Love\", \"Love\")\n",
    "\n",
    "print(my_tuple.count('Love')) \n",
    "print(my_tuple.index('Hate'))"
   ]
  },
  {
   "cell_type": "markdown",
   "id": "b6296717-de27-4132-9868-6179784b2917",
   "metadata": {},
   "source": [
    "## 딕셔너리"
   ]
  },
  {
   "cell_type": "code",
   "execution_count": 2,
   "id": "fa5c79fb-79e4-47b6-be28-0643dac87c2e",
   "metadata": {},
   "outputs": [
    {
     "name": "stdout",
     "output_type": "stream",
     "text": [
      "{'name': 'sarah', 'age': 20, 'job': 'Data Analyst', 'shopping': [1, 2, 3]}\n",
      "sarah\n",
      "20\n",
      "[1, 2, 3]\n"
     ]
    }
   ],
   "source": [
    "my_dic = {'name':'sarah', 'age': 20, 'job': 'Data Analyst', 'shopping':[1,2,3]}\n",
    "\n",
    "print(my_dic)\n",
    "print(my_dic['name'])\n",
    "print(my_dic['age'])\n",
    "print(my_dic['shopping'])"
   ]
  },
  {
   "cell_type": "code",
   "execution_count": 4,
   "id": "1f4bc555-be06-4b15-861a-09e0bc0843f4",
   "metadata": {},
   "outputs": [
    {
     "name": "stdout",
     "output_type": "stream",
     "text": [
      "{'name': 'sarah', 'age': 20, 'job': 'Data Analyst', 'shopping': [1, 2, 3], 'country': 'S. Korea'}\n"
     ]
    }
   ],
   "source": [
    "# 기존 딕셔너리에 값을 추가\n",
    "my_dic['country'] = 'S. Korea'\n",
    "print(my_dic)"
   ]
  },
  {
   "cell_type": "code",
   "execution_count": 5,
   "id": "51f665cf-76c8-4e7f-827d-ed0149412728",
   "metadata": {},
   "outputs": [
    {
     "name": "stdout",
     "output_type": "stream",
     "text": [
      "{'name': 'sarah', 'age': 20, 'job': 'Data Analyst', 'shopping': '가방', 'country': 'S. Korea'}\n"
     ]
    }
   ],
   "source": [
    "my_dic['shopping'] = '가방'\n",
    "print(my_dic)"
   ]
  },
  {
   "cell_type": "code",
   "execution_count": 6,
   "id": "5b0d9a63-a3d8-4c36-ab40-d6f04e20cccb",
   "metadata": {},
   "outputs": [
    {
     "name": "stdout",
     "output_type": "stream",
     "text": [
      "{'name': 'sarah', 'age': 20, 'job': 'Data Analyst', 'country': 'S. Korea'}\n"
     ]
    }
   ],
   "source": [
    "del my_dic['shopping']\n",
    "print(my_dic)"
   ]
  },
  {
   "cell_type": "code",
   "execution_count": 8,
   "id": "b083c4c5-d9e8-46af-bfce-f76eccf0b36d",
   "metadata": {},
   "outputs": [
    {
     "data": {
      "text/plain": [
       "dict_keys(['name', 'age', 'job', 'country'])"
      ]
     },
     "execution_count": 8,
     "metadata": {},
     "output_type": "execute_result"
    }
   ],
   "source": [
    "my_dic.keys()"
   ]
  },
  {
   "cell_type": "code",
   "execution_count": 10,
   "id": "e6c1e7f0-020e-4415-af05-e13775215f88",
   "metadata": {},
   "outputs": [
    {
     "data": {
      "text/plain": [
       "dict_values(['sarah', 20, 'Data Analyst', 'S. Korea'])"
      ]
     },
     "execution_count": 10,
     "metadata": {},
     "output_type": "execute_result"
    }
   ],
   "source": [
    "my_dic.values()"
   ]
  },
  {
   "cell_type": "code",
   "execution_count": 11,
   "id": "4030b297-dd25-4c49-a3d9-f11640878c60",
   "metadata": {},
   "outputs": [
    {
     "data": {
      "text/plain": [
       "dict_items([('name', 'sarah'), ('age', 20), ('job', 'Data Analyst'), ('country', 'S. Korea')])"
      ]
     },
     "execution_count": 11,
     "metadata": {},
     "output_type": "execute_result"
    }
   ],
   "source": [
    "my_dic.items()"
   ]
  },
  {
   "cell_type": "code",
   "execution_count": 12,
   "id": "1d805e4a-0357-46ba-a89b-92ae41c4a092",
   "metadata": {},
   "outputs": [
    {
     "name": "stdout",
     "output_type": "stream",
     "text": [
      "sarah\n",
      "20\n",
      "Data Analyst\n",
      "S. Korea\n"
     ]
    }
   ],
   "source": [
    "for i in my_dic:\n",
    "    print(my_dic[i])"
   ]
  },
  {
   "cell_type": "markdown",
   "id": "e2de40c7-47ee-439e-86ea-5f76ac025f70",
   "metadata": {},
   "source": [
    "## 조건문"
   ]
  },
  {
   "cell_type": "code",
   "execution_count": 2,
   "id": "2fda8eb7-b5aa-41c6-8cce-0d099c25bf00",
   "metadata": {},
   "outputs": [
    {
     "name": "stdout",
     "output_type": "stream",
     "text": [
      "a가 b보다 크거나 같다\n"
     ]
    }
   ],
   "source": [
    "# 숫자 비교\n",
    "a = 38\n",
    "b = 31\n",
    "\n",
    "if a >= b:\n",
    "    print(\"a가 b보다 크거나 같다\")\n",
    "else:\n",
    "    print(\"b가 a보다 작다\")"
   ]
  },
  {
   "cell_type": "code",
   "execution_count": 6,
   "id": "4682db70-986f-4db3-b5dc-a47d4cd3e18d",
   "metadata": {},
   "outputs": [
    {
     "name": "stdout",
     "output_type": "stream",
     "text": [
      "a가 b와 같다\n"
     ]
    }
   ],
   "source": [
    "# 숫자 비교\n",
    "a = 31\n",
    "b = 31\n",
    "\n",
    "if a > b:\n",
    "    print(\"a가 b보다 크다\")\n",
    "elif a == b:\n",
    "    print(\"a가 b와 같다\")\n",
    "else:\n",
    "    print(\"a가 b보다 작다\")"
   ]
  },
  {
   "cell_type": "code",
   "execution_count": 7,
   "id": "622870c5-de0e-40e0-a942-7fc07a766810",
   "metadata": {},
   "outputs": [
    {
     "name": "stdout",
     "output_type": "stream",
     "text": [
      "문자열 let이 존재한다.\n"
     ]
    }
   ],
   "source": [
    "my_string = \"Don't let them in, don't let them see\"\n",
    "\n",
    "if \"let\" in my_string:\n",
    "    print(\"문자열 let이 존재한다.\")\n",
    "else:\n",
    "    print(\"문자열 let이 존재하지 않는다\")"
   ]
  },
  {
   "cell_type": "code",
   "execution_count": 12,
   "id": "dd1b15f1-fd9b-4cb2-8ce9-7a9172155bc8",
   "metadata": {
    "tags": []
   },
   "outputs": [
    {
     "name": "stdin",
     "output_type": "stream",
     "text": [
      "점수 입력 100\n"
     ]
    },
    {
     "name": "stdout",
     "output_type": "stream",
     "text": [
      "A등급\n"
     ]
    }
   ],
   "source": [
    "a = int(input(\"점수 입력\"))\n",
    "if a >= 90 and a <= 100:\n",
    "    result = \"A등급\"\n",
    "elif a >= 80 and a < 90:\n",
    "    result = \"B등급\"\n",
    "elif a >= 100:\n",
    "    result = \"0~100 작성\"\n",
    "elif a < 0:\n",
    "    result = \"0~100 작성\"\n",
    "else:\n",
    "    result = \"C등급\"\n",
    "print(result)"
   ]
  },
  {
   "cell_type": "code",
   "execution_count": 1,
   "id": "5ccfefd3-a104-4fea-adbd-800d93d691a0",
   "metadata": {},
   "outputs": [
    {
     "name": "stdout",
     "output_type": "stream",
     "text": [
      "a가 b보다 크거나 같다\n"
     ]
    }
   ],
   "source": [
    "a = 38\n",
    "b = 31\n",
    "\n",
    "result = \"a가 b보다 크거나 같다\" if a >= b else \"b가 a보다 작다\"\n",
    "print(result)"
   ]
  },
  {
   "cell_type": "markdown",
   "id": "67eab708-3099-4256-9ac7-aac3a34b60ab",
   "metadata": {},
   "source": [
    "## for loop"
   ]
  },
  {
   "cell_type": "code",
   "execution_count": 1,
   "id": "0a57c765-a1a8-45c3-b324-4d04af5a814b",
   "metadata": {},
   "outputs": [
    {
     "name": "stdout",
     "output_type": "stream",
     "text": [
      "파이썬\n",
      "HTML\n",
      "CSS\n",
      "자바\n"
     ]
    }
   ],
   "source": [
    "programming = ['파이썬', 'HTML', 'CSS', '자바']\n",
    "\n",
    "for idx in programming:\n",
    "    print(idx)"
   ]
  },
  {
   "cell_type": "code",
   "execution_count": 4,
   "id": "b8536648-7907-4b77-ad33-dc33f3bdedee",
   "metadata": {},
   "outputs": [
    {
     "name": "stdout",
     "output_type": "stream",
     "text": [
      "0\n",
      "1\n"
     ]
    }
   ],
   "source": [
    "for i in range(2):\n",
    "    print(i)"
   ]
  },
  {
   "cell_type": "code",
   "execution_count": 7,
   "id": "6b8617f9-93b1-42ca-a348-e6cac5a3655f",
   "metadata": {},
   "outputs": [
    {
     "name": "stdout",
     "output_type": "stream",
     "text": [
      "0\n",
      "1\n",
      "반복문 완전 종료!\n"
     ]
    }
   ],
   "source": [
    "for x in range(2):\n",
    "  print(x)\n",
    "else:\n",
    "  print(\"반복문 완전 종료!\")"
   ]
  },
  {
   "cell_type": "code",
   "execution_count": 9,
   "id": "159b030a-79b6-400c-9615-b628a031a3c1",
   "metadata": {},
   "outputs": [
    {
     "name": "stdout",
     "output_type": "stream",
     "text": [
      "0 Hi\n",
      "1 1\n",
      "2 3.12\n"
     ]
    }
   ],
   "source": [
    "my_tuple = (\"Hi\", 1, 3.12)\n",
    "for i, item in enumerate(my_tuple):\n",
    "    print(i, item)"
   ]
  },
  {
   "cell_type": "code",
   "execution_count": 10,
   "id": "3191b8fc-b363-4f22-bb3f-38a2cfa6ffe9",
   "metadata": {},
   "outputs": [
    {
     "name": "stdout",
     "output_type": "stream",
     "text": [
      "전체 매출액 : 12500.0\n",
      "전체 매출액 : 14850.0\n",
      "전체 매출액 : 570.0\n"
     ]
    }
   ],
   "source": [
    "total_sales  = [5000, 4500, 300]\n",
    "prices = [2.5, 3.3, 1.9]\n",
    "\n",
    "for sales, price in zip(total_sales, prices):\n",
    "    revenue = sales * price\n",
    "    print(f'전체 매출액 : {revenue}')"
   ]
  },
  {
   "cell_type": "markdown",
   "id": "ad9e725e-2023-4948-8c16-aa8df19d9dfd",
   "metadata": {},
   "source": [
    "## while Loop"
   ]
  },
  {
   "cell_type": "code",
   "execution_count": 20,
   "id": "348b22d6-b4c3-4936-b2a4-6ced3d0887a6",
   "metadata": {},
   "outputs": [
    {
     "name": "stdout",
     "output_type": "stream",
     "text": [
      "1\n",
      "2\n",
      "3\n"
     ]
    }
   ],
   "source": [
    "i = 1\n",
    "while i <= 3:\n",
    "    print(i)\n",
    "    i += 1"
   ]
  },
  {
   "cell_type": "code",
   "execution_count": 14,
   "id": "70c3317c-3917-4d56-95c6-424ad777385f",
   "metadata": {
    "tags": []
   },
   "outputs": [
    {
     "name": "stdin",
     "output_type": "stream",
     "text": [
      "사용자 이름을 입력해주세요..! Evan\n"
     ]
    },
    {
     "name": "stdout",
     "output_type": "stream",
     "text": [
      "정확한 비밀번호가 필요합니다.\n"
     ]
    },
    {
     "name": "stdin",
     "output_type": "stream",
     "text": [
      "비밀번호를 입력해주세요..! 연세it\n"
     ]
    },
    {
     "name": "stdout",
     "output_type": "stream",
     "text": [
      "정확한 비밀번호가 필요합니다.\n"
     ]
    },
    {
     "name": "stdin",
     "output_type": "stream",
     "text": [
      "비밀번호를 입력해주세요..! 연세It\n"
     ]
    },
    {
     "name": "stdout",
     "output_type": "stream",
     "text": [
      "정확한 비밀번호가 필요합니다.\n"
     ]
    },
    {
     "name": "stdin",
     "output_type": "stream",
     "text": [
      "비밀번호를 입력해주세요..! 연세IT\n"
     ]
    },
    {
     "name": "stdout",
     "output_type": "stream",
     "text": [
      "Evan님 환영합니다\n"
     ]
    }
   ],
   "source": [
    "username = input(\"사용자 이름을 입력해주세요..!\")\n",
    "password = ''\n",
    "\n",
    "while password != '연세IT':\n",
    "    print('정확한 비밀번호가 필요합니다.')\n",
    "    password = input(\"비밀번호를 입력해주세요..!\")\n",
    "\n",
    "print(f'{username}님 환영합니다')"
   ]
  },
  {
   "cell_type": "markdown",
   "id": "ba1630ae-053b-4e9f-9050-2b4d3de7a103",
   "metadata": {},
   "source": [
    "## 사용자 정의 함수"
   ]
  },
  {
   "cell_type": "code",
   "execution_count": 25,
   "id": "fbf7f0c7-bbf5-46b9-9a02-06a0b743bd78",
   "metadata": {
    "tags": []
   },
   "outputs": [],
   "source": [
    "# https://www.tutorialsteacher.com/python/python-user-defined-function\n",
    "def hello():\n",
    "    \"\"\"이 함수는 'Hello World!'를 출력한다!\"\"\"\n",
    "    print(\"Hello World!\")"
   ]
  },
  {
   "cell_type": "code",
   "execution_count": 26,
   "id": "79140354-8aa1-4ef4-bc69-4fc5ab3f2918",
   "metadata": {
    "tags": []
   },
   "outputs": [
    {
     "name": "stdout",
     "output_type": "stream",
     "text": [
      "Hello World!\n"
     ]
    }
   ],
   "source": [
    "hello()"
   ]
  },
  {
   "cell_type": "code",
   "execution_count": 10,
   "id": "8f7519bf-7393-49b2-919f-78b25132171b",
   "metadata": {
    "tags": []
   },
   "outputs": [
    {
     "name": "stdout",
     "output_type": "stream",
     "text": [
      "Help on function hello in module __main__:\n",
      "\n",
      "hello()\n",
      "    이 함수는 'Hello World!'를 출력한다!\n",
      "\n"
     ]
    }
   ],
   "source": [
    "help(hello)"
   ]
  },
  {
   "cell_type": "code",
   "execution_count": 28,
   "id": "cbdaa0cd-a631-413e-a854-d758e6c32f60",
   "metadata": {
    "tags": []
   },
   "outputs": [],
   "source": [
    "def hello(name):\n",
    "    print(\"안녕!\", name)"
   ]
  },
  {
   "cell_type": "code",
   "execution_count": 29,
   "id": "afaecfa3-1243-46ec-9c60-eab443ce77fe",
   "metadata": {
    "tags": []
   },
   "outputs": [
    {
     "name": "stdout",
     "output_type": "stream",
     "text": [
      "안녕! Sarah\n"
     ]
    }
   ],
   "source": [
    "hello(\"Sarah\")"
   ]
  },
  {
   "cell_type": "code",
   "execution_count": 25,
   "id": "27b23c9d-22d2-47f5-90a7-428657bd3f6e",
   "metadata": {
    "tags": []
   },
   "outputs": [
    {
     "name": "stdout",
     "output_type": "stream",
     "text": [
      "안녕! 123\n"
     ]
    }
   ],
   "source": [
    "hello(123)"
   ]
  },
  {
   "cell_type": "code",
   "execution_count": 31,
   "id": "e3636a71-8c0c-4e12-af29-a47730fa3e57",
   "metadata": {
    "tags": []
   },
   "outputs": [],
   "source": [
    "def hello(name: str) -> None:\n",
    "    if not isinstance(name, str):\n",
    "        raise TypeError(\"Name must be a string.\")\n",
    "    print(f\"안녕, {name}!\")"
   ]
  },
  {
   "cell_type": "code",
   "execution_count": 32,
   "id": "ad29adea-3e6b-4802-a7ed-87f06b53bcdc",
   "metadata": {
    "tags": []
   },
   "outputs": [
    {
     "name": "stdout",
     "output_type": "stream",
     "text": [
      "안녕, Sarah!\n"
     ]
    },
    {
     "ename": "TypeError",
     "evalue": "Name must be a string.",
     "output_type": "error",
     "traceback": [
      "\u001b[1;31m---------------------------------------------------------------------------\u001b[0m",
      "\u001b[1;31mTypeError\u001b[0m                                 Traceback (most recent call last)",
      "\u001b[1;32m~\\AppData\\Local\\Temp\\ipykernel_16224\\2086311308.py\u001b[0m in \u001b[0;36m<module>\u001b[1;34m\u001b[0m\n\u001b[0;32m      1\u001b[0m \u001b[0mhello\u001b[0m\u001b[1;33m(\u001b[0m\u001b[1;34m\"Sarah\"\u001b[0m\u001b[1;33m)\u001b[0m\u001b[1;33m\u001b[0m\u001b[1;33m\u001b[0m\u001b[0m\n\u001b[1;32m----> 2\u001b[1;33m \u001b[0mhello\u001b[0m\u001b[1;33m(\u001b[0m\u001b[1;36m111\u001b[0m\u001b[1;33m)\u001b[0m\u001b[1;33m\u001b[0m\u001b[1;33m\u001b[0m\u001b[0m\n\u001b[0m",
      "\u001b[1;32m~\\AppData\\Local\\Temp\\ipykernel_16224\\1821164633.py\u001b[0m in \u001b[0;36mhello\u001b[1;34m(name)\u001b[0m\n\u001b[0;32m      1\u001b[0m \u001b[1;32mdef\u001b[0m \u001b[0mhello\u001b[0m\u001b[1;33m(\u001b[0m\u001b[0mname\u001b[0m\u001b[1;33m:\u001b[0m \u001b[0mstr\u001b[0m\u001b[1;33m)\u001b[0m \u001b[1;33m->\u001b[0m \u001b[1;32mNone\u001b[0m\u001b[1;33m:\u001b[0m\u001b[1;33m\u001b[0m\u001b[1;33m\u001b[0m\u001b[0m\n\u001b[0;32m      2\u001b[0m     \u001b[1;32mif\u001b[0m \u001b[1;32mnot\u001b[0m \u001b[0misinstance\u001b[0m\u001b[1;33m(\u001b[0m\u001b[0mname\u001b[0m\u001b[1;33m,\u001b[0m \u001b[0mstr\u001b[0m\u001b[1;33m)\u001b[0m\u001b[1;33m:\u001b[0m\u001b[1;33m\u001b[0m\u001b[1;33m\u001b[0m\u001b[0m\n\u001b[1;32m----> 3\u001b[1;33m         \u001b[1;32mraise\u001b[0m \u001b[0mTypeError\u001b[0m\u001b[1;33m(\u001b[0m\u001b[1;34m\"Name must be a string.\"\u001b[0m\u001b[1;33m)\u001b[0m\u001b[1;33m\u001b[0m\u001b[1;33m\u001b[0m\u001b[0m\n\u001b[0m\u001b[0;32m      4\u001b[0m     \u001b[0mprint\u001b[0m\u001b[1;33m(\u001b[0m\u001b[1;34mf\"안녕, {name}!\"\u001b[0m\u001b[1;33m)\u001b[0m\u001b[1;33m\u001b[0m\u001b[1;33m\u001b[0m\u001b[0m\n",
      "\u001b[1;31mTypeError\u001b[0m: Name must be a string."
     ]
    }
   ],
   "source": [
    "hello(\"Sarah\")\n",
    "hello(111)"
   ]
  },
  {
   "cell_type": "code",
   "execution_count": 1,
   "id": "0038c440-d848-492a-a204-e731de010fa9",
   "metadata": {
    "tags": []
   },
   "outputs": [
    {
     "name": "stdout",
     "output_type": "stream",
     "text": [
      "6\n"
     ]
    }
   ],
   "source": [
    "def add(a, b, c):\n",
    "    return a + b + c\n",
    "\n",
    "print(add(1, 2, 3))"
   ]
  },
  {
   "cell_type": "code",
   "execution_count": 2,
   "id": "9432ad8c-f953-451d-a957-83af5a997016",
   "metadata": {},
   "outputs": [
    {
     "ename": "TypeError",
     "evalue": "add() missing 1 required positional argument: 'c'",
     "output_type": "error",
     "traceback": [
      "\u001b[1;31m---------------------------------------------------------------------------\u001b[0m",
      "\u001b[1;31mTypeError\u001b[0m                                 Traceback (most recent call last)",
      "\u001b[1;32m~\\AppData\\Local\\Temp\\ipykernel_2836\\1396764233.py\u001b[0m in \u001b[0;36m<module>\u001b[1;34m\u001b[0m\n\u001b[1;32m----> 1\u001b[1;33m \u001b[0mprint\u001b[0m\u001b[1;33m(\u001b[0m\u001b[0madd\u001b[0m\u001b[1;33m(\u001b[0m\u001b[1;36m1\u001b[0m\u001b[1;33m,\u001b[0m \u001b[1;36m2\u001b[0m\u001b[1;33m)\u001b[0m\u001b[1;33m)\u001b[0m\u001b[1;33m\u001b[0m\u001b[1;33m\u001b[0m\u001b[0m\n\u001b[0m",
      "\u001b[1;31mTypeError\u001b[0m: add() missing 1 required positional argument: 'c'"
     ]
    }
   ],
   "source": [
    "print(add(1, 2))"
   ]
  },
  {
   "cell_type": "code",
   "execution_count": 6,
   "id": "a8a5546a-6eea-436f-aaed-f58ade67bcb2",
   "metadata": {},
   "outputs": [
    {
     "name": "stdout",
     "output_type": "stream",
     "text": [
      "(1, 2, 3) <class 'tuple'>\n"
     ]
    },
    {
     "data": {
      "text/plain": [
       "(1, 2, 3)"
      ]
     },
     "execution_count": 6,
     "metadata": {},
     "output_type": "execute_result"
    }
   ],
   "source": [
    "def add(*args):\n",
    "    print(args, type(args))\n",
    "    return args\n",
    "\n",
    "add(1, 2, 3)"
   ]
  },
  {
   "cell_type": "code",
   "execution_count": 17,
   "id": "606eda36-2cb3-4981-b9b4-19586942e756",
   "metadata": {},
   "outputs": [
    {
     "name": "stdout",
     "output_type": "stream",
     "text": [
      "3\n",
      "6\n",
      "10\n"
     ]
    }
   ],
   "source": [
    "def add(*args):\n",
    "    addition = 0\n",
    "    for number in args:\n",
    "        addition += number\n",
    "    return addition\n",
    "\n",
    "print(add(1, 2))\n",
    "print(add(1, 2, 3))\n",
    "print(add(1, 2, 3, 4))"
   ]
  },
  {
   "cell_type": "code",
   "execution_count": 18,
   "id": "c0bbaee5-49c5-4d4b-b9bf-2bd4e2320c09",
   "metadata": {},
   "outputs": [
    {
     "name": "stdout",
     "output_type": "stream",
     "text": [
      "3\n",
      "6\n",
      "10\n"
     ]
    }
   ],
   "source": [
    "def add(*args):\n",
    "    return sum(args)\n",
    "\n",
    "print(add(1, 2))\n",
    "print(add(1, 2, 3))\n",
    "print(add(1, 2, 3, 4))"
   ]
  },
  {
   "cell_type": "code",
   "execution_count": 20,
   "id": "cb8ca8b5-932d-4c46-8242-f08727c9c330",
   "metadata": {},
   "outputs": [
    {
     "name": "stdout",
     "output_type": "stream",
     "text": [
      "name Sarah\n",
      "age 30\n",
      "city Seoul\n"
     ]
    }
   ],
   "source": [
    "def temp(**kwargs):\n",
    "    for key, value in kwargs.items():\n",
    "        print(key, value)\n",
    "\n",
    "temp(name=\"Sarah\", age=30, city=\"Seoul\")"
   ]
  },
  {
   "cell_type": "code",
   "execution_count": 31,
   "id": "ad66996a-7734-47d4-84ce-4afb0fb20aa6",
   "metadata": {},
   "outputs": [
    {
     "name": "stdout",
     "output_type": "stream",
     "text": [
      "Love is patient, love is kind, It does not envy, \n"
     ]
    }
   ],
   "source": [
    "def whatIsLove(**kwargs):\n",
    "    result = \"\"\n",
    "    for arg in kwargs.values():\n",
    "        result += arg + \", \"\n",
    "    return result\n",
    "\n",
    "print(whatIsLove(a=\"Love is patient\", \n",
    "                 b=\"love is kind\", \n",
    "                 c=\"It does not envy\"))"
   ]
  }
 ],
 "metadata": {
  "kernelspec": {
   "display_name": "Python 3 (ipykernel)",
   "language": "python",
   "name": "python3"
  },
  "language_info": {
   "codemirror_mode": {
    "name": "ipython",
    "version": 3
   },
   "file_extension": ".py",
   "mimetype": "text/x-python",
   "name": "python",
   "nbconvert_exporter": "python",
   "pygments_lexer": "ipython3",
   "version": "3.10.10"
  }
 },
 "nbformat": 4,
 "nbformat_minor": 5
}
